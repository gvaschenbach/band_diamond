{
 "cells": [
  {
   "cell_type": "markdown",
   "metadata": {},
   "source": [
    "# Project: Section 4 | Classification | Creditworthiness"
   ]
  },
  {
   "cell_type": "markdown",
   "metadata": {},
   "source": [
    "## Course: Business Analyst Nanodegree\n",
    "## Student: Peter Jones\n",
    "## Date: 2018.04.09"
   ]
  },
  {
   "cell_type": "markdown",
   "metadata": {},
   "source": [
    "----"
   ]
  },
  {
   "cell_type": "markdown",
   "metadata": {},
   "source": [
    "## Step 1: Business understanding"
   ]
  },
  {
   "cell_type": "markdown",
   "metadata": {},
   "source": [
    "### What decision needs to be made?\n",
    "The decision to be made here is to determine how many creditworthy customers exist in a list of new loan applications."
   ]
  },
  {
   "cell_type": "markdown",
   "metadata": {},
   "source": [
    "### What data is needed to make this decision?\n",
    "To build a model to assist in making this decision, data is needed on as many past loan approvals as possible, with as mmuch data on the customers as is feasible to collect and the outcome of whether the customer ended up being creditworthy or not."
   ]
  },
  {
   "cell_type": "markdown",
   "metadata": {},
   "source": [
    "### What kind of model (Continuous, Binary, Non-Binary, Time-Series) do we need to use to help make these decisions?\n",
    "The outcome variable for these data is a binary value of creditworthy or not, so we would create binary models to help make this decision."
   ]
  },
  {
   "cell_type": "markdown",
   "metadata": {},
   "source": [
    "## Step 2: Building the training set"
   ]
  },
  {
   "cell_type": "code",
   "execution_count": 3,
   "metadata": {},
   "outputs": [],
   "source": [
    "df.train.raw <- readxl::read_excel( '../data/classification/credit-data-training.xlsx' )\n",
    "df.test.raw <- readxl::read_excel( '../data/classification/customers-to-score.xlsx')"
   ]
  },
  {
   "cell_type": "code",
   "execution_count": 4,
   "metadata": {},
   "outputs": [],
   "source": [
    "names( df.train.raw ) <- c( \"application_result_txt\"\n",
    "                           , \"acct_balance_txt\"\n",
    "                           , \"months_of_credit_no\"\n",
    "                           , \"prev_payment_status_txt\"\n",
    "                           , \"purpose_txt\"\n",
    "                           , \"credit_amt_no\"\n",
    "                           , \"savings_stocks_val_no\"\n",
    "                           , \"curr_employment_length_no\"\n",
    "                           , \"installment_perc_no\"\n",
    "                           , \"guarantors_txt\"\n",
    "                           , \"curr_address_dur_no\"\n",
    "                           , \"most_val_asset_cd\"\n",
    "                           , \"age_no\"\n",
    "                           , \"concurrent_credits_txt\"\n",
    "                           , \"apartment_type_txt\"\n",
    "                           , \"credits_at_bank_no\"\n",
    "                           , \"occupation_txt\"\n",
    "                           , \"dependents_no\"\n",
    "                           , \"telephone_txt\"\n",
    "                           , \"foreign_worker_flg\" )"
   ]
  },
  {
   "cell_type": "code",
   "execution_count": 5,
   "metadata": {},
   "outputs": [],
   "source": [
    "df.train.raw <- transform(  df.train.raw\n",
    "                          , application_result_txt = factor( application_result_txt ) \n",
    "                          , acct_balance_txt = factor( acct_balance_txt )\n",
    "                          , months_of_credit_no = months_of_credit_no\n",
    "                          , prev_payment_status_txt = factor( prev_payment_status_txt )\n",
    "                          , purpose_txt = factor( purpose_txt )\n",
    "                          , credit_amt_no = credit_amt_no\n",
    "                          , savings_stocks_val_no = factor( savings_stocks_val_no )\n",
    "                          , curr_employment_length_no = factor( curr_employment_length_no )\n",
    "                          , installment_perc_no = installment_perc_no\n",
    "                          , guarantors_txt = factor( guarantors_txt )\n",
    "                          , curr_address_dur_no = curr_address_dur_no\n",
    "                          , most_val_asset_cd = factor( most_val_asset_cd )\n",
    "                          , age_no = age_no\n",
    "                          , concurrent_credits_txt = factor( concurrent_credits_txt )\n",
    "                          , apartment_type_txt = factor( apartment_type_txt )\n",
    "                          , credits_at_bank_no = factor( credits_at_bank_no )\n",
    "                          , occupation_txt = factor( occupation_txt )\n",
    "                          , dependents_no = dependents_no\n",
    "                          , telephone_txt = factor( telephone_txt )\n",
    "                          , foreign_worker_flg = factor( foreign_worker_flg )\n",
    "                         )"
   ]
  },
  {
   "cell_type": "code",
   "execution_count": 6,
   "metadata": {},
   "outputs": [],
   "source": [
    "facvar <- c( \"application_result_txt\"\n",
    "           , \"acct_balance_txt\"\n",
    "           , \"prev_payment_status_txt\"\n",
    "           , \"purpose_txt\"\n",
    "           , \"savings_stocks_val_no\"\n",
    "           , \"curr_employment_length_no\"\n",
    "           , \"guarantors_txt\"\n",
    "           , \"most_val_asset_cd\"\n",
    "           , \"concurrent_credits_txt\"\n",
    "           , \"apartment_type_txt\"\n",
    "           , \"credits_at_bank_no\"\n",
    "           , \"occupation_txt\"\n",
    "           , \"telephone_txt\"\n",
    "           , \"foreign_worker_flg\" )"
   ]
  },
  {
   "cell_type": "code",
   "execution_count": 8,
   "metadata": {},
   "outputs": [],
   "source": [
    "convar <- c( \"months_of_credit_no\"\n",
    "           , \"credit_amt_no\"\n",
    "           , \"installment_perc_no\"\n",
    "           , \"curr_address_dur_no\"\n",
    "           , \"age_no\"\n",
    "           , \"dependents_no\" )"
   ]
  },
  {
   "cell_type": "markdown",
   "metadata": {},
   "source": [
    "### Are any of your numerical data fields highly-correlated with each other?"
   ]
  },
  {
   "cell_type": "code",
   "execution_count": 9,
   "metadata": {},
   "outputs": [
    {
     "name": "stderr",
     "output_type": "stream",
     "text": [
      "Loading required package: PerformanceAnalytics\n",
      "Warning message:\n",
      "\"package 'PerformanceAnalytics' was built under R version 3.4.4\"Loading required package: xts\n",
      "Warning message:\n",
      "\"package 'xts' was built under R version 3.4.4\"Loading required package: zoo\n",
      "Warning message:\n",
      "\"package 'zoo' was built under R version 3.4.4\"\n",
      "Attaching package: 'zoo'\n",
      "\n",
      "The following objects are masked from 'package:base':\n",
      "\n",
      "    as.Date, as.Date.numeric\n",
      "\n",
      "\n",
      "Attaching package: 'PerformanceAnalytics'\n",
      "\n",
      "The following object is masked from 'package:graphics':\n",
      "\n",
      "    legend\n",
      "\n"
     ]
    },
    {
     "data": {
      "image/png": "[encoded data removed]",
      "text/plain": [
       "Plot with title \"\""
      ]
     },
     "metadata": {},
     "output_type": "display_data"
    }
   ],
   "source": [
    "require( PerformanceAnalytics )\n",
    "chart.Correlation( df.train.raw[,convar])"
   ]
  },
  {
   "cell_type": "markdown",
   "metadata": {},
   "source": [
    "#### No variables reach the .7 threshold of being highly correlated, so all retained."
   ]
  },
  {
   "cell_type": "markdown",
   "metadata": {},
   "source": [
    "### Are there any missing data for each of the data fields?"
   ]
  },
  {
   "cell_type": "code",
   "execution_count": 13,
   "metadata": {},
   "outputs": [
    {
     "data": {
      "image/png": "[encoded data removed]",
      "text/plain": [
       "Plot with title \"Missingness Map\""
      ]
     },
     "metadata": {},
     "output_type": "display_data"
    }
   ],
   "source": [
    "library( Amelia )\n",
    "missmap( df.train.raw )"
   ]
  },
  {
   "cell_type": "markdown",
   "metadata": {},
   "source": [
    "#### Removing address_dur_no due to missingness."
   ]
  },
  {
   "cell_type": "code",
   "execution_count": 14,
   "metadata": {},
   "outputs": [
    {
     "name": "stderr",
     "output_type": "stream",
     "text": [
      "Warning message:\n",
      "\"package 'tidyverse' was built under R version 3.4.4\"-- Attaching packages --------------------------------------- tidyverse 1.2.1 --\n",
      "v ggplot2 2.2.1     v purrr   0.2.4\n",
      "v tibble  1.4.2     v dplyr   0.7.4\n",
      "v tidyr   0.8.0     v stringr 1.3.0\n",
      "v readr   1.1.1     v forcats 0.3.0\n",
      "-- Conflicts ------------------------------------------ tidyverse_conflicts() --\n",
      "x dplyr::filter() masks stats::filter()\n",
      "x dplyr::first()  masks xts::first()\n",
      "x dplyr::lag()    masks stats::lag()\n",
      "x dplyr::last()   masks xts::last()\n"
     ]
    }
   ],
   "source": [
    "library( tidyverse )\n",
    "\n",
    "df.train.raw <- select( df.train.raw, -curr_address_dur_no )"
   ]
  },
  {
   "cell_type": "markdown",
   "metadata": {},
   "source": [
    "#### Impute missing values for age_no as median"
   ]
  },
  {
   "cell_type": "code",
   "execution_count": 15,
   "metadata": {},
   "outputs": [],
   "source": [
    "df.train.raw[is.na( df.train.raw$age_no ),]$age_no <- median( df.train.raw$age_no, na.rm = TRUE )"
   ]
  },
  {
   "cell_type": "markdown",
   "metadata": {},
   "source": [
    "### Are there only a few values in a subset of your data field? Does the data field look very uniform (there is only one value for the entire field?)."
   ]
  },
  {
   "cell_type": "code",
   "execution_count": 16,
   "metadata": {},
   "outputs": [
    {
     "name": "stderr",
     "output_type": "stream",
     "text": [
      "\n",
      "Attaching package: 'reshape2'\n",
      "\n",
      "The following object is masked from 'package:tidyr':\n",
      "\n",
      "    smiths\n",
      "\n",
      "Warning message:\n",
      "\"attributes are not identical across measure variables; they will be dropped\""
     ]
    }
   ],
   "source": [
    "library( reshape2 )\n",
    "fac.check <- melt( df.train.raw[,facvar], 1 )"
   ]
  },
  {
   "cell_type": "code",
   "execution_count": 17,
   "metadata": {},
   "outputs": [
    {
     "data": {},
     "metadata": {},
     "output_type": "display_data"
    },
    {
     "data": {
      "image/png": "[encoded data removed]",
      "text/plain": [
       "plot without title"
      ]
     },
     "metadata": {},
     "output_type": "display_data"
    }
   ],
   "source": [
    "ggplot( fac.check, aes( x = value ) ) +\n",
    "    geom_bar() +\n",
    "    facet_wrap( ~variable, scales = \"free_x\" ) +\n",
    "    theme_classic()"
   ]
  },
  {
   "cell_type": "markdown",
   "metadata": {},
   "source": [
    "Removing occupation_txt, concurrent_credits_txt, guarantors_txt, and foreign_worker_flg due to low variablility."
   ]
  },
  {
   "cell_type": "code",
   "execution_count": 18,
   "metadata": {},
   "outputs": [],
   "source": [
    "df.train.raw <- df.train.raw %>%\n",
    "    select( -occupation_txt ) %>%\n",
    "    select( -concurrent_credits_txt ) %>%\n",
    "    select( -guarantors_txt ) %>%\n",
    "    select( -foreign_worker_flg )"
   ]
  },
  {
   "cell_type": "markdown",
   "metadata": {},
   "source": [
    "### Checking age value against the course information"
   ]
  },
  {
   "cell_type": "code",
   "execution_count": 19,
   "metadata": {},
   "outputs": [
    {
     "data": {
      "text/html": [
       "36"
      ],
      "text/latex": [
       "36"
      ],
      "text/markdown": [
       "36"
      ],
      "text/plain": [
       "[1] 36"
      ]
     },
     "metadata": {},
     "output_type": "display_data"
    }
   ],
   "source": [
    "round( mean( df.train.raw$age_no, na.rm = TRUE ) )"
   ]
  },
  {
   "cell_type": "markdown",
   "metadata": {},
   "source": [
    "#### Data looks clean, though I have 15 columns where the course information says to have 13."
   ]
  },
  {
   "cell_type": "markdown",
   "metadata": {},
   "source": [
    "## Step 3: Train classification models"
   ]
  },
  {
   "cell_type": "markdown",
   "metadata": {},
   "source": [
    "### Create training and validation sets"
   ]
  },
  {
   "cell_type": "code",
   "execution_count": 22,
   "metadata": {},
   "outputs": [
    {
     "name": "stderr",
     "output_type": "stream",
     "text": [
      "Warning message:\n",
      "\"package 'caret' was built under R version 3.4.4\"Loading required package: lattice\n",
      "\n",
      "Attaching package: 'caret'\n",
      "\n",
      "The following object is masked from 'package:purrr':\n",
      "\n",
      "    lift\n",
      "\n"
     ]
    }
   ],
   "source": [
    "library( caret )"
   ]
  },
  {
   "cell_type": "code",
   "execution_count": 23,
   "metadata": {},
   "outputs": [],
   "source": [
    "set.seed( 1 )"
   ]
  },
  {
   "cell_type": "code",
   "execution_count": 24,
   "metadata": {},
   "outputs": [],
   "source": [
    "train <- createDataPartition( df.train.raw$application_result_txt\n",
    "                             , times = 1\n",
    "                             , p = 0.7\n",
    "                             , list = FALSE )"
   ]
  },
  {
   "cell_type": "code",
   "execution_count": 25,
   "metadata": {},
   "outputs": [],
   "source": [
    "df.train <- df.train.raw[train,]"
   ]
  },
  {
   "cell_type": "code",
   "execution_count": 26,
   "metadata": {},
   "outputs": [],
   "source": [
    "df.val <- df.train.raw[-train,]"
   ]
  },
  {
   "cell_type": "markdown",
   "metadata": {},
   "source": [
    "### Logistic regression"
   ]
  },
  {
   "cell_type": "markdown",
   "metadata": {},
   "source": [
    "### TODO: Need to fix this logistic regression model, only 25% accuracy"
   ]
  },
  {
   "cell_type": "code",
   "execution_count": 27,
   "metadata": {},
   "outputs": [],
   "source": [
    "fit.glm.full <- glm( application_result_txt\n",
    "              ~ .\n",
    "              , data = df.train\n",
    "              , family = binomial )"
   ]
  },
  {
   "cell_type": "code",
   "execution_count": 28,
   "metadata": {},
   "outputs": [
    {
     "data": {
      "text/plain": [
       "\n",
       "Call:\n",
       "glm(formula = application_result_txt ~ ., family = binomial, \n",
       "    data = df.train)\n",
       "\n",
       "Deviance Residuals: \n",
       "    Min       1Q   Median       3Q      Max  \n",
       "-1.9043  -0.7365  -0.4670   0.7198   2.3250  \n",
       "\n",
       "Coefficients:\n",
       "                                       Estimate Std. Error z value Pr(>|z|)    \n",
       "(Intercept)                          -3.352e+00  1.049e+00  -3.196  0.00139 ** \n",
       "acct_balance_txtSome Balance         -1.325e+00  3.190e-01  -4.152 3.29e-05 ***\n",
       "months_of_credit_no                   8.341e-03  1.383e-02   0.603  0.54645    \n",
       "prev_payment_status_txtPaid Up        4.149e-01  4.078e-01   1.017  0.30892    \n",
       "prev_payment_status_txtSome Problems  1.534e+00  5.621e-01   2.728  0.00637 ** \n",
       "purpose_txtNew car                   -1.632e+00  6.094e-01  -2.677  0.00742 ** \n",
       "purpose_txtOther                     -1.077e+00  9.387e-01  -1.148  0.25115    \n",
       "purpose_txtUsed car                  -6.820e-01  4.026e-01  -1.694  0.09026 .  \n",
       "credit_amt_no                         1.447e-04  7.194e-05   2.011  0.04432 *  \n",
       "savings_stocks_val_no< £100          -3.677e-01  5.514e-01  -0.667  0.50491    \n",
       "savings_stocks_val_noNone             4.919e-01  3.360e-01   1.464  0.14320    \n",
       "curr_employment_length_no1-4 yrs     -5.544e-01  3.774e-01  -1.469  0.14181    \n",
       "curr_employment_length_no4-7 yrs     -5.201e-02  3.775e-01  -0.138  0.89041    \n",
       "installment_perc_no                   3.700e-01  1.452e-01   2.549  0.01080 *  \n",
       "most_val_asset_cd2                    7.943e-01  4.192e-01   1.895  0.05814 .  \n",
       "most_val_asset_cd3                    6.277e-01  3.917e-01   1.602  0.10905    \n",
       "most_val_asset_cd4                    1.318e+00  6.544e-01   2.013  0.04409 *  \n",
       "age_no                               -9.411e-03  1.391e-02  -0.677  0.49868    \n",
       "apartment_type_txt2                  -1.030e-02  3.770e-01  -0.027  0.97819    \n",
       "apartment_type_txt3                  -2.703e-01  7.436e-01  -0.364  0.71620    \n",
       "credits_at_bank_noMore than 1         2.663e-01  4.074e-01   0.654  0.51334    \n",
       "dependents_no                         5.017e-01  4.053e-01   1.238  0.21572    \n",
       "telephone_txt2                       -1.201e-01  3.060e-01  -0.393  0.69455    \n",
       "---\n",
       "Signif. codes:  0 '***' 0.001 '**' 0.01 '*' 0.05 '.' 0.1 ' ' 1\n",
       "\n",
       "(Dispersion parameter for binomial family taken to be 1)\n",
       "\n",
       "    Null deviance: 419.46  on 350  degrees of freedom\n",
       "Residual deviance: 332.32  on 328  degrees of freedom\n",
       "AIC: 378.32\n",
       "\n",
       "Number of Fisher Scoring iterations: 5\n"
      ]
     },
     "metadata": {},
     "output_type": "display_data"
    }
   ],
   "source": [
    "summary( fit.glm.full )"
   ]
  },
  {
   "cell_type": "code",
   "execution_count": 29,
   "metadata": {},
   "outputs": [],
   "source": [
    "fit.glm.red <- glm( application_result_txt\n",
    "              ~ acct_balance_txt\n",
    "              + prev_payment_status_txt\n",
    "                + purpose_txt\n",
    "                + credit_amt_no\n",
    "                + installment_perc_no\n",
    "                + most_val_asset_cd\n",
    "              , data = df.train\n",
    "              , family = binomial )"
   ]
  },
  {
   "cell_type": "code",
   "execution_count": 30,
   "metadata": {},
   "outputs": [
    {
     "data": {
      "text/plain": [
       "\n",
       "Call:\n",
       "glm(formula = application_result_txt ~ acct_balance_txt + prev_payment_status_txt + \n",
       "    purpose_txt + credit_amt_no + installment_perc_no + most_val_asset_cd, \n",
       "    family = binomial, data = df.train)\n",
       "\n",
       "Deviance Residuals: \n",
       "    Min       1Q   Median       3Q      Max  \n",
       "-2.0802  -0.7411  -0.4996   0.7425   2.3685  \n",
       "\n",
       "Coefficients:\n",
       "                                        Estimate  Std. Error z value   Pr(>|z|)\n",
       "(Intercept)                          -2.57344075  0.60367899  -4.263 0.00002018\n",
       "acct_balance_txtSome Balance         -1.34361665  0.29711854  -4.522 0.00000612\n",
       "prev_payment_status_txtPaid Up        0.25427137  0.29511946   0.862    0.38891\n",
       "prev_payment_status_txtSome Problems  1.43514840  0.52784569   2.719    0.00655\n",
       "purpose_txtNew car                   -1.51435766  0.58175349  -2.603    0.00924\n",
       "purpose_txtOther                     -1.07142241  0.92569724  -1.157    0.24710\n",
       "purpose_txtUsed car                  -0.57071910  0.38178626  -1.495    0.13495\n",
       "credit_amt_no                         0.00015418  0.00005616   2.746    0.00604\n",
       "installment_perc_no                   0.34459294  0.13591342   2.535    0.01123\n",
       "most_val_asset_cd2                    0.74461585  0.40529418   1.837    0.06618\n",
       "most_val_asset_cd3                    0.60896878  0.37408799   1.628    0.10355\n",
       "most_val_asset_cd4                    1.02315438  0.45667157   2.240    0.02506\n",
       "                                        \n",
       "(Intercept)                          ***\n",
       "acct_balance_txtSome Balance         ***\n",
       "prev_payment_status_txtPaid Up          \n",
       "prev_payment_status_txtSome Problems ** \n",
       "purpose_txtNew car                   ** \n",
       "purpose_txtOther                        \n",
       "purpose_txtUsed car                     \n",
       "credit_amt_no                        ** \n",
       "installment_perc_no                  *  \n",
       "most_val_asset_cd2                   .  \n",
       "most_val_asset_cd3                      \n",
       "most_val_asset_cd4                   *  \n",
       "---\n",
       "Signif. codes:  0 '***' 0.001 '**' 0.01 '*' 0.05 '.' 0.1 ' ' 1\n",
       "\n",
       "(Dispersion parameter for binomial family taken to be 1)\n",
       "\n",
       "    Null deviance: 419.46  on 350  degrees of freedom\n",
       "Residual deviance: 342.91  on 339  degrees of freedom\n",
       "AIC: 366.91\n",
       "\n",
       "Number of Fisher Scoring iterations: 5\n"
      ]
     },
     "metadata": {},
     "output_type": "display_data"
    }
   ],
   "source": [
    "options( scipen = 10)\n",
    "summary( fit.glm.red )"
   ]
  },
  {
   "cell_type": "code",
   "execution_count": 45,
   "metadata": {},
   "outputs": [],
   "source": [
    "df.val$pred <- predict( fit.glm.red\n",
    "                       , df.val\n",
    "                       , type = 'response' )"
   ]
  },
  {
   "cell_type": "code",
   "execution_count": 46,
   "metadata": {},
   "outputs": [],
   "source": [
    "df.val<- within( df.val, {\n",
    "    pred[pred >= 0.5] = 'Creditworthy'\n",
    "    pred[pred< 0.5] = 'Non-Creditworthy'\n",
    "})\n",
    "df.val$pred <- factor( df.val$pred )"
   ]
  },
  {
   "cell_type": "code",
   "execution_count": 49,
   "metadata": {},
   "outputs": [
    {
     "data": {
      "text/plain": [
       "Confusion Matrix and Statistics\n",
       "\n",
       "                  Reference\n",
       "Prediction         Creditworthy Non-Creditworthy\n",
       "  Creditworthy                8               99\n",
       "  Non-Creditworthy           12               30\n",
       "                                          \n",
       "               Accuracy : 0.255           \n",
       "                 95% CI : (0.1872, 0.3328)\n",
       "    No Information Rate : 0.8658          \n",
       "    P-Value [Acc > NIR] : 1               \n",
       "                                          \n",
       "                  Kappa : -0.1295         \n",
       " Mcnemar's Test P-Value : 3.275e-16       \n",
       "                                          \n",
       "            Sensitivity : 0.40000         \n",
       "            Specificity : 0.23256         \n",
       "         Pos Pred Value : 0.07477         \n",
       "         Neg Pred Value : 0.71429         \n",
       "             Prevalence : 0.13423         \n",
       "         Detection Rate : 0.05369         \n",
       "   Detection Prevalence : 0.71812         \n",
       "      Balanced Accuracy : 0.31628         \n",
       "                                          \n",
       "       'Positive' Class : Creditworthy    \n",
       "                                          "
      ]
     },
     "metadata": {},
     "output_type": "display_data"
    }
   ],
   "source": [
    "confusionMatrix( df.val$application_result_txt\n",
    "                , df.val$pred )"
   ]
  },
  {
   "cell_type": "markdown",
   "metadata": {},
   "source": [
    "### Decision tree model"
   ]
  },
  {
   "cell_type": "code",
   "execution_count": 50,
   "metadata": {},
   "outputs": [],
   "source": [
    "library( rpart )\n",
    "fit.dt <- rpart( application_result_txt \n",
    "     ~ .\n",
    "     , data = df.train )"
   ]
  },
  {
   "cell_type": "code",
   "execution_count": 53,
   "metadata": {},
   "outputs": [
    {
     "name": "stderr",
     "output_type": "stream",
     "text": [
      "Warning message:\n",
      "\"package 'rpart.plot' was built under R version 3.4.4\""
     ]
    },
    {
     "data": {
      "image/png": "[encoded data removed]",
      "text/plain": [
       "plot without title"
      ]
     },
     "metadata": {},
     "output_type": "display_data"
    }
   ],
   "source": [
    "library( rpart.plot )\n",
    "rpart.plot( fit.dt )"
   ]
  },
  {
   "cell_type": "code",
   "execution_count": 55,
   "metadata": {},
   "outputs": [],
   "source": [
    "df.val$pred <- predict( fit.dt\n",
    "       , df.val\n",
    "       , type = 'class')"
   ]
  },
  {
   "cell_type": "code",
   "execution_count": 56,
   "metadata": {},
   "outputs": [
    {
     "data": {
      "text/plain": [
       "Confusion Matrix and Statistics\n",
       "\n",
       "                  Reference\n",
       "Prediction         Creditworthy Non-Creditworthy\n",
       "  Creditworthy               97               10\n",
       "  Non-Creditworthy           30               12\n",
       "                                          \n",
       "               Accuracy : 0.7315          \n",
       "                 95% CI : (0.6529, 0.8008)\n",
       "    No Information Rate : 0.8523          \n",
       "    P-Value [Acc > NIR] : 0.999958        \n",
       "                                          \n",
       "                  Kappa : 0.2248          \n",
       " Mcnemar's Test P-Value : 0.002663        \n",
       "                                          \n",
       "            Sensitivity : 0.7638          \n",
       "            Specificity : 0.5455          \n",
       "         Pos Pred Value : 0.9065          \n",
       "         Neg Pred Value : 0.2857          \n",
       "             Prevalence : 0.8523          \n",
       "         Detection Rate : 0.6510          \n",
       "   Detection Prevalence : 0.7181          \n",
       "      Balanced Accuracy : 0.6546          \n",
       "                                          \n",
       "       'Positive' Class : Creditworthy    \n",
       "                                          "
      ]
     },
     "metadata": {},
     "output_type": "display_data"
    }
   ],
   "source": [
    "confusionMatrix( df.val$application_result_txt\n",
    "               , df.val$pred )"
   ]
  },
  {
   "cell_type": "markdown",
   "metadata": {},
   "source": [
    "### Forest model"
   ]
  },
  {
   "cell_type": "code",
   "execution_count": 59,
   "metadata": {},
   "outputs": [
    {
     "name": "stderr",
     "output_type": "stream",
     "text": [
      "Warning message:\n",
      "\"package 'randomForest' was built under R version 3.4.4\"randomForest 4.6-14\n",
      "Type rfNews() to see new features/changes/bug fixes.\n",
      "\n",
      "Attaching package: 'randomForest'\n",
      "\n",
      "The following object is masked from 'package:dplyr':\n",
      "\n",
      "    combine\n",
      "\n",
      "The following object is masked from 'package:ggplot2':\n",
      "\n",
      "    margin\n",
      "\n"
     ]
    }
   ],
   "source": [
    "library(randomForest)"
   ]
  },
  {
   "cell_type": "code",
   "execution_count": 60,
   "metadata": {},
   "outputs": [],
   "source": [
    "fit.rf <- randomForest( application_result_txt\n",
    "            ~ .\n",
    "            , data = df.train )"
   ]
  },
  {
   "cell_type": "code",
   "execution_count": 63,
   "metadata": {},
   "outputs": [
    {
     "ename": "ERROR",
     "evalue": "Error in library(reprtree): there is no package called 'reprtree'\n",
     "execution_count": 63,
     "output_type": "error",
     "traceback": [
      "Error in library(reprtree): there is no package called 'reprtree'\nTraceback:\n",
      "1. library(reprtree)",
      "2. stop(txt, domain = NA)"
     ]
    }
   ],
   "source": [
    "library( reprtree )"
   ]
  },
  {
   "cell_type": "code",
   "execution_count": 64,
   "metadata": {},
   "outputs": [
    {
     "data": {
      "image/png": "[encoded data removed]",
      "text/plain": [
       "Plot with title \"fit.rf\""
      ]
     },
     "metadata": {},
     "output_type": "display_data"
    }
   ],
   "source": [
    "plot( fit.rf )"
   ]
  },
  {
   "cell_type": "code",
   "execution_count": 65,
   "metadata": {},
   "outputs": [],
   "source": [
    "df.val$pred <- predict( fit.rf\n",
    "       , df.val )"
   ]
  },
  {
   "cell_type": "code",
   "execution_count": 66,
   "metadata": {},
   "outputs": [
    {
     "data": {
      "text/plain": [
       "Confusion Matrix and Statistics\n",
       "\n",
       "                  Reference\n",
       "Prediction         Creditworthy Non-Creditworthy\n",
       "  Creditworthy              101                6\n",
       "  Non-Creditworthy           28               14\n",
       "                                         \n",
       "               Accuracy : 0.7718         \n",
       "                 95% CI : (0.696, 0.8365)\n",
       "    No Information Rate : 0.8658         \n",
       "    P-Value [Acc > NIR] : 0.9993965      \n",
       "                                         \n",
       "                  Kappa : 0.3297         \n",
       " Mcnemar's Test P-Value : 0.0003164      \n",
       "                                         \n",
       "            Sensitivity : 0.7829         \n",
       "            Specificity : 0.7000         \n",
       "         Pos Pred Value : 0.9439         \n",
       "         Neg Pred Value : 0.3333         \n",
       "             Prevalence : 0.8658         \n",
       "         Detection Rate : 0.6779         \n",
       "   Detection Prevalence : 0.7181         \n",
       "      Balanced Accuracy : 0.7415         \n",
       "                                         \n",
       "       'Positive' Class : Creditworthy   \n",
       "                                         "
      ]
     },
     "metadata": {},
     "output_type": "display_data"
    }
   ],
   "source": [
    "confusionMatrix( df.val$application_result_txt\n",
    "               , df.val$pred )"
   ]
  },
  {
   "cell_type": "code",
   "execution_count": 67,
   "metadata": {},
   "outputs": [
    {
     "data": {
      "image/png": "[encoded data removed]",
      "text/plain": [
       "Plot with title \"fit.rf\""
      ]
     },
     "metadata": {},
     "output_type": "display_data"
    }
   ],
   "source": [
    "varImpPlot( fit.rf )"
   ]
  },
  {
   "cell_type": "markdown",
   "metadata": {},
   "source": [
    "### Boosted tree model"
   ]
  },
  {
   "cell_type": "code",
   "execution_count": 70,
   "metadata": {},
   "outputs": [
    {
     "name": "stderr",
     "output_type": "stream",
     "text": [
      "Warning message:\n",
      "\"package 'gbm' was built under R version 3.4.4\"Loading required package: survival\n",
      "\n",
      "Attaching package: 'survival'\n",
      "\n",
      "The following object is masked from 'package:caret':\n",
      "\n",
      "    cluster\n",
      "\n",
      "Loading required package: splines\n",
      "Loading required package: parallel\n",
      "Loaded gbm 2.1.3\n"
     ]
    }
   ],
   "source": [
    "library( gbm )"
   ]
  },
  {
   "cell_type": "code",
   "execution_count": 80,
   "metadata": {},
   "outputs": [],
   "source": [
    "fit.bm <- gbm( as.numeric( application_result_txt ) - 1\n",
    "             ~ .\n",
    "             , data = df.train\n",
    "             , distribution = 'bernoulli'\n",
    "             , n.trees = 70\n",
    "             , interaction.depth = 5\n",
    "             , shrinkage = 0.3\n",
    "             , bag.fraction = 0.5\n",
    "             , train.fraction = 1.0\n",
    "             , n.cores = NULL)  #will use all cores by default"
   ]
  },
  {
   "cell_type": "code",
   "execution_count": 95,
   "metadata": {},
   "outputs": [],
   "source": [
    "df.val$pred <- predict.gbm( fit.bm\n",
    "       , df.val\n",
    "       , n.trees = 70\n",
    "       , type = 'response' )"
   ]
  },
  {
   "cell_type": "code",
   "execution_count": 96,
   "metadata": {},
   "outputs": [],
   "source": [
    "df.val$bm.pred <- as.numeric( df.val$pred >= 0.4 )"
   ]
  },
  {
   "cell_type": "code",
   "execution_count": 97,
   "metadata": {},
   "outputs": [],
   "source": [
    "df.val <- within( df.val, {\n",
    "    pred[bm.pred == 1] = 'Non-creditworthy'\n",
    "    pred[bm.pred == 0] = 'Creditworthy'\n",
    "})\n",
    "df.val$pred <- factor( df.val$pred )"
   ]
  },
  {
   "cell_type": "code",
   "execution_count": 98,
   "metadata": {},
   "outputs": [
    {
     "data": {
      "text/html": [
       "<table>\n",
       "<thead><tr><th></th><th scope=col>var</th><th scope=col>rel.inf</th></tr></thead>\n",
       "<tbody>\n",
       "\t<tr><th scope=row>credit_amt_no</th><td>credit_amt_no            </td><td>28.393491                </td></tr>\n",
       "\t<tr><th scope=row>months_of_credit_no</th><td>months_of_credit_no      </td><td>12.523641                </td></tr>\n",
       "\t<tr><th scope=row>age_no</th><td>age_no                   </td><td>12.391485                </td></tr>\n",
       "\t<tr><th scope=row>most_val_asset_cd</th><td>most_val_asset_cd        </td><td> 8.539800                </td></tr>\n",
       "\t<tr><th scope=row>prev_payment_status_txt</th><td>prev_payment_status_txt  </td><td> 5.989796                </td></tr>\n",
       "\t<tr><th scope=row>acct_balance_txt</th><td>acct_balance_txt         </td><td> 5.613026                </td></tr>\n",
       "\t<tr><th scope=row>purpose_txt</th><td>purpose_txt              </td><td> 4.944472                </td></tr>\n",
       "\t<tr><th scope=row>installment_perc_no</th><td>installment_perc_no      </td><td> 4.819444                </td></tr>\n",
       "\t<tr><th scope=row>savings_stocks_val_no</th><td>savings_stocks_val_no    </td><td> 4.613965                </td></tr>\n",
       "\t<tr><th scope=row>curr_employment_length_no</th><td>curr_employment_length_no</td><td> 3.463146                </td></tr>\n",
       "\t<tr><th scope=row>telephone_txt</th><td>telephone_txt            </td><td> 3.186234                </td></tr>\n",
       "\t<tr><th scope=row>credits_at_bank_no</th><td>credits_at_bank_no       </td><td> 2.579440                </td></tr>\n",
       "\t<tr><th scope=row>dependents_no</th><td>dependents_no            </td><td> 1.743174                </td></tr>\n",
       "\t<tr><th scope=row>apartment_type_txt</th><td>apartment_type_txt       </td><td> 1.198888                </td></tr>\n",
       "</tbody>\n",
       "</table>\n"
      ],
      "text/latex": [
       "\\begin{tabular}{r|ll}\n",
       "  & var & rel.inf\\\\\n",
       "\\hline\n",
       "\tcredit\\_amt\\_no & credit\\_amt\\_no             & 28.393491                    \\\\\n",
       "\tmonths\\_of\\_credit\\_no & months\\_of\\_credit\\_no       & 12.523641                      \\\\\n",
       "\tage\\_no & age\\_no                    & 12.391485                  \\\\\n",
       "\tmost\\_val\\_asset\\_cd & most\\_val\\_asset\\_cd         &  8.539800                      \\\\\n",
       "\tprev\\_payment\\_status\\_txt & prev\\_payment\\_status\\_txt   &  5.989796                      \\\\\n",
       "\tacct\\_balance\\_txt & acct\\_balance\\_txt          &  5.613026                    \\\\\n",
       "\tpurpose\\_txt & purpose\\_txt               &  4.944472                  \\\\\n",
       "\tinstallment\\_perc\\_no & installment\\_perc\\_no       &  4.819444                    \\\\\n",
       "\tsavings\\_stocks\\_val\\_no & savings\\_stocks\\_val\\_no     &  4.613965                      \\\\\n",
       "\tcurr\\_employment\\_length\\_no & curr\\_employment\\_length\\_no &  3.463146                      \\\\\n",
       "\ttelephone\\_txt & telephone\\_txt             &  3.186234                  \\\\\n",
       "\tcredits\\_at\\_bank\\_no & credits\\_at\\_bank\\_no        &  2.579440                      \\\\\n",
       "\tdependents\\_no & dependents\\_no             &  1.743174                  \\\\\n",
       "\tapartment\\_type\\_txt & apartment\\_type\\_txt        &  1.198888                    \\\\\n",
       "\\end{tabular}\n"
      ],
      "text/markdown": [
       "\n",
       "| <!--/--> | var | rel.inf | \n",
       "|---|---|---|---|---|---|---|---|---|---|---|---|---|---|\n",
       "| credit_amt_no | credit_amt_no             | 28.393491                 | \n",
       "| months_of_credit_no | months_of_credit_no       | 12.523641                 | \n",
       "| age_no | age_no                    | 12.391485                 | \n",
       "| most_val_asset_cd | most_val_asset_cd         |  8.539800                 | \n",
       "| prev_payment_status_txt | prev_payment_status_txt   |  5.989796                 | \n",
       "| acct_balance_txt | acct_balance_txt          |  5.613026                 | \n",
       "| purpose_txt | purpose_txt               |  4.944472                 | \n",
       "| installment_perc_no | installment_perc_no       |  4.819444                 | \n",
       "| savings_stocks_val_no | savings_stocks_val_no     |  4.613965                 | \n",
       "| curr_employment_length_no | curr_employment_length_no |  3.463146                 | \n",
       "| telephone_txt | telephone_txt             |  3.186234                 | \n",
       "| credits_at_bank_no | credits_at_bank_no        |  2.579440                 | \n",
       "| dependents_no | dependents_no             |  1.743174                 | \n",
       "| apartment_type_txt | apartment_type_txt        |  1.198888                 | \n",
       "\n",
       "\n"
      ],
      "text/plain": [
       "                          var                       rel.inf  \n",
       "credit_amt_no             credit_amt_no             28.393491\n",
       "months_of_credit_no       months_of_credit_no       12.523641\n",
       "age_no                    age_no                    12.391485\n",
       "most_val_asset_cd         most_val_asset_cd          8.539800\n",
       "prev_payment_status_txt   prev_payment_status_txt    5.989796\n",
       "acct_balance_txt          acct_balance_txt           5.613026\n",
       "purpose_txt               purpose_txt                4.944472\n",
       "installment_perc_no       installment_perc_no        4.819444\n",
       "savings_stocks_val_no     savings_stocks_val_no      4.613965\n",
       "curr_employment_length_no curr_employment_length_no  3.463146\n",
       "telephone_txt             telephone_txt              3.186234\n",
       "credits_at_bank_no        credits_at_bank_no         2.579440\n",
       "dependents_no             dependents_no              1.743174\n",
       "apartment_type_txt        apartment_type_txt         1.198888"
      ]
     },
     "metadata": {},
     "output_type": "display_data"
    },
    {
     "data": {
      "image/png": "[encoded data removed]",
      "text/plain": [
       "plot without title"
      ]
     },
     "metadata": {},
     "output_type": "display_data"
    }
   ],
   "source": [
    "summary( fit.bm )"
   ]
  },
  {
   "cell_type": "code",
   "execution_count": 104,
   "metadata": {},
   "outputs": [],
   "source": [
    "cm <- cbind(df.val$application_result_txt, df.val$pred)"
   ]
  },
  {
   "cell_type": "code",
   "execution_count": 105,
   "metadata": {},
   "outputs": [
    {
     "data": {
      "text/plain": [
       "Confusion Matrix and Statistics\n",
       "\n",
       "          Reference\n",
       "Prediction  1  2\n",
       "         1 90 17\n",
       "         2 20 22\n",
       "                                          \n",
       "               Accuracy : 0.7517          \n",
       "                 95% CI : (0.6743, 0.8187)\n",
       "    No Information Rate : 0.7383          \n",
       "    P-Value [Acc > NIR] : 0.3953          \n",
       "                                          \n",
       "                  Kappa : 0.373           \n",
       " Mcnemar's Test P-Value : 0.7423          \n",
       "                                          \n",
       "            Sensitivity : 0.8182          \n",
       "            Specificity : 0.5641          \n",
       "         Pos Pred Value : 0.8411          \n",
       "         Neg Pred Value : 0.5238          \n",
       "             Prevalence : 0.7383          \n",
       "         Detection Rate : 0.6040          \n",
       "   Detection Prevalence : 0.7181          \n",
       "      Balanced Accuracy : 0.6911          \n",
       "                                          \n",
       "       'Positive' Class : 1               \n",
       "                                          "
      ]
     },
     "metadata": {},
     "output_type": "display_data"
    }
   ],
   "source": [
    "confusionMatrix( cm[,1], cm[,2] )"
   ]
  },
  {
   "cell_type": "markdown",
   "metadata": {},
   "source": [
    "### Compare the 4 models"
   ]
  },
  {
   "cell_type": "markdown",
   "metadata": {},
   "source": [
    "## Report"
   ]
  },
  {
   "cell_type": "markdown",
   "metadata": {},
   "source": [
    "Random forest has the highest accuracy at 77%."
   ]
  }
 ],
 "metadata": {
  "kernelspec": {
   "display_name": "R",
   "language": "R",
   "name": "ir"
  },
  "language_info": {
   "codemirror_mode": "r",
   "file_extension": ".r",
   "mimetype": "text/x-r-source",
   "name": "R",
   "pygments_lexer": "r",
   "version": "3.4.3"
  }
 },
 "nbformat": 4,
 "nbformat_minor": 2
}
