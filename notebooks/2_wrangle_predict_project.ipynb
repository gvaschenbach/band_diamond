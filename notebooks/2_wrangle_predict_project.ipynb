{
 "cells": [
  {
   "cell_type": "markdown",
   "metadata": {},
   "source": [
    "## Business understanding"
   ]
  },
  {
   "cell_type": "markdown",
   "metadata": {},
   "source": [
    "### What decisions need to be made?\n",
    "The decision to be made is which city in Wyoming should be chosen for the next Pawdacity store.\n",
    "The criteria are:\n",
    "- The new store must be located in a city without a current store\n",
    "- Total sales for the competition should be less than \\$500,000\n",
    "- The new store must be located in a city with a population less then 4000 based on the 2014 census estimate\n",
    "- Predicted yearly sales must be over \\$200,000\n",
    "- The city chosen should have the hightest predicted sales within the criteria"
   ]
  },
  {
   "cell_type": "markdown",
   "metadata": {},
   "source": [
    "### What data is needed to make these decisions?\n",
    "- Demographic data including 2010 and 2014 census data\n",
    "- Pawdacity sales data for each store in Wyoming\n",
    "- Competition sales data for each store in Wyoming"
   ]
  },
  {
   "cell_type": "markdown",
   "metadata": {},
   "source": [
    "### Libraries"
   ]
  },
  {
   "cell_type": "code",
   "execution_count": 1,
   "metadata": {},
   "outputs": [
    {
     "name": "stderr",
     "output_type": "stream",
     "text": [
      "── Attaching packages ─────────────────────────────────────── tidyverse 1.2.1 ──\n",
      "✔ ggplot2 2.2.1     ✔ purrr   0.2.4\n",
      "✔ tibble  1.3.4     ✔ dplyr   0.7.4\n",
      "✔ tidyr   0.7.2     ✔ stringr 1.2.0\n",
      "✔ readr   1.1.1     ✔ forcats 0.2.0\n",
      "── Conflicts ────────────────────────────────────────── tidyverse_conflicts() ──\n",
      "✖ dplyr::filter() masks stats::filter()\n",
      "✖ dplyr::lag()    masks stats::lag()\n",
      "Loading required package: xts\n",
      "Loading required package: zoo\n",
      "\n",
      "Attaching package: ‘zoo’\n",
      "\n",
      "The following objects are masked from ‘package:base’:\n",
      "\n",
      "    as.Date, as.Date.numeric\n",
      "\n",
      "\n",
      "Attaching package: ‘xts’\n",
      "\n",
      "The following objects are masked from ‘package:dplyr’:\n",
      "\n",
      "    first, last\n",
      "\n",
      "\n",
      "Attaching package: ‘PerformanceAnalytics’\n",
      "\n",
      "The following object is masked from ‘package:graphics’:\n",
      "\n",
      "    legend\n",
      "\n"
     ]
    }
   ],
   "source": [
    "library( tidyverse )\n",
    "library( broom )\n",
    "library( PerformanceAnalytics )"
   ]
  },
  {
   "cell_type": "markdown",
   "metadata": {},
   "source": [
    "### Functions"
   ]
  },
  {
   "cell_type": "code",
   "execution_count": 2,
   "metadata": {},
   "outputs": [],
   "source": [
    "cleanFun <- function(htmlString) {\n",
    "  return(gsub(\"<.*?>\", \"\", htmlString))\n",
    "}\n",
    "\n",
    "'%!in%' <- function(x,y)!('%in%'(x,y))"
   ]
  },
  {
   "cell_type": "markdown",
   "metadata": {},
   "source": [
    "### Data"
   ]
  },
  {
   "cell_type": "code",
   "execution_count": 3,
   "metadata": {},
   "outputs": [],
   "source": [
    "df.comp <- read.csv( '../data/raw/p2-wy-453910-naics-data.csv' )\n",
    "df.demo <- read.csv( '../data/raw/p2-wy-demographic-data.csv' )\n",
    "df.pop <- read.csv( '../data/raw/p2-partially-parsed-wy-web-scrape.csv' )\n",
    "df.sales <- read.csv( '../data/raw/p2-2010-pawdacity-monthly-sales-p2-2010-pawdacity-monthly-sales.csv' )"
   ]
  },
  {
   "cell_type": "markdown",
   "metadata": {},
   "source": [
    "### Clean population webscrape data"
   ]
  },
  {
   "cell_type": "code",
   "execution_count": 4,
   "metadata": {},
   "outputs": [],
   "source": [
    "df.pop <- df.pop[,c(1,3,4)]"
   ]
  },
  {
   "cell_type": "code",
   "execution_count": 5,
   "metadata": {},
   "outputs": [],
   "source": [
    "names( df.pop ) <- c( 'City.County', 'pop_2010_no', 'pop_2014_est' )"
   ]
  },
  {
   "cell_type": "code",
   "execution_count": 6,
   "metadata": {},
   "outputs": [],
   "source": [
    "df.pop$pop_2010_no <- cleanFun( df.pop$pop_2010_no )\n",
    "df.pop$pop_2014_est <- cleanFun( df.pop$pop_2014_est )"
   ]
  },
  {
   "cell_type": "code",
   "execution_count": 7,
   "metadata": {},
   "outputs": [],
   "source": [
    "df.pop$pop_2010_no <- gsub( '-', '', df.pop$pop_2010_no )\n",
    "df.pop$pop_2014_est <- gsub( '-', '', df.pop$pop_2014_est )"
   ]
  },
  {
   "cell_type": "code",
   "execution_count": 8,
   "metadata": {},
   "outputs": [],
   "source": [
    "df.pop$pop_2010_no <- gsub( ',', '', df.pop$pop_2010_no )\n",
    "df.pop$pop_2014_est <- gsub( ',', '', df.pop$pop_2014_est )"
   ]
  },
  {
   "cell_type": "code",
   "execution_count": 9,
   "metadata": {},
   "outputs": [],
   "source": [
    "df.pop$City <- substr( df.pop$City.County, 0, gregexpr(pattern ='\\\\|', df.pop$City.County ) )"
   ]
  },
  {
   "cell_type": "code",
   "execution_count": 10,
   "metadata": {},
   "outputs": [],
   "source": [
    "df.pop$City <- gsub( '\\\\|', '', df.pop$City )"
   ]
  },
  {
   "cell_type": "code",
   "execution_count": 11,
   "metadata": {},
   "outputs": [],
   "source": [
    "df.pop$City <- gsub( '\\\\?', '', df.pop$City )"
   ]
  },
  {
   "cell_type": "code",
   "execution_count": 12,
   "metadata": {},
   "outputs": [],
   "source": [
    "df.pop$City <- trimws( df.pop$City, 'right' )"
   ]
  },
  {
   "cell_type": "code",
   "execution_count": 13,
   "metadata": {},
   "outputs": [],
   "source": [
    "df.pop[df.pop$pop_2010_no == '1285[4]',]$pop_2010_no <- 1285"
   ]
  },
  {
   "cell_type": "code",
   "execution_count": 14,
   "metadata": {},
   "outputs": [],
   "source": [
    "df.pop[df.pop$pop_2010_no == '366[5]',]$pop_2010_no <- 366"
   ]
  },
  {
   "cell_type": "code",
   "execution_count": 15,
   "metadata": {},
   "outputs": [],
   "source": [
    "df.pop <- df.pop[,c(4, 2, 3)]"
   ]
  },
  {
   "cell_type": "code",
   "execution_count": 16,
   "metadata": {},
   "outputs": [],
   "source": [
    "df.pop <- df.pop[df.pop$pop_2010_no != '',]"
   ]
  },
  {
   "cell_type": "code",
   "execution_count": 17,
   "metadata": {},
   "outputs": [],
   "source": [
    "df.pop$pop_2010_no <- as.numeric( df.pop$pop_2010_no )\n",
    "df.pop$pop_2014_est <- as.numeric( df.pop$pop_2014_est )"
   ]
  },
  {
   "cell_type": "code",
   "execution_count": 18,
   "metadata": {},
   "outputs": [
    {
     "data": {
      "text/html": [
       "<table>\n",
       "<thead><tr><th scope=col>City</th><th scope=col>pop_2010_no</th><th scope=col>pop_2014_est</th></tr></thead>\n",
       "<tbody>\n",
       "\t<tr><td>Afton     </td><td>1911      </td><td>1818      </td></tr>\n",
       "\t<tr><td>Albin     </td><td> 181      </td><td> 120      </td></tr>\n",
       "\t<tr><td>Alpine    </td><td> 828      </td><td> 550      </td></tr>\n",
       "\t<tr><td>Baggs     </td><td> 440      </td><td> 348      </td></tr>\n",
       "\t<tr><td>Bairoil   </td><td> 106      </td><td>  97      </td></tr>\n",
       "\t<tr><td>Bar Nunn  </td><td>2213      </td><td> 936      </td></tr>\n",
       "\t<tr><td>Basin     </td><td>1285      </td><td>1238      </td></tr>\n",
       "\t<tr><td>Bear River</td><td> 518      </td><td>  NA      </td></tr>\n",
       "\t<tr><td>Big Piney </td><td> 552      </td><td> 408      </td></tr>\n",
       "\t<tr><td>Buffalo   </td><td>4585      </td><td>3900      </td></tr>\n",
       "</tbody>\n",
       "</table>\n"
      ],
      "text/latex": [
       "\\begin{tabular}{r|lll}\n",
       " City & pop\\_2010\\_no & pop\\_2014\\_est\\\\\n",
       "\\hline\n",
       "\t Afton      & 1911       & 1818      \\\\\n",
       "\t Albin      &  181       &  120      \\\\\n",
       "\t Alpine     &  828       &  550      \\\\\n",
       "\t Baggs      &  440       &  348      \\\\\n",
       "\t Bairoil    &  106       &   97      \\\\\n",
       "\t Bar Nunn   & 2213       &  936      \\\\\n",
       "\t Basin      & 1285       & 1238      \\\\\n",
       "\t Bear River &  518       &   NA      \\\\\n",
       "\t Big Piney  &  552       &  408      \\\\\n",
       "\t Buffalo    & 4585       & 3900      \\\\\n",
       "\\end{tabular}\n"
      ],
      "text/markdown": [
       "\n",
       "City | pop_2010_no | pop_2014_est | \n",
       "|---|---|---|---|---|---|---|---|---|---|\n",
       "| Afton      | 1911       | 1818       | \n",
       "| Albin      |  181       |  120       | \n",
       "| Alpine     |  828       |  550       | \n",
       "| Baggs      |  440       |  348       | \n",
       "| Bairoil    |  106       |   97       | \n",
       "| Bar Nunn   | 2213       |  936       | \n",
       "| Basin      | 1285       | 1238       | \n",
       "| Bear River |  518       |   NA       | \n",
       "| Big Piney  |  552       |  408       | \n",
       "| Buffalo    | 4585       | 3900       | \n",
       "\n",
       "\n"
      ],
      "text/plain": [
       "   City       pop_2010_no pop_2014_est\n",
       "1  Afton      1911        1818        \n",
       "2  Albin       181         120        \n",
       "3  Alpine      828         550        \n",
       "4  Baggs       440         348        \n",
       "5  Bairoil     106          97        \n",
       "6  Bar Nunn   2213         936        \n",
       "7  Basin      1285        1238        \n",
       "8  Bear River  518          NA        \n",
       "9  Big Piney   552         408        \n",
       "10 Buffalo    4585        3900        "
      ]
     },
     "metadata": {},
     "output_type": "display_data"
    }
   ],
   "source": [
    "head( df.pop, 10 )"
   ]
  },
  {
   "cell_type": "code",
   "execution_count": 19,
   "metadata": {},
   "outputs": [],
   "source": [
    "df.comb <- df.pop"
   ]
  },
  {
   "cell_type": "code",
   "execution_count": 20,
   "metadata": {},
   "outputs": [],
   "source": [
    "names( df.comb ) <- c( 'city_nm', 'pop_2010_no', 'pop_2014_est' )"
   ]
  },
  {
   "cell_type": "markdown",
   "metadata": {},
   "source": [
    "### Split the dataset"
   ]
  },
  {
   "cell_type": "markdown",
   "metadata": {},
   "source": [
    "#### Select out the training set by filtering for cities with stores"
   ]
  },
  {
   "cell_type": "code",
   "execution_count": 21,
   "metadata": {},
   "outputs": [],
   "source": [
    "cities <- df.sales$CITY"
   ]
  },
  {
   "cell_type": "code",
   "execution_count": 22,
   "metadata": {},
   "outputs": [],
   "source": [
    "df.train <- filter( df.comb, df.comb$city_nm %in% cities )"
   ]
  },
  {
   "cell_type": "code",
   "execution_count": 23,
   "metadata": {},
   "outputs": [
    {
     "data": {
      "text/html": [
       "<table>\n",
       "<thead><tr><th scope=col>city_nm</th><th scope=col>pop_2010_no</th><th scope=col>pop_2014_est</th></tr></thead>\n",
       "<tbody>\n",
       "\t<tr><td>Buffalo     </td><td> 4585       </td><td> 3900       </td></tr>\n",
       "\t<tr><td>Casper      </td><td>35316       </td><td>32644       </td></tr>\n",
       "\t<tr><td>Cheyenne    </td><td>59466       </td><td>53011       </td></tr>\n",
       "\t<tr><td>Cody        </td><td> 9520       </td><td> 8835       </td></tr>\n",
       "\t<tr><td>Douglas     </td><td> 6120       </td><td> 5288       </td></tr>\n",
       "\t<tr><td>Evanston    </td><td>12359       </td><td>11507       </td></tr>\n",
       "\t<tr><td>Gillette    </td><td>29087       </td><td>19646       </td></tr>\n",
       "\t<tr><td>Powell      </td><td> 6314       </td><td> 5373       </td></tr>\n",
       "\t<tr><td>Riverton    </td><td>10615       </td><td> 9310       </td></tr>\n",
       "\t<tr><td>Rock Springs</td><td>23036       </td><td>18708       </td></tr>\n",
       "\t<tr><td>Sheridan    </td><td>17444       </td><td>15804       </td></tr>\n",
       "</tbody>\n",
       "</table>\n"
      ],
      "text/latex": [
       "\\begin{tabular}{r|lll}\n",
       " city\\_nm & pop\\_2010\\_no & pop\\_2014\\_est\\\\\n",
       "\\hline\n",
       "\t Buffalo      &  4585        &  3900       \\\\\n",
       "\t Casper       & 35316        & 32644       \\\\\n",
       "\t Cheyenne     & 59466        & 53011       \\\\\n",
       "\t Cody         &  9520        &  8835       \\\\\n",
       "\t Douglas      &  6120        &  5288       \\\\\n",
       "\t Evanston     & 12359        & 11507       \\\\\n",
       "\t Gillette     & 29087        & 19646       \\\\\n",
       "\t Powell       &  6314        &  5373       \\\\\n",
       "\t Riverton     & 10615        &  9310       \\\\\n",
       "\t Rock Springs & 23036        & 18708       \\\\\n",
       "\t Sheridan     & 17444        & 15804       \\\\\n",
       "\\end{tabular}\n"
      ],
      "text/markdown": [
       "\n",
       "city_nm | pop_2010_no | pop_2014_est | \n",
       "|---|---|---|---|---|---|---|---|---|---|---|\n",
       "| Buffalo      |  4585        |  3900        | \n",
       "| Casper       | 35316        | 32644        | \n",
       "| Cheyenne     | 59466        | 53011        | \n",
       "| Cody         |  9520        |  8835        | \n",
       "| Douglas      |  6120        |  5288        | \n",
       "| Evanston     | 12359        | 11507        | \n",
       "| Gillette     | 29087        | 19646        | \n",
       "| Powell       |  6314        |  5373        | \n",
       "| Riverton     | 10615        |  9310        | \n",
       "| Rock Springs | 23036        | 18708        | \n",
       "| Sheridan     | 17444        | 15804        | \n",
       "\n",
       "\n"
      ],
      "text/plain": [
       "   city_nm      pop_2010_no pop_2014_est\n",
       "1  Buffalo       4585        3900       \n",
       "2  Casper       35316       32644       \n",
       "3  Cheyenne     59466       53011       \n",
       "4  Cody          9520        8835       \n",
       "5  Douglas       6120        5288       \n",
       "6  Evanston     12359       11507       \n",
       "7  Gillette     29087       19646       \n",
       "8  Powell        6314        5373       \n",
       "9  Riverton     10615        9310       \n",
       "10 Rock Springs 23036       18708       \n",
       "11 Sheridan     17444       15804       "
      ]
     },
     "metadata": {},
     "output_type": "display_data"
    }
   ],
   "source": [
    "df.train"
   ]
  },
  {
   "cell_type": "code",
   "execution_count": 24,
   "metadata": {},
   "outputs": [],
   "source": [
    "df.pred <- filter( df.comb, df.comb$city_nm %!in% cities )"
   ]
  },
  {
   "cell_type": "code",
   "execution_count": 25,
   "metadata": {},
   "outputs": [
    {
     "data": {
      "text/html": [
       "<table>\n",
       "<thead><tr><th scope=col>city_nm</th><th scope=col>pop_2010_no</th><th scope=col>pop_2014_est</th></tr></thead>\n",
       "<tbody>\n",
       "\t<tr><td>Afton   </td><td>1911    </td><td>1818    </td></tr>\n",
       "\t<tr><td>Albin   </td><td> 181    </td><td> 120    </td></tr>\n",
       "\t<tr><td>Alpine  </td><td> 828    </td><td> 550    </td></tr>\n",
       "\t<tr><td>Baggs   </td><td> 440    </td><td> 348    </td></tr>\n",
       "\t<tr><td>Bairoil </td><td> 106    </td><td>  97    </td></tr>\n",
       "\t<tr><td>Bar Nunn</td><td>2213    </td><td> 936    </td></tr>\n",
       "</tbody>\n",
       "</table>\n"
      ],
      "text/latex": [
       "\\begin{tabular}{r|lll}\n",
       " city\\_nm & pop\\_2010\\_no & pop\\_2014\\_est\\\\\n",
       "\\hline\n",
       "\t Afton    & 1911     & 1818    \\\\\n",
       "\t Albin    &  181     &  120    \\\\\n",
       "\t Alpine   &  828     &  550    \\\\\n",
       "\t Baggs    &  440     &  348    \\\\\n",
       "\t Bairoil  &  106     &   97    \\\\\n",
       "\t Bar Nunn & 2213     &  936    \\\\\n",
       "\\end{tabular}\n"
      ],
      "text/markdown": [
       "\n",
       "city_nm | pop_2010_no | pop_2014_est | \n",
       "|---|---|---|---|---|---|\n",
       "| Afton    | 1911     | 1818     | \n",
       "| Albin    |  181     |  120     | \n",
       "| Alpine   |  828     |  550     | \n",
       "| Baggs    |  440     |  348     | \n",
       "| Bairoil  |  106     |   97     | \n",
       "| Bar Nunn | 2213     |  936     | \n",
       "\n",
       "\n"
      ],
      "text/plain": [
       "  city_nm  pop_2010_no pop_2014_est\n",
       "1 Afton    1911        1818        \n",
       "2 Albin     181         120        \n",
       "3 Alpine    828         550        \n",
       "4 Baggs     440         348        \n",
       "5 Bairoil   106          97        \n",
       "6 Bar Nunn 2213         936        "
      ]
     },
     "metadata": {},
     "output_type": "display_data"
    }
   ],
   "source": [
    "head( df.pred )"
   ]
  },
  {
   "cell_type": "markdown",
   "metadata": {},
   "source": [
    "#### Join sales data for each city"
   ]
  },
  {
   "cell_type": "code",
   "execution_count": 26,
   "metadata": {},
   "outputs": [],
   "source": [
    "df.sales$city_nm <- df.sales$CITY"
   ]
  },
  {
   "cell_type": "code",
   "execution_count": 27,
   "metadata": {},
   "outputs": [
    {
     "name": "stderr",
     "output_type": "stream",
     "text": [
      "Warning message:\n",
      "“Column `city_nm` joining character vector and factor, coercing into character vector”"
     ]
    }
   ],
   "source": [
    "df.train <- left_join( df.train, df.sales, by = 'city_nm' )"
   ]
  },
  {
   "cell_type": "code",
   "execution_count": 28,
   "metadata": {},
   "outputs": [
    {
     "data": {
      "text/html": [
       "<table>\n",
       "<thead><tr><th scope=col>city_nm</th><th scope=col>pop_2010_no</th><th scope=col>pop_2014_est</th><th scope=col>NAME</th><th scope=col>ADDRESS</th><th scope=col>CITY</th><th scope=col>STATE</th><th scope=col>ZIP</th><th scope=col>January</th><th scope=col>February</th><th scope=col>March</th><th scope=col>April</th><th scope=col>May</th><th scope=col>June</th><th scope=col>July</th><th scope=col>August</th><th scope=col>September</th><th scope=col>October</th><th scope=col>November</th><th scope=col>December</th></tr></thead>\n",
       "<tbody>\n",
       "\t<tr><td>Buffalo                     </td><td> 4585                       </td><td> 3900                       </td><td>Pawdacity                   </td><td>509 Fort St # A             </td><td>Buffalo                     </td><td>WY                          </td><td>82834                       </td><td>16200                       </td><td>13392                       </td><td>14688                       </td><td>17064                       </td><td>18360                       </td><td>14040                       </td><td>12960                       </td><td>19224                       </td><td>15984                       </td><td>13392                       </td><td>13176                       </td><td>16848                       </td></tr>\n",
       "\t<tr><td>Casper                      </td><td>35316                       </td><td>32644                       </td><td>Pawdacity                   </td><td>601 SE Wyoming Blvd Unit 252</td><td>Casper                      </td><td>WY                          </td><td>82609                       </td><td>29160                       </td><td>21600                       </td><td>27000                       </td><td>27648                       </td><td>29160                       </td><td>27216                       </td><td>25488                       </td><td>25704                       </td><td>22896                       </td><td>25272                       </td><td>28944                       </td><td>27648                       </td></tr>\n",
       "\t<tr><td>Cheyenne                    </td><td>59466                       </td><td>53011                       </td><td>Pawdacity                   </td><td>3769 E Lincolnway           </td><td>Cheyenne                    </td><td>WY                          </td><td>82001                       </td><td>79920                       </td><td>70632                       </td><td>79056                       </td><td>77544                       </td><td>73656                       </td><td>77976                       </td><td>73872                       </td><td>77544                       </td><td>78516                       </td><td>74520                       </td><td>74736                       </td><td>79920                       </td></tr>\n",
       "\t<tr><td>Cody                        </td><td> 9520                       </td><td> 8835                       </td><td>Pawdacity                   </td><td>2625 Big Horn Ave           </td><td>Cody                        </td><td>WY                          </td><td>82414                       </td><td>19440                       </td><td>15984                       </td><td>19008                       </td><td>18144                       </td><td>16632                       </td><td>17496                       </td><td>18792                       </td><td>20304                       </td><td>19224                       </td><td>18144                       </td><td>18576                       </td><td>16632                       </td></tr>\n",
       "\t<tr><td>Douglas                     </td><td> 6120                       </td><td> 5288                       </td><td>Pawdacity                   </td><td>123 S 2nd St                </td><td>Douglas                     </td><td>WY                          </td><td>82633                       </td><td>16200                       </td><td>13392                       </td><td>14688                       </td><td>17064                       </td><td>18360                       </td><td>14040                       </td><td>12960                       </td><td>19224                       </td><td>15984                       </td><td>29808                       </td><td>17496                       </td><td>18792                       </td></tr>\n",
       "\t<tr><td>Evanston                    </td><td>12359                       </td><td>11507                       </td><td>Pawdacity                   </td><td>932 Main St                 </td><td>Evanston                    </td><td>WY                          </td><td>82930                       </td><td>24840                       </td><td>21168                       </td><td>21600                       </td><td>22248                       </td><td>24192                       </td><td>24624                       </td><td>25488                       </td><td>25704                       </td><td>22032                       </td><td>21168                       </td><td>25920                       </td><td>24840                       </td></tr>\n",
       "</tbody>\n",
       "</table>\n"
      ],
      "text/latex": [
       "\\begin{tabular}{r|llllllllllllllllllll}\n",
       " city\\_nm & pop\\_2010\\_no & pop\\_2014\\_est & NAME & ADDRESS & CITY & STATE & ZIP & January & February & March & April & May & June & July & August & September & October & November & December\\\\\n",
       "\\hline\n",
       "\t Buffalo                        &  4585                          &  3900                          & Pawdacity                      & 509 Fort St \\# A              & Buffalo                        & WY                             & 82834                          & 16200                          & 13392                          & 14688                          & 17064                          & 18360                          & 14040                          & 12960                          & 19224                          & 15984                          & 13392                          & 13176                          & 16848                         \\\\\n",
       "\t Casper                       & 35316                        & 32644                        & Pawdacity                    & 601 SE Wyoming Blvd Unit 252 & Casper                       & WY                           & 82609                        & 29160                        & 21600                        & 27000                        & 27648                        & 29160                        & 27216                        & 25488                        & 25704                        & 22896                        & 25272                        & 28944                        & 27648                       \\\\\n",
       "\t Cheyenne                     & 59466                        & 53011                        & Pawdacity                    & 3769 E Lincolnway            & Cheyenne                     & WY                           & 82001                        & 79920                        & 70632                        & 79056                        & 77544                        & 73656                        & 77976                        & 73872                        & 77544                        & 78516                        & 74520                        & 74736                        & 79920                       \\\\\n",
       "\t Cody                         &  9520                        &  8835                        & Pawdacity                    & 2625 Big Horn Ave            & Cody                         & WY                           & 82414                        & 19440                        & 15984                        & 19008                        & 18144                        & 16632                        & 17496                        & 18792                        & 20304                        & 19224                        & 18144                        & 18576                        & 16632                       \\\\\n",
       "\t Douglas                      &  6120                        &  5288                        & Pawdacity                    & 123 S 2nd St                 & Douglas                      & WY                           & 82633                        & 16200                        & 13392                        & 14688                        & 17064                        & 18360                        & 14040                        & 12960                        & 19224                        & 15984                        & 29808                        & 17496                        & 18792                       \\\\\n",
       "\t Evanston                     & 12359                        & 11507                        & Pawdacity                    & 932 Main St                  & Evanston                     & WY                           & 82930                        & 24840                        & 21168                        & 21600                        & 22248                        & 24192                        & 24624                        & 25488                        & 25704                        & 22032                        & 21168                        & 25920                        & 24840                       \\\\\n",
       "\\end{tabular}\n"
      ],
      "text/markdown": [
       "\n",
       "city_nm | pop_2010_no | pop_2014_est | NAME | ADDRESS | CITY | STATE | ZIP | January | February | March | April | May | June | July | August | September | October | November | December | \n",
       "|---|---|---|---|---|---|\n",
       "| Buffalo                      |  4585                        |  3900                        | Pawdacity                    | 509 Fort St # A              | Buffalo                      | WY                           | 82834                        | 16200                        | 13392                        | 14688                        | 17064                        | 18360                        | 14040                        | 12960                        | 19224                        | 15984                        | 13392                        | 13176                        | 16848                        | \n",
       "| Casper                       | 35316                        | 32644                        | Pawdacity                    | 601 SE Wyoming Blvd Unit 252 | Casper                       | WY                           | 82609                        | 29160                        | 21600                        | 27000                        | 27648                        | 29160                        | 27216                        | 25488                        | 25704                        | 22896                        | 25272                        | 28944                        | 27648                        | \n",
       "| Cheyenne                     | 59466                        | 53011                        | Pawdacity                    | 3769 E Lincolnway            | Cheyenne                     | WY                           | 82001                        | 79920                        | 70632                        | 79056                        | 77544                        | 73656                        | 77976                        | 73872                        | 77544                        | 78516                        | 74520                        | 74736                        | 79920                        | \n",
       "| Cody                         |  9520                        |  8835                        | Pawdacity                    | 2625 Big Horn Ave            | Cody                         | WY                           | 82414                        | 19440                        | 15984                        | 19008                        | 18144                        | 16632                        | 17496                        | 18792                        | 20304                        | 19224                        | 18144                        | 18576                        | 16632                        | \n",
       "| Douglas                      |  6120                        |  5288                        | Pawdacity                    | 123 S 2nd St                 | Douglas                      | WY                           | 82633                        | 16200                        | 13392                        | 14688                        | 17064                        | 18360                        | 14040                        | 12960                        | 19224                        | 15984                        | 29808                        | 17496                        | 18792                        | \n",
       "| Evanston                     | 12359                        | 11507                        | Pawdacity                    | 932 Main St                  | Evanston                     | WY                           | 82930                        | 24840                        | 21168                        | 21600                        | 22248                        | 24192                        | 24624                        | 25488                        | 25704                        | 22032                        | 21168                        | 25920                        | 24840                        | \n",
       "\n",
       "\n"
      ],
      "text/plain": [
       "  city_nm  pop_2010_no pop_2014_est NAME      ADDRESS                     \n",
       "1 Buffalo   4585        3900        Pawdacity 509 Fort St # A             \n",
       "2 Casper   35316       32644        Pawdacity 601 SE Wyoming Blvd Unit 252\n",
       "3 Cheyenne 59466       53011        Pawdacity 3769 E Lincolnway           \n",
       "4 Cody      9520        8835        Pawdacity 2625 Big Horn Ave           \n",
       "5 Douglas   6120        5288        Pawdacity 123 S 2nd St                \n",
       "6 Evanston 12359       11507        Pawdacity 932 Main St                 \n",
       "  CITY     STATE ZIP   January February March April May   June  July  August\n",
       "1 Buffalo  WY    82834 16200   13392    14688 17064 18360 14040 12960 19224 \n",
       "2 Casper   WY    82609 29160   21600    27000 27648 29160 27216 25488 25704 \n",
       "3 Cheyenne WY    82001 79920   70632    79056 77544 73656 77976 73872 77544 \n",
       "4 Cody     WY    82414 19440   15984    19008 18144 16632 17496 18792 20304 \n",
       "5 Douglas  WY    82633 16200   13392    14688 17064 18360 14040 12960 19224 \n",
       "6 Evanston WY    82930 24840   21168    21600 22248 24192 24624 25488 25704 \n",
       "  September October November December\n",
       "1 15984     13392   13176    16848   \n",
       "2 22896     25272   28944    27648   \n",
       "3 78516     74520   74736    79920   \n",
       "4 19224     18144   18576    16632   \n",
       "5 15984     29808   17496    18792   \n",
       "6 22032     21168   25920    24840   "
      ]
     },
     "metadata": {},
     "output_type": "display_data"
    }
   ],
   "source": [
    "head( df.train )"
   ]
  },
  {
   "cell_type": "code",
   "execution_count": 29,
   "metadata": {},
   "outputs": [],
   "source": [
    "df.train.sales <- gather( df.train, month, sales\n",
    "      , January:December )"
   ]
  },
  {
   "cell_type": "code",
   "execution_count": 30,
   "metadata": {},
   "outputs": [
    {
     "data": {
      "text/html": [
       "<table>\n",
       "<thead><tr><th scope=col>city_nm</th><th scope=col>pop_2010_no</th><th scope=col>pop_2014_est</th><th scope=col>NAME</th><th scope=col>ADDRESS</th><th scope=col>CITY</th><th scope=col>STATE</th><th scope=col>ZIP</th><th scope=col>month</th><th scope=col>sales</th></tr></thead>\n",
       "<tbody>\n",
       "\t<tr><td>Buffalo                     </td><td> 4585                       </td><td> 3900                       </td><td>Pawdacity                   </td><td>509 Fort St # A             </td><td>Buffalo                     </td><td>WY                          </td><td>82834                       </td><td>January                     </td><td>16200                       </td></tr>\n",
       "\t<tr><td>Casper                      </td><td>35316                       </td><td>32644                       </td><td>Pawdacity                   </td><td>601 SE Wyoming Blvd Unit 252</td><td>Casper                      </td><td>WY                          </td><td>82609                       </td><td>January                     </td><td>29160                       </td></tr>\n",
       "\t<tr><td>Cheyenne                    </td><td>59466                       </td><td>53011                       </td><td>Pawdacity                   </td><td>3769 E Lincolnway           </td><td>Cheyenne                    </td><td>WY                          </td><td>82001                       </td><td>January                     </td><td>79920                       </td></tr>\n",
       "\t<tr><td>Cody                        </td><td> 9520                       </td><td> 8835                       </td><td>Pawdacity                   </td><td>2625 Big Horn Ave           </td><td>Cody                        </td><td>WY                          </td><td>82414                       </td><td>January                     </td><td>19440                       </td></tr>\n",
       "\t<tr><td>Douglas                     </td><td> 6120                       </td><td> 5288                       </td><td>Pawdacity                   </td><td>123 S 2nd St                </td><td>Douglas                     </td><td>WY                          </td><td>82633                       </td><td>January                     </td><td>16200                       </td></tr>\n",
       "\t<tr><td>Evanston                    </td><td>12359                       </td><td>11507                       </td><td>Pawdacity                   </td><td>932 Main St                 </td><td>Evanston                    </td><td>WY                          </td><td>82930                       </td><td>January                     </td><td>24840                       </td></tr>\n",
       "</tbody>\n",
       "</table>\n"
      ],
      "text/latex": [
       "\\begin{tabular}{r|llllllllll}\n",
       " city\\_nm & pop\\_2010\\_no & pop\\_2014\\_est & NAME & ADDRESS & CITY & STATE & ZIP & month & sales\\\\\n",
       "\\hline\n",
       "\t Buffalo                        &  4585                          &  3900                          & Pawdacity                      & 509 Fort St \\# A              & Buffalo                        & WY                             & 82834                          & January                        & 16200                         \\\\\n",
       "\t Casper                       & 35316                        & 32644                        & Pawdacity                    & 601 SE Wyoming Blvd Unit 252 & Casper                       & WY                           & 82609                        & January                      & 29160                       \\\\\n",
       "\t Cheyenne                     & 59466                        & 53011                        & Pawdacity                    & 3769 E Lincolnway            & Cheyenne                     & WY                           & 82001                        & January                      & 79920                       \\\\\n",
       "\t Cody                         &  9520                        &  8835                        & Pawdacity                    & 2625 Big Horn Ave            & Cody                         & WY                           & 82414                        & January                      & 19440                       \\\\\n",
       "\t Douglas                      &  6120                        &  5288                        & Pawdacity                    & 123 S 2nd St                 & Douglas                      & WY                           & 82633                        & January                      & 16200                       \\\\\n",
       "\t Evanston                     & 12359                        & 11507                        & Pawdacity                    & 932 Main St                  & Evanston                     & WY                           & 82930                        & January                      & 24840                       \\\\\n",
       "\\end{tabular}\n"
      ],
      "text/markdown": [
       "\n",
       "city_nm | pop_2010_no | pop_2014_est | NAME | ADDRESS | CITY | STATE | ZIP | month | sales | \n",
       "|---|---|---|---|---|---|\n",
       "| Buffalo                      |  4585                        |  3900                        | Pawdacity                    | 509 Fort St # A              | Buffalo                      | WY                           | 82834                        | January                      | 16200                        | \n",
       "| Casper                       | 35316                        | 32644                        | Pawdacity                    | 601 SE Wyoming Blvd Unit 252 | Casper                       | WY                           | 82609                        | January                      | 29160                        | \n",
       "| Cheyenne                     | 59466                        | 53011                        | Pawdacity                    | 3769 E Lincolnway            | Cheyenne                     | WY                           | 82001                        | January                      | 79920                        | \n",
       "| Cody                         |  9520                        |  8835                        | Pawdacity                    | 2625 Big Horn Ave            | Cody                         | WY                           | 82414                        | January                      | 19440                        | \n",
       "| Douglas                      |  6120                        |  5288                        | Pawdacity                    | 123 S 2nd St                 | Douglas                      | WY                           | 82633                        | January                      | 16200                        | \n",
       "| Evanston                     | 12359                        | 11507                        | Pawdacity                    | 932 Main St                  | Evanston                     | WY                           | 82930                        | January                      | 24840                        | \n",
       "\n",
       "\n"
      ],
      "text/plain": [
       "  city_nm  pop_2010_no pop_2014_est NAME      ADDRESS                     \n",
       "1 Buffalo   4585        3900        Pawdacity 509 Fort St # A             \n",
       "2 Casper   35316       32644        Pawdacity 601 SE Wyoming Blvd Unit 252\n",
       "3 Cheyenne 59466       53011        Pawdacity 3769 E Lincolnway           \n",
       "4 Cody      9520        8835        Pawdacity 2625 Big Horn Ave           \n",
       "5 Douglas   6120        5288        Pawdacity 123 S 2nd St                \n",
       "6 Evanston 12359       11507        Pawdacity 932 Main St                 \n",
       "  CITY     STATE ZIP   month   sales\n",
       "1 Buffalo  WY    82834 January 16200\n",
       "2 Casper   WY    82609 January 29160\n",
       "3 Cheyenne WY    82001 January 79920\n",
       "4 Cody     WY    82414 January 19440\n",
       "5 Douglas  WY    82633 January 16200\n",
       "6 Evanston WY    82930 January 24840"
      ]
     },
     "metadata": {},
     "output_type": "display_data"
    }
   ],
   "source": [
    "head( df.train.sales )"
   ]
  },
  {
   "cell_type": "markdown",
   "metadata": {},
   "source": [
    "#### Aggregate monthly sales to each city"
   ]
  },
  {
   "cell_type": "code",
   "execution_count": 31,
   "metadata": {},
   "outputs": [],
   "source": [
    "df.train.sales <- aggregate( df.train.sales$sales\n",
    "                           , list( df.train.sales$city_nm )\n",
    "                           , sum )"
   ]
  },
  {
   "cell_type": "code",
   "execution_count": 32,
   "metadata": {},
   "outputs": [],
   "source": [
    "names( df.train.sales ) <- c( 'city_nm', 'agg.sales' )"
   ]
  },
  {
   "cell_type": "code",
   "execution_count": 33,
   "metadata": {},
   "outputs": [],
   "source": [
    "df.train <- left_join( df.train, df.train.sales, by = 'city_nm' )"
   ]
  },
  {
   "cell_type": "code",
   "execution_count": 34,
   "metadata": {},
   "outputs": [
    {
     "data": {
      "text/html": [
       "<table>\n",
       "<thead><tr><th scope=col>city_nm</th><th scope=col>agg.sales</th></tr></thead>\n",
       "<tbody>\n",
       "\t<tr><td>Buffalo </td><td>185328  </td></tr>\n",
       "\t<tr><td>Casper  </td><td>317736  </td></tr>\n",
       "\t<tr><td>Cheyenne</td><td>917892  </td></tr>\n",
       "\t<tr><td>Cody    </td><td>218376  </td></tr>\n",
       "\t<tr><td>Douglas </td><td>208008  </td></tr>\n",
       "\t<tr><td>Evanston</td><td>283824  </td></tr>\n",
       "</tbody>\n",
       "</table>\n"
      ],
      "text/latex": [
       "\\begin{tabular}{r|ll}\n",
       " city\\_nm & agg.sales\\\\\n",
       "\\hline\n",
       "\t Buffalo  & 185328  \\\\\n",
       "\t Casper   & 317736  \\\\\n",
       "\t Cheyenne & 917892  \\\\\n",
       "\t Cody     & 218376  \\\\\n",
       "\t Douglas  & 208008  \\\\\n",
       "\t Evanston & 283824  \\\\\n",
       "\\end{tabular}\n"
      ],
      "text/markdown": [
       "\n",
       "city_nm | agg.sales | \n",
       "|---|---|---|---|---|---|\n",
       "| Buffalo  | 185328   | \n",
       "| Casper   | 317736   | \n",
       "| Cheyenne | 917892   | \n",
       "| Cody     | 218376   | \n",
       "| Douglas  | 208008   | \n",
       "| Evanston | 283824   | \n",
       "\n",
       "\n"
      ],
      "text/plain": [
       "  city_nm  agg.sales\n",
       "1 Buffalo  185328   \n",
       "2 Casper   317736   \n",
       "3 Cheyenne 917892   \n",
       "4 Cody     218376   \n",
       "5 Douglas  208008   \n",
       "6 Evanston 283824   "
      ]
     },
     "metadata": {},
     "output_type": "display_data"
    }
   ],
   "source": [
    "head( df.train.sales )"
   ]
  },
  {
   "cell_type": "code",
   "execution_count": 35,
   "metadata": {},
   "outputs": [],
   "source": [
    "df.train <- df.train[,c( 'city_nm', 'pop_2010_no', 'pop_2014_est', 'agg.sales' )]"
   ]
  },
  {
   "cell_type": "code",
   "execution_count": 36,
   "metadata": {},
   "outputs": [
    {
     "data": {
      "text/html": [
       "<table>\n",
       "<thead><tr><th scope=col>city_nm</th><th scope=col>pop_2010_no</th><th scope=col>pop_2014_est</th><th scope=col>agg.sales</th></tr></thead>\n",
       "<tbody>\n",
       "\t<tr><td>Buffalo </td><td> 4585   </td><td> 3900   </td><td>185328  </td></tr>\n",
       "\t<tr><td>Casper  </td><td>35316   </td><td>32644   </td><td>317736  </td></tr>\n",
       "\t<tr><td>Cheyenne</td><td>59466   </td><td>53011   </td><td>917892  </td></tr>\n",
       "\t<tr><td>Cody    </td><td> 9520   </td><td> 8835   </td><td>218376  </td></tr>\n",
       "\t<tr><td>Douglas </td><td> 6120   </td><td> 5288   </td><td>208008  </td></tr>\n",
       "\t<tr><td>Evanston</td><td>12359   </td><td>11507   </td><td>283824  </td></tr>\n",
       "</tbody>\n",
       "</table>\n"
      ],
      "text/latex": [
       "\\begin{tabular}{r|llll}\n",
       " city\\_nm & pop\\_2010\\_no & pop\\_2014\\_est & agg.sales\\\\\n",
       "\\hline\n",
       "\t Buffalo  &  4585    &  3900    & 185328  \\\\\n",
       "\t Casper   & 35316    & 32644    & 317736  \\\\\n",
       "\t Cheyenne & 59466    & 53011    & 917892  \\\\\n",
       "\t Cody     &  9520    &  8835    & 218376  \\\\\n",
       "\t Douglas  &  6120    &  5288    & 208008  \\\\\n",
       "\t Evanston & 12359    & 11507    & 283824  \\\\\n",
       "\\end{tabular}\n"
      ],
      "text/markdown": [
       "\n",
       "city_nm | pop_2010_no | pop_2014_est | agg.sales | \n",
       "|---|---|---|---|---|---|\n",
       "| Buffalo  |  4585    |  3900    | 185328   | \n",
       "| Casper   | 35316    | 32644    | 317736   | \n",
       "| Cheyenne | 59466    | 53011    | 917892   | \n",
       "| Cody     |  9520    |  8835    | 218376   | \n",
       "| Douglas  |  6120    |  5288    | 208008   | \n",
       "| Evanston | 12359    | 11507    | 283824   | \n",
       "\n",
       "\n"
      ],
      "text/plain": [
       "  city_nm  pop_2010_no pop_2014_est agg.sales\n",
       "1 Buffalo   4585        3900        185328   \n",
       "2 Casper   35316       32644        317736   \n",
       "3 Cheyenne 59466       53011        917892   \n",
       "4 Cody      9520        8835        218376   \n",
       "5 Douglas   6120        5288        208008   \n",
       "6 Evanston 12359       11507        283824   "
      ]
     },
     "metadata": {},
     "output_type": "display_data"
    }
   ],
   "source": [
    "head( df.train )"
   ]
  },
  {
   "cell_type": "markdown",
   "metadata": {},
   "source": [
    "### Add households under 18 numbers"
   ]
  },
  {
   "cell_type": "code",
   "execution_count": 37,
   "metadata": {},
   "outputs": [],
   "source": [
    "df.demo <- df.demo[,c(1,3,4,5,6)]"
   ]
  },
  {
   "cell_type": "code",
   "execution_count": 38,
   "metadata": {},
   "outputs": [
    {
     "data": {
      "text/html": [
       "<table>\n",
       "<thead><tr><th scope=col>City</th><th scope=col>Land.Area</th><th scope=col>Households.with.Under.18</th><th scope=col>Population.Density</th><th scope=col>Total.Families</th></tr></thead>\n",
       "<tbody>\n",
       "\t<tr><td>Laramie   </td><td>2513.7452 </td><td>2075      </td><td>5.19      </td><td>4668.93   </td></tr>\n",
       "\t<tr><td>Rock River</td><td> 200.4440 </td><td> 165      </td><td>0.41      </td><td> 372.30   </td></tr>\n",
       "\t<tr><td>Basin     </td><td> 543.9513 </td><td> 250      </td><td>0.66      </td><td> 566.43   </td></tr>\n",
       "\t<tr><td>Burlington</td><td> 137.6462 </td><td>  63      </td><td>0.17      </td><td> 143.34   </td></tr>\n",
       "\t<tr><td>Byron     </td><td> 252.4896 </td><td> 116      </td><td>0.31      </td><td> 262.93   </td></tr>\n",
       "\t<tr><td>Cowley    </td><td> 297.6807 </td><td> 137      </td><td>0.36      </td><td> 309.98   </td></tr>\n",
       "</tbody>\n",
       "</table>\n"
      ],
      "text/latex": [
       "\\begin{tabular}{r|lllll}\n",
       " City & Land.Area & Households.with.Under.18 & Population.Density & Total.Families\\\\\n",
       "\\hline\n",
       "\t Laramie    & 2513.7452  & 2075       & 5.19       & 4668.93   \\\\\n",
       "\t Rock River &  200.4440  &  165       & 0.41       &  372.30   \\\\\n",
       "\t Basin      &  543.9513  &  250       & 0.66       &  566.43   \\\\\n",
       "\t Burlington &  137.6462  &   63       & 0.17       &  143.34   \\\\\n",
       "\t Byron      &  252.4896  &  116       & 0.31       &  262.93   \\\\\n",
       "\t Cowley     &  297.6807  &  137       & 0.36       &  309.98   \\\\\n",
       "\\end{tabular}\n"
      ],
      "text/markdown": [
       "\n",
       "City | Land.Area | Households.with.Under.18 | Population.Density | Total.Families | \n",
       "|---|---|---|---|---|---|\n",
       "| Laramie    | 2513.7452  | 2075       | 5.19       | 4668.93    | \n",
       "| Rock River |  200.4440  |  165       | 0.41       |  372.30    | \n",
       "| Basin      |  543.9513  |  250       | 0.66       |  566.43    | \n",
       "| Burlington |  137.6462  |   63       | 0.17       |  143.34    | \n",
       "| Byron      |  252.4896  |  116       | 0.31       |  262.93    | \n",
       "| Cowley     |  297.6807  |  137       | 0.36       |  309.98    | \n",
       "\n",
       "\n"
      ],
      "text/plain": [
       "  City       Land.Area Households.with.Under.18 Population.Density\n",
       "1 Laramie    2513.7452 2075                     5.19              \n",
       "2 Rock River  200.4440  165                     0.41              \n",
       "3 Basin       543.9513  250                     0.66              \n",
       "4 Burlington  137.6462   63                     0.17              \n",
       "5 Byron       252.4896  116                     0.31              \n",
       "6 Cowley      297.6807  137                     0.36              \n",
       "  Total.Families\n",
       "1 4668.93       \n",
       "2  372.30       \n",
       "3  566.43       \n",
       "4  143.34       \n",
       "5  262.93       \n",
       "6  309.98       "
      ]
     },
     "metadata": {},
     "output_type": "display_data"
    }
   ],
   "source": [
    "head( df.demo )"
   ]
  },
  {
   "cell_type": "code",
   "execution_count": 39,
   "metadata": {},
   "outputs": [],
   "source": [
    "df.demo$city_nm <- df.demo$City"
   ]
  },
  {
   "cell_type": "code",
   "execution_count": 71,
   "metadata": {},
   "outputs": [
    {
     "name": "stderr",
     "output_type": "stream",
     "text": [
      "Warning message:\n",
      "“Column `city_nm` joining character vector and factor, coercing into character vector”"
     ]
    }
   ],
   "source": [
    "df.pred <- left_join( df.pred, df.demo, by = 'city_nm' )"
   ]
  },
  {
   "cell_type": "code",
   "execution_count": 72,
   "metadata": {},
   "outputs": [
    {
     "data": {
      "text/html": [
       "<table>\n",
       "<thead><tr><th scope=col>city_nm</th><th scope=col>pop_2010_no</th><th scope=col>pop_2014_est</th><th scope=col>City</th><th scope=col>Land.Area</th><th scope=col>Households.with.Under.18</th><th scope=col>Population.Density</th><th scope=col>Total.Families</th></tr></thead>\n",
       "<tbody>\n",
       "\t<tr><td>Afton     </td><td>1911      </td><td>1818      </td><td>Afton     </td><td>853.806650</td><td>497       </td><td>0.93      </td><td>1040.41   </td></tr>\n",
       "\t<tr><td>Albin     </td><td> 181      </td><td> 120      </td><td>Albin     </td><td>  7.685902</td><td> 37       </td><td>0.10      </td><td>  74.87   </td></tr>\n",
       "\t<tr><td>Alpine    </td><td> 828      </td><td> 550      </td><td>Alpine    </td><td>366.598892</td><td>213       </td><td>0.40      </td><td> 446.72   </td></tr>\n",
       "\t<tr><td>Baggs     </td><td> 440      </td><td> 348      </td><td>Baggs     </td><td>253.240322</td><td> 62       </td><td>0.06      </td><td> 129.53   </td></tr>\n",
       "\t<tr><td>Bairoil   </td><td> 106      </td><td>  97      </td><td>Bairoil   </td><td> 29.459830</td><td> 18       </td><td>0.01      </td><td>  33.70   </td></tr>\n",
       "\t<tr><td>Bar Nunn  </td><td>2213      </td><td> 936      </td><td>Bar Nunn  </td><td>208.573220</td><td>417       </td><td>0.60      </td><td> 843.88   </td></tr>\n",
       "</tbody>\n",
       "</table>\n"
      ],
      "text/latex": [
       "\\begin{tabular}{r|llllllll}\n",
       " city\\_nm & pop\\_2010\\_no & pop\\_2014\\_est & City & Land.Area & Households.with.Under.18 & Population.Density & Total.Families\\\\\n",
       "\\hline\n",
       "\t Afton      & 1911       & 1818       & Afton      & 853.806650 & 497        & 0.93       & 1040.41   \\\\\n",
       "\t Albin      &  181       &  120       & Albin      &   7.685902 &  37        & 0.10       &   74.87   \\\\\n",
       "\t Alpine     &  828       &  550       & Alpine     & 366.598892 & 213        & 0.40       &  446.72   \\\\\n",
       "\t Baggs      &  440       &  348       & Baggs      & 253.240322 &  62        & 0.06       &  129.53   \\\\\n",
       "\t Bairoil    &  106       &   97       & Bairoil    &  29.459830 &  18        & 0.01       &   33.70   \\\\\n",
       "\t Bar Nunn   & 2213       &  936       & Bar Nunn   & 208.573220 & 417        & 0.60       &  843.88   \\\\\n",
       "\\end{tabular}\n"
      ],
      "text/markdown": [
       "\n",
       "city_nm | pop_2010_no | pop_2014_est | City | Land.Area | Households.with.Under.18 | Population.Density | Total.Families | \n",
       "|---|---|---|---|---|---|\n",
       "| Afton      | 1911       | 1818       | Afton      | 853.806650 | 497        | 0.93       | 1040.41    | \n",
       "| Albin      |  181       |  120       | Albin      |   7.685902 |  37        | 0.10       |   74.87    | \n",
       "| Alpine     |  828       |  550       | Alpine     | 366.598892 | 213        | 0.40       |  446.72    | \n",
       "| Baggs      |  440       |  348       | Baggs      | 253.240322 |  62        | 0.06       |  129.53    | \n",
       "| Bairoil    |  106       |   97       | Bairoil    |  29.459830 |  18        | 0.01       |   33.70    | \n",
       "| Bar Nunn   | 2213       |  936       | Bar Nunn   | 208.573220 | 417        | 0.60       |  843.88    | \n",
       "\n",
       "\n"
      ],
      "text/plain": [
       "  city_nm  pop_2010_no pop_2014_est City     Land.Area \n",
       "1 Afton    1911        1818         Afton    853.806650\n",
       "2 Albin     181         120         Albin      7.685902\n",
       "3 Alpine    828         550         Alpine   366.598892\n",
       "4 Baggs     440         348         Baggs    253.240322\n",
       "5 Bairoil   106          97         Bairoil   29.459830\n",
       "6 Bar Nunn 2213         936         Bar Nunn 208.573220\n",
       "  Households.with.Under.18 Population.Density Total.Families\n",
       "1 497                      0.93               1040.41       \n",
       "2  37                      0.10                 74.87       \n",
       "3 213                      0.40                446.72       \n",
       "4  62                      0.06                129.53       \n",
       "5  18                      0.01                 33.70       \n",
       "6 417                      0.60                843.88       "
      ]
     },
     "metadata": {},
     "output_type": "display_data"
    }
   ],
   "source": [
    "head( df.pred )"
   ]
  },
  {
   "cell_type": "code",
   "execution_count": 73,
   "metadata": {},
   "outputs": [
    {
     "name": "stderr",
     "output_type": "stream",
     "text": [
      "Warning message:\n",
      "“Column `city_nm` joining character vector and factor, coercing into character vector”"
     ]
    }
   ],
   "source": [
    "df.train <- left_join( df.train, df.demo, by = 'city_nm' )"
   ]
  },
  {
   "cell_type": "code",
   "execution_count": 74,
   "metadata": {},
   "outputs": [
    {
     "data": {
      "text/html": [
       "<table>\n",
       "<thead><tr><th scope=col>city_nm</th><th scope=col>pop_2010_no</th><th scope=col>pop_2014_est</th><th scope=col>agg_sales_no</th><th scope=col>land_area_no</th><th scope=col>households_under_18_no</th><th scope=col>pop_density_no</th><th scope=col>total_families_no</th><th scope=col>City</th><th scope=col>Land.Area</th><th scope=col>Households.with.Under.18</th><th scope=col>Population.Density</th><th scope=col>Total.Families</th></tr></thead>\n",
       "<tbody>\n",
       "\t<tr><td>Buffalo  </td><td> 4585    </td><td> 3900    </td><td>185328   </td><td>3115.5075</td><td> 746     </td><td> 1.55    </td><td> 1819.50 </td><td>Buffalo  </td><td>3115.5075</td><td> 746     </td><td> 1.55    </td><td> 1819.50 </td></tr>\n",
       "\t<tr><td>Casper   </td><td>35316    </td><td>32644    </td><td>317736   </td><td>3894.3091</td><td>7788     </td><td>11.16    </td><td> 8756.32 </td><td>Casper   </td><td>3894.3091</td><td>7788     </td><td>11.16    </td><td> 8756.32 </td></tr>\n",
       "\t<tr><td>Cheyenne </td><td>59466    </td><td>53011    </td><td>917892   </td><td>1500.1784</td><td>7158     </td><td>20.34    </td><td>14612.64 </td><td>Cheyenne </td><td>1500.1784</td><td>7158     </td><td>20.34    </td><td>14612.64 </td></tr>\n",
       "\t<tr><td>Cody     </td><td> 9520    </td><td> 8835    </td><td>218376   </td><td>2998.9570</td><td>1403     </td><td> 1.82    </td><td> 3515.62 </td><td>Cody     </td><td>2998.9570</td><td>1403     </td><td> 1.82    </td><td> 3515.62 </td></tr>\n",
       "\t<tr><td>Douglas  </td><td> 6120    </td><td> 5288    </td><td>208008   </td><td>1829.4651</td><td> 832     </td><td> 1.46    </td><td> 1744.08 </td><td>Douglas  </td><td>1829.4651</td><td> 832     </td><td> 1.46    </td><td> 1744.08 </td></tr>\n",
       "\t<tr><td>Evanston </td><td>12359    </td><td>11507    </td><td>283824   </td><td> 999.4971</td><td>1486     </td><td> 4.95    </td><td> 2712.64 </td><td>Evanston </td><td> 999.4971</td><td>1486     </td><td> 4.95    </td><td> 2712.64 </td></tr>\n",
       "</tbody>\n",
       "</table>\n"
      ],
      "text/latex": [
       "\\begin{tabular}{r|lllllllllllll}\n",
       " city\\_nm & pop\\_2010\\_no & pop\\_2014\\_est & agg\\_sales\\_no & land\\_area\\_no & households\\_under\\_18\\_no & pop\\_density\\_no & total\\_families\\_no & City & Land.Area & Households.with.Under.18 & Population.Density & Total.Families\\\\\n",
       "\\hline\n",
       "\t Buffalo   &  4585     &  3900     & 185328    & 3115.5075 &  746      &  1.55     &  1819.50  & Buffalo   & 3115.5075 &  746      &  1.55     &  1819.50 \\\\\n",
       "\t Casper    & 35316     & 32644     & 317736    & 3894.3091 & 7788      & 11.16     &  8756.32  & Casper    & 3894.3091 & 7788      & 11.16     &  8756.32 \\\\\n",
       "\t Cheyenne  & 59466     & 53011     & 917892    & 1500.1784 & 7158      & 20.34     & 14612.64  & Cheyenne  & 1500.1784 & 7158      & 20.34     & 14612.64 \\\\\n",
       "\t Cody      &  9520     &  8835     & 218376    & 2998.9570 & 1403      &  1.82     &  3515.62  & Cody      & 2998.9570 & 1403      &  1.82     &  3515.62 \\\\\n",
       "\t Douglas   &  6120     &  5288     & 208008    & 1829.4651 &  832      &  1.46     &  1744.08  & Douglas   & 1829.4651 &  832      &  1.46     &  1744.08 \\\\\n",
       "\t Evanston  & 12359     & 11507     & 283824    &  999.4971 & 1486      &  4.95     &  2712.64  & Evanston  &  999.4971 & 1486      &  4.95     &  2712.64 \\\\\n",
       "\\end{tabular}\n"
      ],
      "text/markdown": [
       "\n",
       "city_nm | pop_2010_no | pop_2014_est | agg_sales_no | land_area_no | households_under_18_no | pop_density_no | total_families_no | City | Land.Area | Households.with.Under.18 | Population.Density | Total.Families | \n",
       "|---|---|---|---|---|---|\n",
       "| Buffalo   |  4585     |  3900     | 185328    | 3115.5075 |  746      |  1.55     |  1819.50  | Buffalo   | 3115.5075 |  746      |  1.55     |  1819.50  | \n",
       "| Casper    | 35316     | 32644     | 317736    | 3894.3091 | 7788      | 11.16     |  8756.32  | Casper    | 3894.3091 | 7788      | 11.16     |  8756.32  | \n",
       "| Cheyenne  | 59466     | 53011     | 917892    | 1500.1784 | 7158      | 20.34     | 14612.64  | Cheyenne  | 1500.1784 | 7158      | 20.34     | 14612.64  | \n",
       "| Cody      |  9520     |  8835     | 218376    | 2998.9570 | 1403      |  1.82     |  3515.62  | Cody      | 2998.9570 | 1403      |  1.82     |  3515.62  | \n",
       "| Douglas   |  6120     |  5288     | 208008    | 1829.4651 |  832      |  1.46     |  1744.08  | Douglas   | 1829.4651 |  832      |  1.46     |  1744.08  | \n",
       "| Evanston  | 12359     | 11507     | 283824    |  999.4971 | 1486      |  4.95     |  2712.64  | Evanston  |  999.4971 | 1486      |  4.95     |  2712.64  | \n",
       "\n",
       "\n"
      ],
      "text/plain": [
       "  city_nm  pop_2010_no pop_2014_est agg_sales_no land_area_no\n",
       "1 Buffalo   4585        3900        185328       3115.5075   \n",
       "2 Casper   35316       32644        317736       3894.3091   \n",
       "3 Cheyenne 59466       53011        917892       1500.1784   \n",
       "4 Cody      9520        8835        218376       2998.9570   \n",
       "5 Douglas   6120        5288        208008       1829.4651   \n",
       "6 Evanston 12359       11507        283824        999.4971   \n",
       "  households_under_18_no pop_density_no total_families_no City     Land.Area\n",
       "1  746                    1.55           1819.50          Buffalo  3115.5075\n",
       "2 7788                   11.16           8756.32          Casper   3894.3091\n",
       "3 7158                   20.34          14612.64          Cheyenne 1500.1784\n",
       "4 1403                    1.82           3515.62          Cody     2998.9570\n",
       "5  832                    1.46           1744.08          Douglas  1829.4651\n",
       "6 1486                    4.95           2712.64          Evanston  999.4971\n",
       "  Households.with.Under.18 Population.Density Total.Families\n",
       "1  746                      1.55               1819.50      \n",
       "2 7788                     11.16               8756.32      \n",
       "3 7158                     20.34              14612.64      \n",
       "4 1403                      1.82               3515.62      \n",
       "5  832                      1.46               1744.08      \n",
       "6 1486                      4.95               2712.64      "
      ]
     },
     "metadata": {},
     "output_type": "display_data"
    }
   ],
   "source": [
    "head( df.train)"
   ]
  },
  {
   "cell_type": "code",
   "execution_count": 75,
   "metadata": {},
   "outputs": [],
   "source": [
    "df.train <- df.train[,-5]"
   ]
  },
  {
   "cell_type": "code",
   "execution_count": 76,
   "metadata": {},
   "outputs": [
    {
     "data": {
      "text/html": [
       "<table>\n",
       "<thead><tr><th scope=col>city_nm</th><th scope=col>pop_2010_no</th><th scope=col>pop_2014_est</th><th scope=col>agg_sales_no</th><th scope=col>households_under_18_no</th><th scope=col>pop_density_no</th><th scope=col>total_families_no</th><th scope=col>City</th><th scope=col>Land.Area</th><th scope=col>Households.with.Under.18</th><th scope=col>Population.Density</th><th scope=col>Total.Families</th></tr></thead>\n",
       "<tbody>\n",
       "\t<tr><td>Buffalo  </td><td> 4585    </td><td> 3900    </td><td>185328   </td><td> 746     </td><td> 1.55    </td><td> 1819.50 </td><td>Buffalo  </td><td>3115.5075</td><td> 746     </td><td> 1.55    </td><td> 1819.50 </td></tr>\n",
       "\t<tr><td>Casper   </td><td>35316    </td><td>32644    </td><td>317736   </td><td>7788     </td><td>11.16    </td><td> 8756.32 </td><td>Casper   </td><td>3894.3091</td><td>7788     </td><td>11.16    </td><td> 8756.32 </td></tr>\n",
       "\t<tr><td>Cheyenne </td><td>59466    </td><td>53011    </td><td>917892   </td><td>7158     </td><td>20.34    </td><td>14612.64 </td><td>Cheyenne </td><td>1500.1784</td><td>7158     </td><td>20.34    </td><td>14612.64 </td></tr>\n",
       "\t<tr><td>Cody     </td><td> 9520    </td><td> 8835    </td><td>218376   </td><td>1403     </td><td> 1.82    </td><td> 3515.62 </td><td>Cody     </td><td>2998.9570</td><td>1403     </td><td> 1.82    </td><td> 3515.62 </td></tr>\n",
       "\t<tr><td>Douglas  </td><td> 6120    </td><td> 5288    </td><td>208008   </td><td> 832     </td><td> 1.46    </td><td> 1744.08 </td><td>Douglas  </td><td>1829.4651</td><td> 832     </td><td> 1.46    </td><td> 1744.08 </td></tr>\n",
       "\t<tr><td>Evanston </td><td>12359    </td><td>11507    </td><td>283824   </td><td>1486     </td><td> 4.95    </td><td> 2712.64 </td><td>Evanston </td><td> 999.4971</td><td>1486     </td><td> 4.95    </td><td> 2712.64 </td></tr>\n",
       "</tbody>\n",
       "</table>\n"
      ],
      "text/latex": [
       "\\begin{tabular}{r|llllllllllll}\n",
       " city\\_nm & pop\\_2010\\_no & pop\\_2014\\_est & agg\\_sales\\_no & households\\_under\\_18\\_no & pop\\_density\\_no & total\\_families\\_no & City & Land.Area & Households.with.Under.18 & Population.Density & Total.Families\\\\\n",
       "\\hline\n",
       "\t Buffalo   &  4585     &  3900     & 185328    &  746      &  1.55     &  1819.50  & Buffalo   & 3115.5075 &  746      &  1.55     &  1819.50 \\\\\n",
       "\t Casper    & 35316     & 32644     & 317736    & 7788      & 11.16     &  8756.32  & Casper    & 3894.3091 & 7788      & 11.16     &  8756.32 \\\\\n",
       "\t Cheyenne  & 59466     & 53011     & 917892    & 7158      & 20.34     & 14612.64  & Cheyenne  & 1500.1784 & 7158      & 20.34     & 14612.64 \\\\\n",
       "\t Cody      &  9520     &  8835     & 218376    & 1403      &  1.82     &  3515.62  & Cody      & 2998.9570 & 1403      &  1.82     &  3515.62 \\\\\n",
       "\t Douglas   &  6120     &  5288     & 208008    &  832      &  1.46     &  1744.08  & Douglas   & 1829.4651 &  832      &  1.46     &  1744.08 \\\\\n",
       "\t Evanston  & 12359     & 11507     & 283824    & 1486      &  4.95     &  2712.64  & Evanston  &  999.4971 & 1486      &  4.95     &  2712.64 \\\\\n",
       "\\end{tabular}\n"
      ],
      "text/markdown": [
       "\n",
       "city_nm | pop_2010_no | pop_2014_est | agg_sales_no | households_under_18_no | pop_density_no | total_families_no | City | Land.Area | Households.with.Under.18 | Population.Density | Total.Families | \n",
       "|---|---|---|---|---|---|\n",
       "| Buffalo   |  4585     |  3900     | 185328    |  746      |  1.55     |  1819.50  | Buffalo   | 3115.5075 |  746      |  1.55     |  1819.50  | \n",
       "| Casper    | 35316     | 32644     | 317736    | 7788      | 11.16     |  8756.32  | Casper    | 3894.3091 | 7788      | 11.16     |  8756.32  | \n",
       "| Cheyenne  | 59466     | 53011     | 917892    | 7158      | 20.34     | 14612.64  | Cheyenne  | 1500.1784 | 7158      | 20.34     | 14612.64  | \n",
       "| Cody      |  9520     |  8835     | 218376    | 1403      |  1.82     |  3515.62  | Cody      | 2998.9570 | 1403      |  1.82     |  3515.62  | \n",
       "| Douglas   |  6120     |  5288     | 208008    |  832      |  1.46     |  1744.08  | Douglas   | 1829.4651 |  832      |  1.46     |  1744.08  | \n",
       "| Evanston  | 12359     | 11507     | 283824    | 1486      |  4.95     |  2712.64  | Evanston  |  999.4971 | 1486      |  4.95     |  2712.64  | \n",
       "\n",
       "\n"
      ],
      "text/plain": [
       "  city_nm  pop_2010_no pop_2014_est agg_sales_no households_under_18_no\n",
       "1 Buffalo   4585        3900        185328        746                  \n",
       "2 Casper   35316       32644        317736       7788                  \n",
       "3 Cheyenne 59466       53011        917892       7158                  \n",
       "4 Cody      9520        8835        218376       1403                  \n",
       "5 Douglas   6120        5288        208008        832                  \n",
       "6 Evanston 12359       11507        283824       1486                  \n",
       "  pop_density_no total_families_no City     Land.Area Households.with.Under.18\n",
       "1  1.55           1819.50          Buffalo  3115.5075  746                    \n",
       "2 11.16           8756.32          Casper   3894.3091 7788                    \n",
       "3 20.34          14612.64          Cheyenne 1500.1784 7158                    \n",
       "4  1.82           3515.62          Cody     2998.9570 1403                    \n",
       "5  1.46           1744.08          Douglas  1829.4651  832                    \n",
       "6  4.95           2712.64          Evanston  999.4971 1486                    \n",
       "  Population.Density Total.Families\n",
       "1  1.55               1819.50      \n",
       "2 11.16               8756.32      \n",
       "3 20.34              14612.64      \n",
       "4  1.82               3515.62      \n",
       "5  1.46               1744.08      \n",
       "6  4.95               2712.64      "
      ]
     },
     "metadata": {},
     "output_type": "display_data"
    }
   ],
   "source": [
    "head( df.train )"
   ]
  },
  {
   "cell_type": "code",
   "execution_count": 46,
   "metadata": {},
   "outputs": [],
   "source": [
    "names( df.train ) <- c( 'city_nm'\n",
    "                     , 'pop_2010_no'\n",
    "                     , 'pop_2014_est'\n",
    "                     , 'agg_sales_no'\n",
    "                     , 'land_area_no'\n",
    "                     , 'households_under_18_no'\n",
    "                     , 'pop_density_no'\n",
    "                     , 'total_families_no' )"
   ]
  },
  {
   "cell_type": "code",
   "execution_count": 47,
   "metadata": {},
   "outputs": [],
   "source": [
    "df.comb <- df.comb[,-4]"
   ]
  },
  {
   "cell_type": "code",
   "execution_count": 48,
   "metadata": {},
   "outputs": [
    {
     "data": {
      "text/html": [
       "<table>\n",
       "<thead><tr><th scope=col>city_nm</th><th scope=col>pop_2010_no</th><th scope=col>pop_2014_est</th><th scope=col>Land.Area</th><th scope=col>Households.with.Under.18</th><th scope=col>Population.Density</th><th scope=col>Total.Families</th></tr></thead>\n",
       "<tbody>\n",
       "\t<tr><td>Afton     </td><td>1911      </td><td>1818      </td><td>853.806650</td><td>497       </td><td>0.93      </td><td>1040.41   </td></tr>\n",
       "\t<tr><td>Albin     </td><td> 181      </td><td> 120      </td><td>  7.685902</td><td> 37       </td><td>0.10      </td><td>  74.87   </td></tr>\n",
       "\t<tr><td>Alpine    </td><td> 828      </td><td> 550      </td><td>366.598892</td><td>213       </td><td>0.40      </td><td> 446.72   </td></tr>\n",
       "\t<tr><td>Baggs     </td><td> 440      </td><td> 348      </td><td>253.240322</td><td> 62       </td><td>0.06      </td><td> 129.53   </td></tr>\n",
       "\t<tr><td>Bairoil   </td><td> 106      </td><td>  97      </td><td> 29.459830</td><td> 18       </td><td>0.01      </td><td>  33.70   </td></tr>\n",
       "\t<tr><td>Bar Nunn  </td><td>2213      </td><td> 936      </td><td>208.573220</td><td>417       </td><td>0.60      </td><td> 843.88   </td></tr>\n",
       "</tbody>\n",
       "</table>\n"
      ],
      "text/latex": [
       "\\begin{tabular}{r|lllllll}\n",
       " city\\_nm & pop\\_2010\\_no & pop\\_2014\\_est & Land.Area & Households.with.Under.18 & Population.Density & Total.Families\\\\\n",
       "\\hline\n",
       "\t Afton      & 1911       & 1818       & 853.806650 & 497        & 0.93       & 1040.41   \\\\\n",
       "\t Albin      &  181       &  120       &   7.685902 &  37        & 0.10       &   74.87   \\\\\n",
       "\t Alpine     &  828       &  550       & 366.598892 & 213        & 0.40       &  446.72   \\\\\n",
       "\t Baggs      &  440       &  348       & 253.240322 &  62        & 0.06       &  129.53   \\\\\n",
       "\t Bairoil    &  106       &   97       &  29.459830 &  18        & 0.01       &   33.70   \\\\\n",
       "\t Bar Nunn   & 2213       &  936       & 208.573220 & 417        & 0.60       &  843.88   \\\\\n",
       "\\end{tabular}\n"
      ],
      "text/markdown": [
       "\n",
       "city_nm | pop_2010_no | pop_2014_est | Land.Area | Households.with.Under.18 | Population.Density | Total.Families | \n",
       "|---|---|---|---|---|---|\n",
       "| Afton      | 1911       | 1818       | 853.806650 | 497        | 0.93       | 1040.41    | \n",
       "| Albin      |  181       |  120       |   7.685902 |  37        | 0.10       |   74.87    | \n",
       "| Alpine     |  828       |  550       | 366.598892 | 213        | 0.40       |  446.72    | \n",
       "| Baggs      |  440       |  348       | 253.240322 |  62        | 0.06       |  129.53    | \n",
       "| Bairoil    |  106       |   97       |  29.459830 |  18        | 0.01       |   33.70    | \n",
       "| Bar Nunn   | 2213       |  936       | 208.573220 | 417        | 0.60       |  843.88    | \n",
       "\n",
       "\n"
      ],
      "text/plain": [
       "  city_nm  pop_2010_no pop_2014_est Land.Area  Households.with.Under.18\n",
       "1 Afton    1911        1818         853.806650 497                     \n",
       "2 Albin     181         120           7.685902  37                     \n",
       "3 Alpine    828         550         366.598892 213                     \n",
       "4 Baggs     440         348         253.240322  62                     \n",
       "5 Bairoil   106          97          29.459830  18                     \n",
       "6 Bar Nunn 2213         936         208.573220 417                     \n",
       "  Population.Density Total.Families\n",
       "1 0.93               1040.41       \n",
       "2 0.10                 74.87       \n",
       "3 0.40                446.72       \n",
       "4 0.06                129.53       \n",
       "5 0.01                 33.70       \n",
       "6 0.60                843.88       "
      ]
     },
     "metadata": {},
     "output_type": "display_data"
    }
   ],
   "source": [
    "head( df.comb )"
   ]
  },
  {
   "cell_type": "code",
   "execution_count": 49,
   "metadata": {},
   "outputs": [],
   "source": [
    "names( df.comb ) <- c( 'city_nm'\n",
    "                     , 'pop_2010_no'\n",
    "                     , 'pop_2014_est'\n",
    "                     , 'land_area_no'\n",
    "                     , 'households_under_18_no'\n",
    "                     , 'pop_density_no'\n",
    "                     , 'total_families_no' )"
   ]
  },
  {
   "cell_type": "markdown",
   "metadata": {},
   "source": [
    "### Data is claned and split, train regression model"
   ]
  },
  {
   "cell_type": "markdown",
   "metadata": {},
   "source": [
    "#### Remove Gillete as an outlier"
   ]
  },
  {
   "cell_type": "code",
   "execution_count": 50,
   "metadata": {},
   "outputs": [],
   "source": [
    "df.train <- df.train[df.train$city_nm != 'Gillette',]"
   ]
  },
  {
   "cell_type": "code",
   "execution_count": 51,
   "metadata": {},
   "outputs": [
    {
     "data": {
      "text/html": [
       "<table>\n",
       "<thead><tr><th></th><th scope=col>city_nm</th><th scope=col>pop_2010_no</th><th scope=col>pop_2014_est</th><th scope=col>agg_sales_no</th><th scope=col>land_area_no</th><th scope=col>households_under_18_no</th><th scope=col>pop_density_no</th><th scope=col>total_families_no</th></tr></thead>\n",
       "<tbody>\n",
       "\t<tr><th scope=row>1</th><td>Buffalo     </td><td> 4585       </td><td> 3900       </td><td>185328      </td><td>3115.5075   </td><td> 746        </td><td> 1.55       </td><td> 1819.50    </td></tr>\n",
       "\t<tr><th scope=row>2</th><td>Casper      </td><td>35316       </td><td>32644       </td><td>317736      </td><td>3894.3091   </td><td>7788        </td><td>11.16       </td><td> 8756.32    </td></tr>\n",
       "\t<tr><th scope=row>3</th><td>Cheyenne    </td><td>59466       </td><td>53011       </td><td>917892      </td><td>1500.1784   </td><td>7158        </td><td>20.34       </td><td>14612.64    </td></tr>\n",
       "\t<tr><th scope=row>4</th><td>Cody        </td><td> 9520       </td><td> 8835       </td><td>218376      </td><td>2998.9570   </td><td>1403        </td><td> 1.82       </td><td> 3515.62    </td></tr>\n",
       "\t<tr><th scope=row>5</th><td>Douglas     </td><td> 6120       </td><td> 5288       </td><td>208008      </td><td>1829.4651   </td><td> 832        </td><td> 1.46       </td><td> 1744.08    </td></tr>\n",
       "\t<tr><th scope=row>6</th><td>Evanston    </td><td>12359       </td><td>11507       </td><td>283824      </td><td> 999.4971   </td><td>1486        </td><td> 4.95       </td><td> 2712.64    </td></tr>\n",
       "\t<tr><th scope=row>8</th><td>Powell      </td><td> 6314       </td><td> 5373       </td><td>233928      </td><td>2673.5745   </td><td>1251        </td><td> 1.62       </td><td> 3134.18    </td></tr>\n",
       "\t<tr><th scope=row>9</th><td>Riverton    </td><td>10615       </td><td> 9310       </td><td>303264      </td><td>4796.8598   </td><td>2680        </td><td> 2.34       </td><td> 5556.49    </td></tr>\n",
       "\t<tr><th scope=row>10</th><td>Rock Springs</td><td>23036       </td><td>18708       </td><td>253584      </td><td>6620.2019   </td><td>4022        </td><td> 2.78       </td><td> 7572.18    </td></tr>\n",
       "\t<tr><th scope=row>11</th><td>Sheridan    </td><td>17444       </td><td>15804       </td><td>308232      </td><td>1893.9770   </td><td>2646        </td><td> 8.98       </td><td> 6039.71    </td></tr>\n",
       "</tbody>\n",
       "</table>\n"
      ],
      "text/latex": [
       "\\begin{tabular}{r|llllllll}\n",
       "  & city\\_nm & pop\\_2010\\_no & pop\\_2014\\_est & agg\\_sales\\_no & land\\_area\\_no & households\\_under\\_18\\_no & pop\\_density\\_no & total\\_families\\_no\\\\\n",
       "\\hline\n",
       "\t1 & Buffalo      &  4585        &  3900        & 185328       & 3115.5075    &  746         &  1.55        &  1819.50    \\\\\n",
       "\t2 & Casper       & 35316        & 32644        & 317736       & 3894.3091    & 7788         & 11.16        &  8756.32    \\\\\n",
       "\t3 & Cheyenne     & 59466        & 53011        & 917892       & 1500.1784    & 7158         & 20.34        & 14612.64    \\\\\n",
       "\t4 & Cody         &  9520        &  8835        & 218376       & 2998.9570    & 1403         &  1.82        &  3515.62    \\\\\n",
       "\t5 & Douglas      &  6120        &  5288        & 208008       & 1829.4651    &  832         &  1.46        &  1744.08    \\\\\n",
       "\t6 & Evanston     & 12359        & 11507        & 283824       &  999.4971    & 1486         &  4.95        &  2712.64    \\\\\n",
       "\t8 & Powell       &  6314        &  5373        & 233928       & 2673.5745    & 1251         &  1.62        &  3134.18    \\\\\n",
       "\t9 & Riverton     & 10615        &  9310        & 303264       & 4796.8598    & 2680         &  2.34        &  5556.49    \\\\\n",
       "\t10 & Rock Springs & 23036        & 18708        & 253584       & 6620.2019    & 4022         &  2.78        &  7572.18    \\\\\n",
       "\t11 & Sheridan     & 17444        & 15804        & 308232       & 1893.9770    & 2646         &  8.98        &  6039.71    \\\\\n",
       "\\end{tabular}\n"
      ],
      "text/markdown": [
       "\n",
       "| <!--/--> | city_nm | pop_2010_no | pop_2014_est | agg_sales_no | land_area_no | households_under_18_no | pop_density_no | total_families_no | \n",
       "|---|---|---|---|---|---|---|---|---|---|\n",
       "| 1 | Buffalo      |  4585        |  3900        | 185328       | 3115.5075    |  746         |  1.55        |  1819.50     | \n",
       "| 2 | Casper       | 35316        | 32644        | 317736       | 3894.3091    | 7788         | 11.16        |  8756.32     | \n",
       "| 3 | Cheyenne     | 59466        | 53011        | 917892       | 1500.1784    | 7158         | 20.34        | 14612.64     | \n",
       "| 4 | Cody         |  9520        |  8835        | 218376       | 2998.9570    | 1403         |  1.82        |  3515.62     | \n",
       "| 5 | Douglas      |  6120        |  5288        | 208008       | 1829.4651    |  832         |  1.46        |  1744.08     | \n",
       "| 6 | Evanston     | 12359        | 11507        | 283824       |  999.4971    | 1486         |  4.95        |  2712.64     | \n",
       "| 8 | Powell       |  6314        |  5373        | 233928       | 2673.5745    | 1251         |  1.62        |  3134.18     | \n",
       "| 9 | Riverton     | 10615        |  9310        | 303264       | 4796.8598    | 2680         |  2.34        |  5556.49     | \n",
       "| 10 | Rock Springs | 23036        | 18708        | 253584       | 6620.2019    | 4022         |  2.78        |  7572.18     | \n",
       "| 11 | Sheridan     | 17444        | 15804        | 308232       | 1893.9770    | 2646         |  8.98        |  6039.71     | \n",
       "\n",
       "\n"
      ],
      "text/plain": [
       "   city_nm      pop_2010_no pop_2014_est agg_sales_no land_area_no\n",
       "1  Buffalo       4585        3900        185328       3115.5075   \n",
       "2  Casper       35316       32644        317736       3894.3091   \n",
       "3  Cheyenne     59466       53011        917892       1500.1784   \n",
       "4  Cody          9520        8835        218376       2998.9570   \n",
       "5  Douglas       6120        5288        208008       1829.4651   \n",
       "6  Evanston     12359       11507        283824        999.4971   \n",
       "8  Powell        6314        5373        233928       2673.5745   \n",
       "9  Riverton     10615        9310        303264       4796.8598   \n",
       "10 Rock Springs 23036       18708        253584       6620.2019   \n",
       "11 Sheridan     17444       15804        308232       1893.9770   \n",
       "   households_under_18_no pop_density_no total_families_no\n",
       "1   746                    1.55           1819.50         \n",
       "2  7788                   11.16           8756.32         \n",
       "3  7158                   20.34          14612.64         \n",
       "4  1403                    1.82           3515.62         \n",
       "5   832                    1.46           1744.08         \n",
       "6  1486                    4.95           2712.64         \n",
       "8  1251                    1.62           3134.18         \n",
       "9  2680                    2.34           5556.49         \n",
       "10 4022                    2.78           7572.18         \n",
       "11 2646                    8.98           6039.71         "
      ]
     },
     "metadata": {},
     "output_type": "display_data"
    }
   ],
   "source": [
    "df.train"
   ]
  },
  {
   "cell_type": "code",
   "execution_count": 52,
   "metadata": {},
   "outputs": [
    {
     "data": {
      "image/png": "[encoded data removed]",
      "text/plain": [
       "Plot with title “”"
      ]
     },
     "metadata": {},
     "output_type": "display_data"
    }
   ],
   "source": [
    "chart.Correlation( df.train[,-1] )"
   ]
  },
  {
   "cell_type": "markdown",
   "metadata": {},
   "source": [
    "### Create linear model"
   ]
  },
  {
   "cell_type": "code",
   "execution_count": 53,
   "metadata": {},
   "outputs": [],
   "source": [
    "fit.glm <- glm( agg_sales_no\n",
    "              ~ land_area_no\n",
    "              + total_families_no\n",
    "              , family = gaussian()\n",
    "              , data = df.train )"
   ]
  },
  {
   "cell_type": "code",
   "execution_count": 54,
   "metadata": {},
   "outputs": [
    {
     "data": {
      "text/plain": [
       "\n",
       "Call:\n",
       "glm(formula = agg_sales_no ~ land_area_no + total_families_no, \n",
       "    family = gaussian(), data = df.train)\n",
       "\n",
       "Deviance Residuals: \n",
       "    Min       1Q   Median       3Q      Max  \n",
       "-121261    -4453     8418    40491    75205  \n",
       "\n",
       "Coefficients:\n",
       "                    Estimate Std. Error t value Pr(>|t|)    \n",
       "(Intercept)       197330.408  56449.000   3.496   0.0101 *  \n",
       "land_area_no         -48.425     14.184  -3.414   0.0112 *  \n",
       "total_families_no     49.136      6.055   8.115 8.32e-05 ***\n",
       "---\n",
       "Signif. codes:  0 ‘***’ 0.001 ‘**’ 0.01 ‘*’ 0.05 ‘.’ 0.1 ‘ ’ 1\n",
       "\n",
       "(Dispersion parameter for gaussian family taken to be 5188349915)\n",
       "\n",
       "    Null deviance: 4.1194e+11  on 9  degrees of freedom\n",
       "Residual deviance: 3.6318e+10  on 7  degrees of freedom\n",
       "AIC: 256.51\n",
       "\n",
       "Number of Fisher Scoring iterations: 2\n"
      ]
     },
     "metadata": {},
     "output_type": "display_data"
    }
   ],
   "source": [
    "summary( fit.glm )"
   ]
  },
  {
   "cell_type": "markdown",
   "metadata": {},
   "source": [
    "### Score the remaining cities"
   ]
  },
  {
   "cell_type": "markdown",
   "metadata": {},
   "source": [
    "#### Impute NA pop_2014_est value?"
   ]
  },
  {
   "cell_type": "code",
   "execution_count": 55,
   "metadata": {},
   "outputs": [],
   "source": [
    "# df.comb[is.na( df.comb$pop_2014_est ),]"
   ]
  },
  {
   "cell_type": "code",
   "execution_count": 56,
   "metadata": {},
   "outputs": [],
   "source": [
    "# fit.2014 <- glm( pop_2014_est\n",
    "#                ~ pop_2010_no\n",
    "#                + land_area_no\n",
    "#                + pop_density_no\n",
    "#                + total_families_no\n",
    "#                , family = gaussian()\n",
    "#                , data = df.comb )"
   ]
  },
  {
   "cell_type": "code",
   "execution_count": 57,
   "metadata": {},
   "outputs": [],
   "source": [
    "# summary( fit.2014 )"
   ]
  },
  {
   "cell_type": "code",
   "execution_count": 58,
   "metadata": {},
   "outputs": [],
   "source": [
    "# tidy( fit.2014 )"
   ]
  },
  {
   "cell_type": "code",
   "execution_count": 59,
   "metadata": {},
   "outputs": [],
   "source": [
    "# df.comb$pred_2014_est <- predict( fit.2014\n",
    "#        , newdata = df.comb )"
   ]
  },
  {
   "cell_type": "markdown",
   "metadata": {},
   "source": [
    "So Bear River would be 439 predicted from the above model"
   ]
  },
  {
   "cell_type": "code",
   "execution_count": 60,
   "metadata": {},
   "outputs": [],
   "source": [
    "df.comb[is.na( df.comb$pop_2014_est ),]$pop_2014_est <- 439"
   ]
  },
  {
   "cell_type": "markdown",
   "metadata": {},
   "source": [
    "### Create predictions on new cities"
   ]
  },
  {
   "cell_type": "code",
   "execution_count": 61,
   "metadata": {},
   "outputs": [
    {
     "data": {
      "text/html": [
       "<table>\n",
       "<thead><tr><th scope=col>BUSINESS.NAME</th><th scope=col>PHYSICAL.CITY.NAME</th><th scope=col>SALES.VOLUME</th><th scope=col>CASS_LastLine</th></tr></thead>\n",
       "<tbody>\n",
       "\t<tr><td>Mile High Mobile Pet LLC    </td><td>Cheyenne                    </td><td>300000                      </td><td>Cheyenne, WY 82007-3528     </td></tr>\n",
       "\t<tr><td>Pets City Inc               </td><td>Cheyenne                    </td><td>640000                      </td><td>Cheyenne, WY 82009-4851     </td></tr>\n",
       "\t<tr><td>Petco Animal Sups Stores Inc</td><td>Cheyenne                    </td><td>     0                      </td><td>Cheyenne, WY 82009-4945     </td></tr>\n",
       "\t<tr><td>Pet-A-Care                  </td><td>Cheyenne                    </td><td> 81000                      </td><td>Cheyenne, WY 82009-1009     </td></tr>\n",
       "\t<tr><td>Muddy Paws Pet Salon        </td><td>Laramie                     </td><td> 76000                      </td><td>Laramie, WY 82070-8979      </td></tr>\n",
       "\t<tr><td>Prossers Feed and Seed L L C</td><td>Wheatland                   </td><td> 77000                      </td><td>Wheatland, WY 82201-2901    </td></tr>\n",
       "</tbody>\n",
       "</table>\n"
      ],
      "text/latex": [
       "\\begin{tabular}{r|llll}\n",
       " BUSINESS.NAME & PHYSICAL.CITY.NAME & SALES.VOLUME & CASS\\_LastLine\\\\\n",
       "\\hline\n",
       "\t Mile High Mobile Pet LLC     & Cheyenne                     & 300000                       & Cheyenne, WY 82007-3528     \\\\\n",
       "\t Pets City Inc                & Cheyenne                     & 640000                       & Cheyenne, WY 82009-4851     \\\\\n",
       "\t Petco Animal Sups Stores Inc & Cheyenne                     &      0                       & Cheyenne, WY 82009-4945     \\\\\n",
       "\t Pet-A-Care                   & Cheyenne                     &  81000                       & Cheyenne, WY 82009-1009     \\\\\n",
       "\t Muddy Paws Pet Salon         & Laramie                      &  76000                       & Laramie, WY 82070-8979      \\\\\n",
       "\t Prossers Feed and Seed L L C & Wheatland                    &  77000                       & Wheatland, WY 82201-2901    \\\\\n",
       "\\end{tabular}\n"
      ],
      "text/markdown": [
       "\n",
       "BUSINESS.NAME | PHYSICAL.CITY.NAME | SALES.VOLUME | CASS_LastLine | \n",
       "|---|---|---|---|---|---|\n",
       "| Mile High Mobile Pet LLC     | Cheyenne                     | 300000                       | Cheyenne, WY 82007-3528      | \n",
       "| Pets City Inc                | Cheyenne                     | 640000                       | Cheyenne, WY 82009-4851      | \n",
       "| Petco Animal Sups Stores Inc | Cheyenne                     |      0                       | Cheyenne, WY 82009-4945      | \n",
       "| Pet-A-Care                   | Cheyenne                     |  81000                       | Cheyenne, WY 82009-1009      | \n",
       "| Muddy Paws Pet Salon         | Laramie                      |  76000                       | Laramie, WY 82070-8979       | \n",
       "| Prossers Feed and Seed L L C | Wheatland                    |  77000                       | Wheatland, WY 82201-2901     | \n",
       "\n",
       "\n"
      ],
      "text/plain": [
       "  BUSINESS.NAME                PHYSICAL.CITY.NAME SALES.VOLUME\n",
       "1 Mile High Mobile Pet LLC     Cheyenne           300000      \n",
       "2 Pets City Inc                Cheyenne           640000      \n",
       "3 Petco Animal Sups Stores Inc Cheyenne                0      \n",
       "4 Pet-A-Care                   Cheyenne            81000      \n",
       "5 Muddy Paws Pet Salon         Laramie             76000      \n",
       "6 Prossers Feed and Seed L L C Wheatland           77000      \n",
       "  CASS_LastLine           \n",
       "1 Cheyenne, WY 82007-3528 \n",
       "2 Cheyenne, WY 82009-4851 \n",
       "3 Cheyenne, WY 82009-4945 \n",
       "4 Cheyenne, WY 82009-1009 \n",
       "5 Laramie, WY 82070-8979  \n",
       "6 Wheatland, WY 82201-2901"
      ]
     },
     "metadata": {},
     "output_type": "display_data"
    }
   ],
   "source": [
    "head( df.comp )"
   ]
  },
  {
   "cell_type": "code",
   "execution_count": 62,
   "metadata": {},
   "outputs": [],
   "source": [
    "df.comp <- df.comp[,c(2,3)]"
   ]
  },
  {
   "cell_type": "code",
   "execution_count": 63,
   "metadata": {},
   "outputs": [],
   "source": [
    "df.comp.ag <- aggregate( df.comp$SALES.VOLUME, list( df.comp$PHYSICAL.CITY.NAME ), sum )"
   ]
  },
  {
   "cell_type": "code",
   "execution_count": 64,
   "metadata": {},
   "outputs": [],
   "source": [
    "names( df.comp.ag ) <- c( 'city_nm', 'comp_sales_no')"
   ]
  },
  {
   "cell_type": "code",
   "execution_count": 65,
   "metadata": {},
   "outputs": [
    {
     "name": "stderr",
     "output_type": "stream",
     "text": [
      "Joining, by = \"city_nm\"\n",
      "Warning message:\n",
      "“Column `city_nm` joining character vector and factor, coercing into character vector”"
     ]
    }
   ],
   "source": [
    "df.comp <- left_join( df.comb, df.comp.ag )"
   ]
  },
  {
   "cell_type": "code",
   "execution_count": 66,
   "metadata": {},
   "outputs": [],
   "source": [
    "df.comp.ag <- filter(df.comp.ag, comp_sales_no > 500000 )"
   ]
  },
  {
   "cell_type": "code",
   "execution_count": 67,
   "metadata": {},
   "outputs": [
    {
     "name": "stderr",
     "output_type": "stream",
     "text": [
      "Joining, by = \"city_nm\"\n",
      "Warning message:\n",
      "“Column `city_nm` joining character vector and factor, coercing into character vector”"
     ]
    }
   ],
   "source": [
    "df.comb <- left_join( df.comb, df.comp.ag )"
   ]
  },
  {
   "cell_type": "code",
   "execution_count": 68,
   "metadata": {},
   "outputs": [],
   "source": [
    "df.comb <- df.comb[ !is.na( df.comb$comp_sales_no ), ]"
   ]
  },
  {
   "cell_type": "code",
   "execution_count": 69,
   "metadata": {},
   "outputs": [],
   "source": [
    "df.comb$pred_sales_no <- predict( fit.glm, newdata = df.comb )"
   ]
  },
  {
   "cell_type": "code",
   "execution_count": 70,
   "metadata": {},
   "outputs": [
    {
     "data": {
      "text/html": [
       "<table>\n",
       "<thead><tr><th></th><th scope=col>city_nm</th><th scope=col>pop_2010_no</th><th scope=col>pop_2014_est</th><th scope=col>land_area_no</th><th scope=col>households_under_18_no</th><th scope=col>pop_density_no</th><th scope=col>total_families_no</th><th scope=col>comp_sales_no</th><th scope=col>pred_sales_no</th></tr></thead>\n",
       "<tbody>\n",
       "\t<tr><th scope=row>15</th><td>Cheyenne    </td><td>59466       </td><td>53011       </td><td>1500.178    </td><td>7158        </td><td>20.34       </td><td>14612.64    </td><td>1021000     </td><td>842687.5    </td></tr>\n",
       "\t<tr><th scope=row>34</th><td>Gillette    </td><td>29087       </td><td>19646       </td><td>2748.853    </td><td>4052        </td><td> 5.80       </td><td> 7189.43    </td><td>1130000     </td><td>417475.5    </td></tr>\n",
       "\t<tr><th scope=row>80</th><td>Rock Springs</td><td>23036       </td><td>18708       </td><td>6620.202    </td><td>4022        </td><td> 2.78       </td><td> 7572.18    </td><td> 990000     </td><td>248812.4    </td></tr>\n",
       "\t<tr><th scope=row>92</th><td>Torrington  </td><td> 6501       </td><td> 5776       </td><td>1599.818    </td><td>1034        </td><td> 4.39       </td><td> 2548.50    </td><td> 876991     </td><td>245081.8    </td></tr>\n",
       "</tbody>\n",
       "</table>\n"
      ],
      "text/latex": [
       "\\begin{tabular}{r|lllllllll}\n",
       "  & city\\_nm & pop\\_2010\\_no & pop\\_2014\\_est & land\\_area\\_no & households\\_under\\_18\\_no & pop\\_density\\_no & total\\_families\\_no & comp\\_sales\\_no & pred\\_sales\\_no\\\\\n",
       "\\hline\n",
       "\t15 & Cheyenne     & 59466        & 53011        & 1500.178     & 7158         & 20.34        & 14612.64     & 1021000      & 842687.5    \\\\\n",
       "\t34 & Gillette     & 29087        & 19646        & 2748.853     & 4052         &  5.80        &  7189.43     & 1130000      & 417475.5    \\\\\n",
       "\t80 & Rock Springs & 23036        & 18708        & 6620.202     & 4022         &  2.78        &  7572.18     &  990000      & 248812.4    \\\\\n",
       "\t92 & Torrington   &  6501        &  5776        & 1599.818     & 1034         &  4.39        &  2548.50     &  876991      & 245081.8    \\\\\n",
       "\\end{tabular}\n"
      ],
      "text/markdown": [
       "\n",
       "| <!--/--> | city_nm | pop_2010_no | pop_2014_est | land_area_no | households_under_18_no | pop_density_no | total_families_no | comp_sales_no | pred_sales_no | \n",
       "|---|---|---|---|\n",
       "| 15 | Cheyenne     | 59466        | 53011        | 1500.178     | 7158         | 20.34        | 14612.64     | 1021000      | 842687.5     | \n",
       "| 34 | Gillette     | 29087        | 19646        | 2748.853     | 4052         |  5.80        |  7189.43     | 1130000      | 417475.5     | \n",
       "| 80 | Rock Springs | 23036        | 18708        | 6620.202     | 4022         |  2.78        |  7572.18     |  990000      | 248812.4     | \n",
       "| 92 | Torrington   |  6501        |  5776        | 1599.818     | 1034         |  4.39        |  2548.50     |  876991      | 245081.8     | \n",
       "\n",
       "\n"
      ],
      "text/plain": [
       "   city_nm      pop_2010_no pop_2014_est land_area_no households_under_18_no\n",
       "15 Cheyenne     59466       53011        1500.178     7158                  \n",
       "34 Gillette     29087       19646        2748.853     4052                  \n",
       "80 Rock Springs 23036       18708        6620.202     4022                  \n",
       "92 Torrington    6501        5776        1599.818     1034                  \n",
       "   pop_density_no total_families_no comp_sales_no pred_sales_no\n",
       "15 20.34          14612.64          1021000       842687.5     \n",
       "34  5.80           7189.43          1130000       417475.5     \n",
       "80  2.78           7572.18           990000       248812.4     \n",
       "92  4.39           2548.50           876991       245081.8     "
      ]
     },
     "metadata": {},
     "output_type": "display_data"
    }
   ],
   "source": [
    "df.comb"
   ]
  },
  {
   "cell_type": "markdown",
   "metadata": {},
   "source": [
    "## Prediction and recommendation"
   ]
  },
  {
   "cell_type": "markdown",
   "metadata": {},
   "source": [
    "- For a new city, with all of the criteria above, I would recommend Torrington for the new Pawdacity store."
   ]
  }
 ],
 "metadata": {
  "kernelspec": {
   "display_name": "R",
   "language": "R",
   "name": "ir"
  },
  "language_info": {
   "codemirror_mode": "r",
   "file_extension": ".r",
   "mimetype": "text/x-r-source",
   "name": "R",
   "pygments_lexer": "r",
   "version": "3.4.3"
  }
 },
 "nbformat": 4,
 "nbformat_minor": 2
}
