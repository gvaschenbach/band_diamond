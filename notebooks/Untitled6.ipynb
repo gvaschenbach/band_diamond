{
 "cells": [
  {
   "cell_type": "markdown",
   "metadata": {},
   "source": [
    "## Project 3\n",
    "### Student: Peter Jones\n",
    "### Title: Reports for Northwind foods\n",
    "### Date: 2018.03.30"
   ]
  },
  {
   "cell_type": "markdown",
   "metadata": {},
   "source": [
    "### Libraries"
   ]
  },
  {
   "cell_type": "code",
   "execution_count": 5,
   "metadata": {},
   "outputs": [
    {
     "ename": "ERROR",
     "evalue": "Error in library(RSQLite): there is no package called ‘RSQLite’\n",
     "execution_count": 5,
     "output_type": "error",
     "traceback": [
      "Error in library(RSQLite): there is no package called ‘RSQLite’\nTraceback:\n",
      "1. library(RSQLite)",
      "2. stop(txt, domain = NA)"
     ]
    }
   ],
   "source": [
    "library( RSQLite )"
   ]
  }
 ],
 "metadata": {
  "kernelspec": {
   "display_name": "R",
   "language": "R",
   "name": "ir"
  },
  "language_info": {
   "codemirror_mode": "r",
   "file_extension": ".r",
   "mimetype": "text/x-r-source",
   "name": "R",
   "pygments_lexer": "r",
   "version": "3.4.3"
  }
 },
 "nbformat": 4,
 "nbformat_minor": 2
}
