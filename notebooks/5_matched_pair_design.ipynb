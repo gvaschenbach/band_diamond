{
 "cells": [
  {
   "cell_type": "code",
   "execution_count": 1,
   "metadata": {},
   "outputs": [],
   "source": [
    "library( MatchIt )"
   ]
  },
  {
   "cell_type": "code",
   "execution_count": 2,
   "metadata": {},
   "outputs": [],
   "source": [
    "df.t <- read.csv( '../data/5_abtest/grapeproducttreatmentstores.csv' )\n",
    "df.c <- read.csv( '../data/5_abtest/newproductcontroldata.csv' )"
   ]
  },
  {
   "cell_type": "code",
   "execution_count": 3,
   "metadata": {},
   "outputs": [],
   "source": [
    "df.t$Store.ID <- factor( df.t$Store.ID )\n",
    "df.c$Store.ID <- factor( df.c$Store.ID )"
   ]
  },
  {
   "cell_type": "code",
   "execution_count": 4,
   "metadata": {},
   "outputs": [],
   "source": [
    "df.t$case_control_flg <- 1\n",
    "df.c$case_control_flg <- 0"
   ]
  },
  {
   "cell_type": "code",
   "execution_count": 5,
   "metadata": {},
   "outputs": [],
   "source": [
    "df <- rbind( df.t, df.c )"
   ]
  },
  {
   "cell_type": "code",
   "execution_count": 6,
   "metadata": {},
   "outputs": [],
   "source": [
    "df <- droplevels( df[df$State =='CA',] )"
   ]
  },
  {
   "cell_type": "code",
   "execution_count": 7,
   "metadata": {},
   "outputs": [
    {
     "data": {
      "text/html": [
       "'CA'"
      ],
      "text/latex": [
       "'CA'"
      ],
      "text/markdown": [
       "'CA'"
      ],
      "text/plain": [
       "[1] \"CA\""
      ]
     },
     "metadata": {},
     "output_type": "display_data"
    }
   ],
   "source": [
    "levels( df$State )"
   ]
  },
  {
   "cell_type": "code",
   "execution_count": 8,
   "metadata": {},
   "outputs": [],
   "source": [
    "# df$case_control_flg <- factor( df$case_control_flg )\n",
    "\n",
    "# df <- transform( df\n",
    "#        , case_control_flg = factor( case_control_flg\n",
    "#                                 , levels = c( 0, 1 )\n",
    "#                                 , labels = c( 'Control', 'Case' )\n",
    "#                                 )\n",
    "# )"
   ]
  },
  {
   "cell_type": "markdown",
   "metadata": {},
   "source": [
    "# Matching"
   ]
  },
  {
   "cell_type": "code",
   "execution_count": 9,
   "metadata": {},
   "outputs": [],
   "source": [
    "df.m <- matchit( case_control_flg\n",
    "       ~ Category.Sales\n",
    "       + Product.Count\n",
    "       , data = df \n",
    "       , ratio = 2\n",
    "       , method = 'nearest' )"
   ]
  },
  {
   "cell_type": "code",
   "execution_count": 10,
   "metadata": {},
   "outputs": [
    {
     "data": {
      "text/plain": [
       "\n",
       "Call:\n",
       "matchit(formula = case_control_flg ~ Category.Sales + Product.Count, \n",
       "    data = df, method = \"nearest\", ratio = 2)\n",
       "\n",
       "Summary of balance for all data:\n",
       "               Means Treated Means Control SD Control  Mean Diff   eQQ Med\n",
       "distance              0.0199        0.0107     0.0076     0.0092    0.0025\n",
       "Category.Sales    12976.1330    18159.3166 41450.3490 -5183.1836 2730.9950\n",
       "Product.Count         4.2000        4.9890     1.2094    -0.7890    1.0000\n",
       "                 eQQ Mean    eQQ Max\n",
       "distance           0.0044      0.017\n",
       "Category.Sales 76447.2760 731822.720\n",
       "Product.Count      0.7000      1.000\n",
       "\n",
       "\n",
       "Summary of balance for matched data:\n",
       "               Means Treated Means Control SD Control Mean Diff eQQ Med\n",
       "distance              0.0199        0.0199     0.0201    0.0000       0\n",
       "Category.Sales    12976.1330    13052.0805 17641.5471  -75.9475       0\n",
       "Product.Count         4.2000        4.2000     1.7652    0.0000       0\n",
       "               eQQ Mean eQQ Max\n",
       "distance          0.000     0.0\n",
       "Category.Sales   49.413   450.4\n",
       "Product.Count     0.000     0.0\n",
       "\n",
       "Percent Balance Improvement:\n",
       "               Mean Diff. eQQ Med eQQ Mean  eQQ Max\n",
       "distance          99.9812     100  99.9933  99.9839\n",
       "Category.Sales    98.5347     100  99.9354  99.9385\n",
       "Product.Count    100.0000     100 100.0000 100.0000\n",
       "\n",
       "Sample sizes:\n",
       "          Control Treated\n",
       "All           913      10\n",
       "Matched        20      10\n",
       "Unmatched     893       0\n",
       "Discarded       0       0\n"
      ]
     },
     "metadata": {},
     "output_type": "display_data"
    }
   ],
   "source": [
    "summary( df.m )"
   ]
  },
  {
   "cell_type": "code",
   "execution_count": 11,
   "metadata": {},
   "outputs": [],
   "source": [
    "df.f <- match.data( df.m )[1:ncol( df)]"
   ]
  },
  {
   "cell_type": "markdown",
   "metadata": {},
   "source": [
    "# Tableone"
   ]
  },
  {
   "cell_type": "code",
   "execution_count": 14,
   "metadata": {},
   "outputs": [],
   "source": [
    "library( tableone )\n",
    "library( knitr )"
   ]
  },
  {
   "cell_type": "code",
   "execution_count": 15,
   "metadata": {},
   "outputs": [],
   "source": [
    "tblo <- CreateTableOne( vars = c( 'Category.Sales', 'Product.Count', 'Size' )\n",
    "                       , data = df.f\n",
    "                       , factorVars = c( 'Size' )\n",
    "                       , strata = 'case_control_flg' )"
   ]
  },
  {
   "cell_type": "code",
   "execution_count": 16,
   "metadata": {},
   "outputs": [
    {
     "data": {
      "text/plain": [
       "\n",
       "\n",
       "|                           |          0          |          1          |   p   |\n",
       "|:--------------------------|:-------------------:|:-------------------:|:-----:|\n",
       "|n                          |         20          |         10          |       |\n",
       "|Category.Sales (mean (sd)) | 13052.08 (17641.55) | 12976.13 (18032.12) | 0.991 |\n",
       "|Product.Count (mean (sd))  |     4.20 (1.77)     |     4.20 (1.81)     | 1.000 |\n",
       "|Size = Medium (%)          |       1 (5.0)       |       0 (0.0)       | 1.000 |"
      ]
     },
     "metadata": {},
     "output_type": "display_data"
    }
   ],
   "source": [
    "tblo <- print(tblo, \n",
    "                printToggle = FALSE, \n",
    "                noSpaces = TRUE )\n",
    "kable(tblo[,1:3],  \n",
    "      align = 'c', \n",
    "      caption = 'Table 1: Comparison of matched samples'\n",
    "     , format = 'markdown' )"
   ]
  },
  {
   "cell_type": "code",
   "execution_count": 17,
   "metadata": {},
   "outputs": [],
   "source": [
    "need.melt <- cbind( df.t, df.m$match.matrix )[,c(1,9,10)]"
   ]
  },
  {
   "cell_type": "code",
   "execution_count": 18,
   "metadata": {},
   "outputs": [],
   "source": [
    "library( reshape2 )"
   ]
  },
  {
   "cell_type": "code",
   "execution_count": 19,
   "metadata": {},
   "outputs": [
    {
     "name": "stderr",
     "output_type": "stream",
     "text": [
      "Warning message:\n",
      "“attributes are not identical across measure variables; they will be dropped”"
     ]
    }
   ],
   "source": [
    "matched <- melt( need.melt, id.var = 'Store.ID' )[,c(1,3)]"
   ]
  },
  {
   "cell_type": "code",
   "execution_count": 20,
   "metadata": {},
   "outputs": [],
   "source": [
    "names( matched ) <- c( 'Store.ID', 'Matched.Store')"
   ]
  },
  {
   "cell_type": "code",
   "execution_count": 21,
   "metadata": {},
   "outputs": [
    {
     "data": {
      "text/html": [
       "<table>\n",
       "<thead><tr><th scope=col>Store.ID</th><th scope=col>Matched.Store</th></tr></thead>\n",
       "<tbody>\n",
       "\t<tr><td>332 </td><td>342 </td></tr>\n",
       "\t<tr><td>944 </td><td>954 </td></tr>\n",
       "\t<tr><td>1181</td><td>1191</td></tr>\n",
       "\t<tr><td>2696</td><td>2706</td></tr>\n",
       "\t<tr><td>2717</td><td>2727</td></tr>\n",
       "\t<tr><td>3060</td><td>3070</td></tr>\n",
       "\t<tr><td>5019</td><td>5029</td></tr>\n",
       "\t<tr><td>5051</td><td>5061</td></tr>\n",
       "\t<tr><td>5395</td><td>5405</td></tr>\n",
       "\t<tr><td>5834</td><td>5844</td></tr>\n",
       "\t<tr><td>332 </td><td>3966</td></tr>\n",
       "\t<tr><td>944 </td><td>381 </td></tr>\n",
       "\t<tr><td>1181</td><td>2675</td></tr>\n",
       "\t<tr><td>2696</td><td>6283</td></tr>\n",
       "\t<tr><td>2717</td><td>5067</td></tr>\n",
       "\t<tr><td>3060</td><td>5356</td></tr>\n",
       "\t<tr><td>5019</td><td>3082</td></tr>\n",
       "\t<tr><td>5051</td><td>1380</td></tr>\n",
       "\t<tr><td>5395</td><td>3060</td></tr>\n",
       "\t<tr><td>5834</td><td>3964</td></tr>\n",
       "</tbody>\n",
       "</table>\n"
      ],
      "text/latex": [
       "\\begin{tabular}{r|ll}\n",
       " Store.ID & Matched.Store\\\\\n",
       "\\hline\n",
       "\t 332  & 342 \\\\\n",
       "\t 944  & 954 \\\\\n",
       "\t 1181 & 1191\\\\\n",
       "\t 2696 & 2706\\\\\n",
       "\t 2717 & 2727\\\\\n",
       "\t 3060 & 3070\\\\\n",
       "\t 5019 & 5029\\\\\n",
       "\t 5051 & 5061\\\\\n",
       "\t 5395 & 5405\\\\\n",
       "\t 5834 & 5844\\\\\n",
       "\t 332  & 3966\\\\\n",
       "\t 944  & 381 \\\\\n",
       "\t 1181 & 2675\\\\\n",
       "\t 2696 & 6283\\\\\n",
       "\t 2717 & 5067\\\\\n",
       "\t 3060 & 5356\\\\\n",
       "\t 5019 & 3082\\\\\n",
       "\t 5051 & 1380\\\\\n",
       "\t 5395 & 3060\\\\\n",
       "\t 5834 & 3964\\\\\n",
       "\\end{tabular}\n"
      ],
      "text/markdown": [
       "\n",
       "Store.ID | Matched.Store | \n",
       "|---|---|---|---|---|---|---|---|---|---|---|---|---|---|---|---|---|---|---|---|\n",
       "| 332  | 342  | \n",
       "| 944  | 954  | \n",
       "| 1181 | 1191 | \n",
       "| 2696 | 2706 | \n",
       "| 2717 | 2727 | \n",
       "| 3060 | 3070 | \n",
       "| 5019 | 5029 | \n",
       "| 5051 | 5061 | \n",
       "| 5395 | 5405 | \n",
       "| 5834 | 5844 | \n",
       "| 332  | 3966 | \n",
       "| 944  | 381  | \n",
       "| 1181 | 2675 | \n",
       "| 2696 | 6283 | \n",
       "| 2717 | 5067 | \n",
       "| 3060 | 5356 | \n",
       "| 5019 | 3082 | \n",
       "| 5051 | 1380 | \n",
       "| 5395 | 3060 | \n",
       "| 5834 | 3964 | \n",
       "\n",
       "\n"
      ],
      "text/plain": [
       "   Store.ID Matched.Store\n",
       "1  332      342          \n",
       "2  944      954          \n",
       "3  1181     1191         \n",
       "4  2696     2706         \n",
       "5  2717     2727         \n",
       "6  3060     3070         \n",
       "7  5019     5029         \n",
       "8  5051     5061         \n",
       "9  5395     5405         \n",
       "10 5834     5844         \n",
       "11 332      3966         \n",
       "12 944      381          \n",
       "13 1181     2675         \n",
       "14 2696     6283         \n",
       "15 2717     5067         \n",
       "16 3060     5356         \n",
       "17 5019     3082         \n",
       "18 5051     1380         \n",
       "19 5395     3060         \n",
       "20 5834     3964         "
      ]
     },
     "metadata": {},
     "output_type": "display_data"
    }
   ],
   "source": [
    "matched"
   ]
  }
 ],
 "metadata": {
  "kernelspec": {
   "display_name": "R",
   "language": "R",
   "name": "ir"
  },
  "language_info": {
   "codemirror_mode": "r",
   "file_extension": ".r",
   "mimetype": "text/x-r-source",
   "name": "R",
   "pygments_lexer": "r",
   "version": "3.4.3"
  }
 },
 "nbformat": 4,
 "nbformat_minor": 2
}
