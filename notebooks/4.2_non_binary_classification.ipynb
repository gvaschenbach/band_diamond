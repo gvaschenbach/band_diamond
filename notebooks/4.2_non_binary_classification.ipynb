{
 "cells": [
  {
   "cell_type": "markdown",
   "metadata": {},
   "source": [
    "### Libraries"
   ]
  },
  {
   "cell_type": "code",
   "execution_count": 1,
   "metadata": {},
   "outputs": [
    {
     "name": "stderr",
     "output_type": "stream",
     "text": [
      "Loading required package: lattice\n",
      "Loading required package: ggplot2\n",
      "Loading required package: Rcpp\n",
      "## \n",
      "## Amelia II: Multiple Imputation\n",
      "## (Version 1.7.4, built: 2015-12-05)\n",
      "## Copyright (C) 2005-2018 James Honaker, Gary King and Matthew Blackwell\n",
      "## Refer to http://gking.harvard.edu/amelia/ for more information\n",
      "## \n"
     ]
    }
   ],
   "source": [
    "library( rpart )\n",
    "library( caret )\n",
    "library( Amelia )"
   ]
  },
  {
   "cell_type": "markdown",
   "metadata": {},
   "source": [
    "### Data"
   ]
  },
  {
   "cell_type": "code",
   "execution_count": 2,
   "metadata": {},
   "outputs": [],
   "source": [
    "df <- read.csv( '../data/processed/employee-transportationdata.csv' )"
   ]
  },
  {
   "cell_type": "code",
   "execution_count": 3,
   "metadata": {},
   "outputs": [
    {
     "name": "stdout",
     "output_type": "stream",
     "text": [
      "'data.frame':\t3838 obs. of  6 variables:\n",
      " $ Employee.ID       : int  649 991 611 791 1247 3261 1224 1074 779 250 ...\n",
      " $ GENDER            : Factor w/ 3 levels \"F\",\"M\",\"U\": 1 2 1 2 2 1 1 2 2 2 ...\n",
      " $ Age               : int  31 53 37 41 87 34 65 70 41 52 ...\n",
      " $ MARITAL.STATUS    : Factor w/ 2 levels \"M\",\"S\": 2 2 2 2 1 2 1 2 2 2 ...\n",
      " $ DriveDistanceMiles: num  0.34 0.41 0.49 0.5 0.5 0.53 0.61 0.67 0.76 0.85 ...\n",
      " $ Mode              : Factor w/ 3 levels \"Bike\",\"Car\",\"Public Transportation\": 2 3 1 1 3 1 3 3 1 2 ...\n"
     ]
    }
   ],
   "source": [
    "str( df )"
   ]
  },
  {
   "cell_type": "markdown",
   "metadata": {},
   "source": [
    "### Decision tree model"
   ]
  },
  {
   "cell_type": "markdown",
   "metadata": {},
   "source": [
    "### Check for missing data"
   ]
  },
  {
   "cell_type": "code",
   "execution_count": null,
   "metadata": {},
   "outputs": [],
   "source": [
    "# missmap( df )"
   ]
  },
  {
   "cell_type": "markdown",
   "metadata": {},
   "source": [
    "Annoyingly complete..."
   ]
  },
  {
   "cell_type": "markdown",
   "metadata": {},
   "source": [
    "### Partition the data"
   ]
  },
  {
   "cell_type": "code",
   "execution_count": 4,
   "metadata": {},
   "outputs": [],
   "source": [
    "train <- createDataPartition( df$Mode, 1, p = 0.6, list = FALSE )"
   ]
  },
  {
   "cell_type": "code",
   "execution_count": 5,
   "metadata": {},
   "outputs": [],
   "source": [
    "df.train <- df[train,]"
   ]
  },
  {
   "cell_type": "code",
   "execution_count": 6,
   "metadata": {},
   "outputs": [],
   "source": [
    "df.test <- df[-train,]"
   ]
  },
  {
   "cell_type": "code",
   "execution_count": 7,
   "metadata": {},
   "outputs": [
    {
     "data": {
      "text/html": [
       "2304"
      ],
      "text/latex": [
       "2304"
      ],
      "text/markdown": [
       "2304"
      ],
      "text/plain": [
       "[1] 2304"
      ]
     },
     "metadata": {},
     "output_type": "display_data"
    },
    {
     "data": {
      "text/html": [
       "1534"
      ],
      "text/latex": [
       "1534"
      ],
      "text/markdown": [
       "1534"
      ],
      "text/plain": [
       "[1] 1534"
      ]
     },
     "metadata": {},
     "output_type": "display_data"
    }
   ],
   "source": [
    "nrow( df.train);nrow( df.test)"
   ]
  },
  {
   "cell_type": "markdown",
   "metadata": {},
   "source": [
    "### Decision tree model"
   ]
  },
  {
   "cell_type": "code",
   "execution_count": 8,
   "metadata": {},
   "outputs": [],
   "source": [
    "fit.tree <- rpart( Mode\n",
    "     ~ GENDER\n",
    "     + Age\n",
    "     + MARITAL.STATUS\n",
    "     + DriveDistanceMiles\n",
    "     , data = df.train )"
   ]
  },
  {
   "cell_type": "code",
   "execution_count": 9,
   "metadata": {},
   "outputs": [],
   "source": [
    "pred <- predict( fit.tree, df.test )"
   ]
  },
  {
   "cell_type": "code",
   "execution_count": 10,
   "metadata": {},
   "outputs": [],
   "source": [
    "predictions <- cbind( df.test$Mode, pred )"
   ]
  },
  {
   "cell_type": "code",
   "execution_count": 11,
   "metadata": {},
   "outputs": [],
   "source": [
    "df.test <- cbind( df.test, predictions )"
   ]
  },
  {
   "cell_type": "code",
   "execution_count": 18,
   "metadata": {},
   "outputs": [],
   "source": [
    "names( df.test ) <- c(\"Employee.ID\", \"GENDER\", \"Age\", \"MARITAL.STATUS\", \"DriveDistanceMiles\", \n",
    "\"Mode\", \"V1\", \"Bike\", \"Car\", \"Public_Transportation\")"
   ]
  },
  {
   "cell_type": "code",
   "execution_count": 19,
   "metadata": {},
   "outputs": [],
   "source": [
    "df.test <- within( df.test, {\n",
    "    pred = NA\n",
    "    pred[Bike > 0.5] = 1\n",
    "    pred[Car > 0.5] = 2\n",
    "    pred[Public_Transportation > 0.5] = 3\n",
    "})"
   ]
  },
  {
   "cell_type": "code",
   "execution_count": 20,
   "metadata": {},
   "outputs": [
    {
     "data": {
      "text/plain": [
       "Confusion Matrix and Statistics\n",
       "\n",
       "          Reference\n",
       "Prediction   1   2   3\n",
       "         1 129   0   0\n",
       "         2  15 895  42\n",
       "         3   8  70 375\n",
       "\n",
       "Overall Statistics\n",
       "                                          \n",
       "               Accuracy : 0.912           \n",
       "                 95% CI : (0.8967, 0.9257)\n",
       "    No Information Rate : 0.6291          \n",
       "    P-Value [Acc > NIR] : < 2.2e-16       \n",
       "                                          \n",
       "                  Kappa : 0.8311          \n",
       " Mcnemar's Test P-Value : 1.38e-06        \n",
       "\n",
       "Statistics by Class:\n",
       "\n",
       "                     Class: 1 Class: 2 Class: 3\n",
       "Sensitivity           0.84868   0.9275   0.8993\n",
       "Specificity           1.00000   0.8998   0.9302\n",
       "Pos Pred Value        1.00000   0.9401   0.8278\n",
       "Neg Pred Value        0.98363   0.8797   0.9611\n",
       "Prevalence            0.09909   0.6291   0.2718\n",
       "Detection Rate        0.08409   0.5834   0.2445\n",
       "Detection Prevalence  0.08409   0.6206   0.2953\n",
       "Balanced Accuracy     0.92434   0.9136   0.9147"
      ]
     },
     "metadata": {},
     "output_type": "display_data"
    }
   ],
   "source": [
    "confusionMatrix( df.test$V1, df.test$pred )"
   ]
  },
  {
   "cell_type": "code",
   "execution_count": 22,
   "metadata": {},
   "outputs": [],
   "source": [
    "df.test <- df.test[,c(1:6,11)]"
   ]
  },
  {
   "cell_type": "code",
   "execution_count": 26,
   "metadata": {},
   "outputs": [],
   "source": [
    "names( df.test ) <- c(\"Employee.ID\", \"GENDER\", \"Age\", \"MARITAL.STATUS\", \"DriveDistanceMiles\", \n",
    "\"Mode\", \"pred.dt\")"
   ]
  },
  {
   "cell_type": "markdown",
   "metadata": {},
   "source": [
    "### Random Forest model"
   ]
  },
  {
   "cell_type": "code",
   "execution_count": 27,
   "metadata": {},
   "outputs": [
    {
     "name": "stderr",
     "output_type": "stream",
     "text": [
      "Warning message:\n",
      "“package ‘randomForest’ was built under R version 3.4.4”randomForest 4.6-14\n",
      "Type rfNews() to see new features/changes/bug fixes.\n",
      "\n",
      "Attaching package: ‘randomForest’\n",
      "\n",
      "The following object is masked from ‘package:ggplot2’:\n",
      "\n",
      "    margin\n",
      "\n"
     ]
    }
   ],
   "source": [
    "library( randomForest )"
   ]
  },
  {
   "cell_type": "code",
   "execution_count": 28,
   "metadata": {},
   "outputs": [],
   "source": [
    "fit.rf <- randomForest( Mode\n",
    "                      ~ .\n",
    "                      , data = df.train[, -1 ] )"
   ]
  },
  {
   "cell_type": "code",
   "execution_count": 29,
   "metadata": {},
   "outputs": [
    {
     "data": {
      "image/png": "[encoded data removed]",
      "text/plain": [
       "Plot with title “fit.rf”"
      ]
     },
     "metadata": {},
     "output_type": "display_data"
    }
   ],
   "source": [
    "plot( fit.rf )"
   ]
  },
  {
   "cell_type": "code",
   "execution_count": 30,
   "metadata": {},
   "outputs": [
    {
     "data": {
      "text/html": [
       "<table>\n",
       "<thead><tr><th></th><th scope=col>MeanDecreaseGini</th></tr></thead>\n",
       "<tbody>\n",
       "\t<tr><th scope=row>GENDER</th><td> 12.66793</td></tr>\n",
       "\t<tr><th scope=row>Age</th><td>414.17125</td></tr>\n",
       "\t<tr><th scope=row>MARITAL.STATUS</th><td> 15.84318</td></tr>\n",
       "\t<tr><th scope=row>DriveDistanceMiles</th><td>622.73310</td></tr>\n",
       "</tbody>\n",
       "</table>\n"
      ],
      "text/latex": [
       "\\begin{tabular}{r|l}\n",
       "  & MeanDecreaseGini\\\\\n",
       "\\hline\n",
       "\tGENDER &  12.66793\\\\\n",
       "\tAge & 414.17125\\\\\n",
       "\tMARITAL.STATUS &  15.84318\\\\\n",
       "\tDriveDistanceMiles & 622.73310\\\\\n",
       "\\end{tabular}\n"
      ],
      "text/markdown": [
       "\n",
       "| <!--/--> | MeanDecreaseGini | \n",
       "|---|---|---|---|\n",
       "| GENDER |  12.66793 | \n",
       "| Age | 414.17125 | \n",
       "| MARITAL.STATUS |  15.84318 | \n",
       "| DriveDistanceMiles | 622.73310 | \n",
       "\n",
       "\n"
      ],
      "text/plain": [
       "                   MeanDecreaseGini\n",
       "GENDER              12.66793       \n",
       "Age                414.17125       \n",
       "MARITAL.STATUS      15.84318       \n",
       "DriveDistanceMiles 622.73310       "
      ]
     },
     "metadata": {},
     "output_type": "display_data"
    }
   ],
   "source": [
    "importance( fit.rf )"
   ]
  },
  {
   "cell_type": "code",
   "execution_count": 31,
   "metadata": {},
   "outputs": [],
   "source": [
    "df.test$pred.rf <- predict( fit.rf, df.test )"
   ]
  },
  {
   "cell_type": "code",
   "execution_count": 33,
   "metadata": {},
   "outputs": [
    {
     "data": {
      "text/html": [
       "<table>\n",
       "<thead><tr><th></th><th scope=col>Employee.ID</th><th scope=col>GENDER</th><th scope=col>Age</th><th scope=col>MARITAL.STATUS</th><th scope=col>DriveDistanceMiles</th><th scope=col>Mode</th><th scope=col>pred.dt</th><th scope=col>pred.rf</th></tr></thead>\n",
       "<tbody>\n",
       "\t<tr><th scope=row>1</th><td> 649                 </td><td>F                    </td><td>31                   </td><td>S                    </td><td>0.34                 </td><td>Car                  </td><td>1                    </td><td>Bike                 </td></tr>\n",
       "\t<tr><th scope=row>4</th><td> 791                 </td><td>M                    </td><td>41                   </td><td>S                    </td><td>0.50                 </td><td>Bike                 </td><td>1                    </td><td>Bike                 </td></tr>\n",
       "\t<tr><th scope=row>5</th><td>1247                 </td><td>M                    </td><td>87                   </td><td>M                    </td><td>0.50                 </td><td>Public Transportation</td><td>3                    </td><td>Car                  </td></tr>\n",
       "\t<tr><th scope=row>6</th><td>3261                 </td><td>F                    </td><td>34                   </td><td>S                    </td><td>0.53                 </td><td>Bike                 </td><td>1                    </td><td>Bike                 </td></tr>\n",
       "\t<tr><th scope=row>8</th><td>1074                 </td><td>M                    </td><td>70                   </td><td>S                    </td><td>0.67                 </td><td>Public Transportation</td><td>3                    </td><td>Public Transportation</td></tr>\n",
       "\t<tr><th scope=row>9</th><td> 779                 </td><td>M                    </td><td>41                   </td><td>S                    </td><td>0.76                 </td><td>Bike                 </td><td>1                    </td><td>Bike                 </td></tr>\n",
       "</tbody>\n",
       "</table>\n"
      ],
      "text/latex": [
       "\\begin{tabular}{r|llllllll}\n",
       "  & Employee.ID & GENDER & Age & MARITAL.STATUS & DriveDistanceMiles & Mode & pred.dt & pred.rf\\\\\n",
       "\\hline\n",
       "\t1 &  649                  & F                     & 31                    & S                     & 0.34                  & Car                   & 1                     & Bike                 \\\\\n",
       "\t4 &  791                  & M                     & 41                    & S                     & 0.50                  & Bike                  & 1                     & Bike                 \\\\\n",
       "\t5 & 1247                  & M                     & 87                    & M                     & 0.50                  & Public Transportation & 3                     & Car                  \\\\\n",
       "\t6 & 3261                  & F                     & 34                    & S                     & 0.53                  & Bike                  & 1                     & Bike                 \\\\\n",
       "\t8 & 1074                  & M                     & 70                    & S                     & 0.67                  & Public Transportation & 3                     & Public Transportation\\\\\n",
       "\t9 &  779                  & M                     & 41                    & S                     & 0.76                  & Bike                  & 1                     & Bike                 \\\\\n",
       "\\end{tabular}\n"
      ],
      "text/markdown": [
       "\n",
       "| <!--/--> | Employee.ID | GENDER | Age | MARITAL.STATUS | DriveDistanceMiles | Mode | pred.dt | pred.rf | \n",
       "|---|---|---|---|---|---|\n",
       "| 1 |  649                  | F                     | 31                    | S                     | 0.34                  | Car                   | 1                     | Bike                  | \n",
       "| 4 |  791                  | M                     | 41                    | S                     | 0.50                  | Bike                  | 1                     | Bike                  | \n",
       "| 5 | 1247                  | M                     | 87                    | M                     | 0.50                  | Public Transportation | 3                     | Car                   | \n",
       "| 6 | 3261                  | F                     | 34                    | S                     | 0.53                  | Bike                  | 1                     | Bike                  | \n",
       "| 8 | 1074                  | M                     | 70                    | S                     | 0.67                  | Public Transportation | 3                     | Public Transportation | \n",
       "| 9 |  779                  | M                     | 41                    | S                     | 0.76                  | Bike                  | 1                     | Bike                  | \n",
       "\n",
       "\n"
      ],
      "text/plain": [
       "  Employee.ID GENDER Age MARITAL.STATUS DriveDistanceMiles\n",
       "1  649        F      31  S              0.34              \n",
       "4  791        M      41  S              0.50              \n",
       "5 1247        M      87  M              0.50              \n",
       "6 3261        F      34  S              0.53              \n",
       "8 1074        M      70  S              0.67              \n",
       "9  779        M      41  S              0.76              \n",
       "  Mode                  pred.dt pred.rf              \n",
       "1 Car                   1       Bike                 \n",
       "4 Bike                  1       Bike                 \n",
       "5 Public Transportation 3       Car                  \n",
       "6 Bike                  1       Bike                 \n",
       "8 Public Transportation 3       Public Transportation\n",
       "9 Bike                  1       Bike                 "
      ]
     },
     "metadata": {},
     "output_type": "display_data"
    }
   ],
   "source": [
    "head( df.test )"
   ]
  },
  {
   "cell_type": "code",
   "execution_count": 34,
   "metadata": {},
   "outputs": [
    {
     "data": {
      "text/plain": [
       "Confusion Matrix and Statistics\n",
       "\n",
       "                       Reference\n",
       "Prediction              Bike Car Public Transportation\n",
       "  Bike                   123   6                     0\n",
       "  Car                     15 887                    50\n",
       "  Public Transportation    6  57                   390\n",
       "\n",
       "Overall Statistics\n",
       "                                          \n",
       "               Accuracy : 0.9126          \n",
       "                 95% CI : (0.8974, 0.9263)\n",
       "    No Information Rate : 0.6193          \n",
       "    P-Value [Acc > NIR] : < 2e-16         \n",
       "                                          \n",
       "                  Kappa : 0.833           \n",
       " Mcnemar's Test P-Value : 0.01607         \n",
       "\n",
       "Statistics by Class:\n",
       "\n",
       "                     Class: Bike Class: Car Class: Public Transportation\n",
       "Sensitivity              0.85417     0.9337                       0.8864\n",
       "Specificity              0.99568     0.8887                       0.9424\n",
       "Pos Pred Value           0.95349     0.9317                       0.8609\n",
       "Neg Pred Value           0.98505     0.8918                       0.9537\n",
       "Prevalence               0.09387     0.6193                       0.2868\n",
       "Detection Rate           0.08018     0.5782                       0.2542\n",
       "Detection Prevalence     0.08409     0.6206                       0.2953\n",
       "Balanced Accuracy        0.92493     0.9112                       0.9144"
      ]
     },
     "metadata": {},
     "output_type": "display_data"
    }
   ],
   "source": [
    "confusionMatrix( df.test$Mode, df.test$pred.rf )"
   ]
  },
  {
   "cell_type": "code",
   "execution_count": 35,
   "metadata": {},
   "outputs": [
    {
     "data": {
      "text/plain": [
       "\n",
       "                 Bike                   Car Public Transportation \n",
       "                  144                   950                   440 "
      ]
     },
     "metadata": {},
     "output_type": "display_data"
    }
   ],
   "source": [
    "table( df.test$pred.rf )"
   ]
  }
 ],
 "metadata": {
  "kernelspec": {
   "display_name": "R",
   "language": "R",
   "name": "ir"
  },
  "language_info": {
   "codemirror_mode": "r",
   "file_extension": ".r",
   "mimetype": "text/x-r-source",
   "name": "R",
   "pygments_lexer": "r",
   "version": "3.4.3"
  }
 },
 "nbformat": 4,
 "nbformat_minor": 2
}
