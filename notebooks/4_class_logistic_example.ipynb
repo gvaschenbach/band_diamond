{
 "cells": [
  {
   "cell_type": "markdown",
   "metadata": {},
   "source": [
    "### Libraries"
   ]
  },
  {
   "cell_type": "code",
   "execution_count": 26,
   "metadata": {},
   "outputs": [],
   "source": [
    "library( MASS )\n",
    "library( caret )\n",
    "library( tree )\n",
    "library( rpart )"
   ]
  },
  {
   "cell_type": "markdown",
   "metadata": {},
   "source": [
    "### Data"
   ]
  },
  {
   "cell_type": "code",
   "execution_count": 2,
   "metadata": {},
   "outputs": [],
   "source": [
    "df <- read.csv( 'hotelloyaltydata.csv' )"
   ]
  },
  {
   "cell_type": "code",
   "execution_count": 3,
   "metadata": {},
   "outputs": [
    {
     "name": "stdout",
     "output_type": "stream",
     "text": [
      "'data.frame':\t2276 obs. of  12 variables:\n",
      " $ Customer.Key     : int  1193 699 2491 2107 308 2882 3079 1999 272 1723 ...\n",
      " $ First.Name       : Factor w/ 925 levels \"A\",\"AARYN\",\"ABBASHER\",..: 219 902 543 22 704 186 907 650 108 329 ...\n",
      " $ Last.Name        : Factor w/ 1790 levels \"ABDELKADER\",\"ABDELLA\",..: 1205 478 1710 981 1701 463 55 928 1056 1436 ...\n",
      " $ Customer.Segment : Factor w/ 20 levels \"A\",\"B\",\"C\",\"D\",..: 3 4 17 10 6 12 17 15 3 20 ...\n",
      " $ Income           : Factor w/ 13 levels \"A\",\"B\",\"C\",\"D\",..: 8 9 4 1 1 5 2 5 9 13 ...\n",
      " $ Reedemer         : Factor w/ 2 levels \"No\",\"Yes\": 2 2 2 2 2 1 2 2 2 2 ...\n",
      " $ Region           : int  1 1 10 5 1 7 10 10 6 4 ...\n",
      " $ Spend            : num  26573 36711 46008 68501 75182 ...\n",
      " $ Status           : Factor w/ 4 levels \"Bronze\",\"Gold\",..: 3 3 3 3 3 3 3 3 3 3 ...\n",
      " $ Stays.Per.Year   : int  8 2 2 2 3 2 8 7 4 1 ...\n",
      " $ Total.Days.Stayed: int  6 23 6 12 14 9 66 12 12 1 ...\n",
      " $ Years.Of.Loyalty : num  0.75 11.25 2.75 6 4.75 ...\n"
     ]
    }
   ],
   "source": [
    "str( df )"
   ]
  },
  {
   "cell_type": "code",
   "execution_count": 4,
   "metadata": {},
   "outputs": [],
   "source": [
    "set.seed( 1 )"
   ]
  },
  {
   "cell_type": "code",
   "execution_count": 5,
   "metadata": {},
   "outputs": [],
   "source": [
    "train <- createDataPartition( df$Reedemer, 1, p = 0.7, list = FALSE )"
   ]
  },
  {
   "cell_type": "code",
   "execution_count": 6,
   "metadata": {},
   "outputs": [],
   "source": [
    "df.train <- df[train,]"
   ]
  },
  {
   "cell_type": "code",
   "execution_count": 31,
   "metadata": {},
   "outputs": [],
   "source": [
    "df.test <- df[-train,]"
   ]
  },
  {
   "cell_type": "markdown",
   "metadata": {},
   "source": [
    "### Logistic regression model"
   ]
  },
  {
   "cell_type": "code",
   "execution_count": 7,
   "metadata": {},
   "outputs": [
    {
     "name": "stderr",
     "output_type": "stream",
     "text": [
      "Warning message:\n",
      "“glm.fit: fitted probabilities numerically 0 or 1 occurred”"
     ]
    }
   ],
   "source": [
    "fit.glm <- glm( Reedemer\n",
    "       ~ Spend\n",
    "       + Status\n",
    "       + Stays.Per.Year\n",
    "       + Total.Days.Stayed\n",
    "       + Years.Of.Loyalty\n",
    "#        + factor( Region )\n",
    "#        + Customer.Segment\n",
    "#        + Income\n",
    "       , data = df.train\n",
    "       , family = binomial( link = logit ) )"
   ]
  },
  {
   "cell_type": "code",
   "execution_count": 8,
   "metadata": {},
   "outputs": [
    {
     "data": {
      "text/plain": [
       "\n",
       "Call:\n",
       "glm(formula = Reedemer ~ Spend + Status + Stays.Per.Year + Total.Days.Stayed + \n",
       "    Years.Of.Loyalty, family = binomial(link = logit), data = df.train)\n",
       "\n",
       "Deviance Residuals: \n",
       "    Min       1Q   Median       3Q      Max  \n",
       "-5.8874  -0.2955  -0.0448  -0.0012   3.4899  \n",
       "\n",
       "Coefficients:\n",
       "                    Estimate Std. Error z value Pr(>|z|)    \n",
       "(Intercept)       -0.9729221  0.3267808  -2.977  0.00291 ** \n",
       "Spend              0.0007466  0.0000613  12.178  < 2e-16 ***\n",
       "StatusGold         0.7195858  0.3125854   2.302  0.02133 *  \n",
       "StatusPlatinum     0.4084301  0.8625452   0.474  0.63584    \n",
       "StatusSilver       0.6569320  0.2919656   2.250  0.02445 *  \n",
       "Stays.Per.Year    -1.4849591  0.1624513  -9.141  < 2e-16 ***\n",
       "Total.Days.Stayed -0.0663429  0.0385267  -1.722  0.08507 .  \n",
       "Years.Of.Loyalty   0.0937064  0.0742992   1.261  0.20724    \n",
       "---\n",
       "Signif. codes:  0 ‘***’ 0.001 ‘**’ 0.01 ‘*’ 0.05 ‘.’ 0.1 ‘ ’ 1\n",
       "\n",
       "(Dispersion parameter for binomial family taken to be 1)\n",
       "\n",
       "    Null deviance: 1401.88  on 1594  degrees of freedom\n",
       "Residual deviance:  583.14  on 1587  degrees of freedom\n",
       "AIC: 599.14\n",
       "\n",
       "Number of Fisher Scoring iterations: 8\n"
      ]
     },
     "metadata": {},
     "output_type": "display_data"
    }
   ],
   "source": [
    "summary( fit.glm )"
   ]
  },
  {
   "cell_type": "code",
   "execution_count": null,
   "metadata": {},
   "outputs": [],
   "source": [
    "# rsq( fit.glm )"
   ]
  },
  {
   "cell_type": "markdown",
   "metadata": {},
   "source": [
    "### Perform stepwise selection of variables"
   ]
  },
  {
   "cell_type": "code",
   "execution_count": 9,
   "metadata": {},
   "outputs": [
    {
     "name": "stderr",
     "output_type": "stream",
     "text": [
      "Warning message:\n",
      "“glm.fit: fitted probabilities numerically 0 or 1 occurred”"
     ]
    }
   ],
   "source": [
    "fit.glm <- glm( Reedemer\n",
    "       ~ Spend\n",
    "       + Status\n",
    "       + Stays.Per.Year\n",
    "       + Total.Days.Stayed\n",
    "       + Years.Of.Loyalty\n",
    "       + factor( Region )\n",
    "       + Customer.Segment\n",
    "       + Income\n",
    "       , data = df.train\n",
    "       , family = binomial( link = logit ) )"
   ]
  },
  {
   "cell_type": "code",
   "execution_count": 12,
   "metadata": {},
   "outputs": [
    {
     "name": "stdout",
     "output_type": "stream",
     "text": [
      "Start:  AIC=636.46\n",
      "Reedemer ~ Spend + Status + Stays.Per.Year + Total.Days.Stayed + \n",
      "    Years.Of.Loyalty + factor(Region) + Customer.Segment + Income\n",
      "\n"
     ]
    },
    {
     "name": "stderr",
     "output_type": "stream",
     "text": [
      "Warning message:\n",
      "“glm.fit: fitted probabilities numerically 0 or 1 occurred”Warning message:\n",
      "“glm.fit: fitted probabilities numerically 0 or 1 occurred”Warning message:\n",
      "“glm.fit: fitted probabilities numerically 0 or 1 occurred”Warning message:\n",
      "“glm.fit: fitted probabilities numerically 0 or 1 occurred”Warning message:\n",
      "“glm.fit: fitted probabilities numerically 0 or 1 occurred”Warning message:\n",
      "“glm.fit: fitted probabilities numerically 0 or 1 occurred”Warning message:\n",
      "“glm.fit: fitted probabilities numerically 0 or 1 occurred”"
     ]
    },
    {
     "name": "stdout",
     "output_type": "stream",
     "text": [
      "                    Df Deviance    AIC\n",
      "- Customer.Segment  18   549.19 607.19\n",
      "- Income            11   546.92 618.92\n",
      "<none>                   542.46 636.46\n",
      "- Status             3   548.83 636.83\n",
      "- Years.Of.Loyalty   1   544.85 636.85\n",
      "- Total.Days.Stayed  1   547.31 639.31\n",
      "- factor(Region)     9   568.40 644.40\n",
      "- Stays.Per.Year     1   710.34 802.34\n",
      "- Spend              1   879.92 971.92\n"
     ]
    },
    {
     "name": "stderr",
     "output_type": "stream",
     "text": [
      "Warning message:\n",
      "“glm.fit: fitted probabilities numerically 0 or 1 occurred”"
     ]
    },
    {
     "name": "stdout",
     "output_type": "stream",
     "text": [
      "\n",
      "Step:  AIC=607.19\n",
      "Reedemer ~ Spend + Status + Stays.Per.Year + Total.Days.Stayed + \n",
      "    Years.Of.Loyalty + factor(Region) + Income\n",
      "\n"
     ]
    },
    {
     "name": "stderr",
     "output_type": "stream",
     "text": [
      "Warning message:\n",
      "“glm.fit: fitted probabilities numerically 0 or 1 occurred”Warning message:\n",
      "“glm.fit: fitted probabilities numerically 0 or 1 occurred”Warning message:\n",
      "“glm.fit: fitted probabilities numerically 0 or 1 occurred”Warning message:\n",
      "“glm.fit: fitted probabilities numerically 0 or 1 occurred”Warning message:\n",
      "“glm.fit: fitted probabilities numerically 0 or 1 occurred”Warning message:\n",
      "“glm.fit: fitted probabilities numerically 0 or 1 occurred”Warning message:\n",
      "“glm.fit: fitted probabilities numerically 0 or 1 occurred”Warning message:\n",
      "“glm.fit: fitted probabilities numerically 0 or 1 occurred”"
     ]
    },
    {
     "name": "stdout",
     "output_type": "stream",
     "text": [
      "                    Df Deviance    AIC\n",
      "- Income            12   555.64 589.64\n",
      "- Years.Of.Loyalty   1   550.89 606.89\n",
      "<none>                   549.19 607.19\n",
      "- Status             3   555.52 607.52\n",
      "- Total.Days.Stayed  1   553.56 609.56\n",
      "- factor(Region)     9   575.85 615.85\n",
      "+ Customer.Segment  18   542.46 636.46\n",
      "- Stays.Per.Year     1   721.95 777.95\n",
      "- Spend              1   892.33 948.33\n"
     ]
    },
    {
     "name": "stderr",
     "output_type": "stream",
     "text": [
      "Warning message:\n",
      "“glm.fit: fitted probabilities numerically 0 or 1 occurred”"
     ]
    },
    {
     "name": "stdout",
     "output_type": "stream",
     "text": [
      "\n",
      "Step:  AIC=589.64\n",
      "Reedemer ~ Spend + Status + Stays.Per.Year + Total.Days.Stayed + \n",
      "    Years.Of.Loyalty + factor(Region)\n",
      "\n"
     ]
    },
    {
     "name": "stderr",
     "output_type": "stream",
     "text": [
      "Warning message:\n",
      "“glm.fit: fitted probabilities numerically 0 or 1 occurred”Warning message:\n",
      "“glm.fit: fitted probabilities numerically 0 or 1 occurred”Warning message:\n",
      "“glm.fit: fitted probabilities numerically 0 or 1 occurred”Warning message:\n",
      "“glm.fit: fitted probabilities numerically 0 or 1 occurred”Warning message:\n",
      "“glm.fit: fitted probabilities numerically 0 or 1 occurred”Warning message:\n",
      "“glm.fit: fitted probabilities numerically 0 or 1 occurred”Warning message:\n",
      "“glm.fit: fitted probabilities numerically 0 or 1 occurred”Warning message:\n",
      "“glm.fit: fitted probabilities numerically 0 or 1 occurred”"
     ]
    },
    {
     "name": "stdout",
     "output_type": "stream",
     "text": [
      "                    Df Deviance    AIC\n",
      "- Years.Of.Loyalty   1   557.30 589.30\n",
      "<none>                   555.64 589.64\n",
      "- Status             3   562.02 590.02\n",
      "- Total.Days.Stayed  1   559.17 591.17\n",
      "- factor(Region)     9   583.14 599.14\n",
      "+ Income            12   549.19 607.19\n",
      "+ Customer.Segment  19   546.92 618.92\n",
      "- Stays.Per.Year     1   735.15 767.15\n",
      "- Spend              1   908.36 940.36\n"
     ]
    },
    {
     "name": "stderr",
     "output_type": "stream",
     "text": [
      "Warning message:\n",
      "“glm.fit: fitted probabilities numerically 0 or 1 occurred”"
     ]
    },
    {
     "name": "stdout",
     "output_type": "stream",
     "text": [
      "\n",
      "Step:  AIC=589.3\n",
      "Reedemer ~ Spend + Status + Stays.Per.Year + Total.Days.Stayed + \n",
      "    factor(Region)\n",
      "\n"
     ]
    },
    {
     "name": "stderr",
     "output_type": "stream",
     "text": [
      "Warning message:\n",
      "“glm.fit: fitted probabilities numerically 0 or 1 occurred”Warning message:\n",
      "“glm.fit: fitted probabilities numerically 0 or 1 occurred”Warning message:\n",
      "“glm.fit: fitted probabilities numerically 0 or 1 occurred”Warning message:\n",
      "“glm.fit: fitted probabilities numerically 0 or 1 occurred”Warning message:\n",
      "“glm.fit: fitted probabilities numerically 0 or 1 occurred”Warning message:\n",
      "“glm.fit: fitted probabilities numerically 0 or 1 occurred”Warning message:\n",
      "“glm.fit: fitted probabilities numerically 0 or 1 occurred”Warning message:\n",
      "“glm.fit: fitted probabilities numerically 0 or 1 occurred”"
     ]
    },
    {
     "name": "stdout",
     "output_type": "stream",
     "text": [
      "                    Df Deviance    AIC\n",
      "<none>                   557.30 589.30\n",
      "- Total.Days.Stayed  1   559.37 589.37\n",
      "- Status             3   563.49 589.49\n",
      "+ Years.Of.Loyalty   1   555.64 589.64\n",
      "- factor(Region)     9   584.75 598.75\n",
      "+ Income            12   550.89 606.89\n",
      "+ Customer.Segment  19   548.86 618.86\n",
      "- Stays.Per.Year     1   883.44 913.44\n",
      "- Spend              1   908.42 938.42\n"
     ]
    }
   ],
   "source": [
    "step <- stepAIC( fit.glm, direction = 'both' )"
   ]
  },
  {
   "cell_type": "code",
   "execution_count": 13,
   "metadata": {},
   "outputs": [
    {
     "data": {
      "text/html": [
       "<table>\n",
       "<thead><tr><th scope=col>Step</th><th scope=col>Df</th><th scope=col>Deviance</th><th scope=col>Resid. Df</th><th scope=col>Resid. Dev</th><th scope=col>AIC</th></tr></thead>\n",
       "<tbody>\n",
       "\t<tr><td>                  </td><td>NA                </td><td>      NA          </td><td>1548              </td><td>542.4578          </td><td>636.4578          </td></tr>\n",
       "\t<tr><td>- Customer.Segment</td><td>18                </td><td>6.736616          </td><td>1566              </td><td>549.1944          </td><td>607.1944          </td></tr>\n",
       "\t<tr><td>- Income          </td><td>12                </td><td>6.449180          </td><td>1578              </td><td>555.6436          </td><td>589.6436          </td></tr>\n",
       "\t<tr><td>- Years.Of.Loyalty</td><td> 1                </td><td>1.653244          </td><td>1579              </td><td>557.2968          </td><td>589.2968          </td></tr>\n",
       "</tbody>\n",
       "</table>\n"
      ],
      "text/latex": [
       "\\begin{tabular}{r|llllll}\n",
       " Step & Df & Deviance & Resid. Df & Resid. Dev & AIC\\\\\n",
       "\\hline\n",
       "\t                    & NA                 &       NA           & 1548               & 542.4578           & 636.4578          \\\\\n",
       "\t - Customer.Segment & 18                 & 6.736616           & 1566               & 549.1944           & 607.1944          \\\\\n",
       "\t - Income           & 12                 & 6.449180           & 1578               & 555.6436           & 589.6436          \\\\\n",
       "\t - Years.Of.Loyalty &  1                 & 1.653244           & 1579               & 557.2968           & 589.2968          \\\\\n",
       "\\end{tabular}\n"
      ],
      "text/markdown": [
       "\n",
       "Step | Df | Deviance | Resid. Df | Resid. Dev | AIC | \n",
       "|---|---|---|---|\n",
       "|                    | NA                 |       NA           | 1548               | 542.4578           | 636.4578           | \n",
       "| - Customer.Segment | 18                 | 6.736616           | 1566               | 549.1944           | 607.1944           | \n",
       "| - Income           | 12                 | 6.449180           | 1578               | 555.6436           | 589.6436           | \n",
       "| - Years.Of.Loyalty |  1                 | 1.653244           | 1579               | 557.2968           | 589.2968           | \n",
       "\n",
       "\n"
      ],
      "text/plain": [
       "  Step               Df Deviance Resid. Df Resid. Dev AIC     \n",
       "1                    NA       NA 1548      542.4578   636.4578\n",
       "2 - Customer.Segment 18 6.736616 1566      549.1944   607.1944\n",
       "3 - Income           12 6.449180 1578      555.6436   589.6436\n",
       "4 - Years.Of.Loyalty  1 1.653244 1579      557.2968   589.2968"
      ]
     },
     "metadata": {},
     "output_type": "display_data"
    }
   ],
   "source": [
    "step$anova"
   ]
  },
  {
   "cell_type": "markdown",
   "metadata": {},
   "source": [
    "### Regression tree model"
   ]
  },
  {
   "cell_type": "code",
   "execution_count": 28,
   "metadata": {},
   "outputs": [],
   "source": [
    "fit.tree <- rpart( Reedemer \n",
    "     ~ Spend\n",
    "       + Status\n",
    "       + Stays.Per.Year\n",
    "       + Total.Days.Stayed\n",
    "       + Years.Of.Loyalty\n",
    "       + factor( Region )\n",
    "       + Customer.Segment\n",
    "       + Income\n",
    "     , data = df.train )"
   ]
  },
  {
   "cell_type": "code",
   "execution_count": 29,
   "metadata": {},
   "outputs": [
    {
     "data": {
      "image/png": "[encoded data removed]",
      "text/plain": [
       "plot without title"
      ]
     },
     "metadata": {},
     "output_type": "display_data"
    }
   ],
   "source": [
    "plot( fit.tree ); text( fit.tree)"
   ]
  },
  {
   "cell_type": "code",
   "execution_count": 37,
   "metadata": {},
   "outputs": [],
   "source": [
    "df.test$predict <- predict( fit.tree, newdata = df.test )"
   ]
  },
  {
   "cell_type": "code",
   "execution_count": 30,
   "metadata": {},
   "outputs": [
    {
     "name": "stdout",
     "output_type": "stream",
     "text": [
      "\n",
      "Classification tree:\n",
      "rpart(formula = Reedemer ~ Spend + Status + Stays.Per.Year + \n",
      "    Total.Days.Stayed + Years.Of.Loyalty + factor(Region) + Customer.Segment + \n",
      "    Income, data = df.train)\n",
      "\n",
      "Variables actually used in tree construction:\n",
      "[1] Customer.Segment factor(Region)   Income           Spend           \n",
      "[5] Stays.Per.Year  \n",
      "\n",
      "Root node error: 255/1595 = 0.15987\n",
      "\n",
      "n= 1595 \n",
      "\n",
      "        CP nsplit rel error  xerror     xstd\n",
      "1 0.270588      0   1.00000 1.00000 0.057399\n",
      "2 0.127451      1   0.72941 0.73725 0.050502\n",
      "3 0.023529      3   0.47451 0.50980 0.042852\n",
      "4 0.019608      4   0.45098 0.54118 0.044030\n",
      "5 0.018301      5   0.43137 0.53725 0.043885\n",
      "6 0.011765      9   0.35686 0.49804 0.042398\n",
      "7 0.010000     12   0.32157 0.47059 0.041311\n"
     ]
    }
   ],
   "source": [
    "printcp( fit.tree )"
   ]
  },
  {
   "cell_type": "code",
   "execution_count": 39,
   "metadata": {},
   "outputs": [
    {
     "ename": "ERROR",
     "evalue": "Error in confusionMatrix.default(df.test$Reedemer, df.test$predict[[1]]): the data cannot have more levels than the reference\n",
     "execution_count": 39,
     "output_type": "error",
     "traceback": [
      "Error in confusionMatrix.default(df.test$Reedemer, df.test$predict[[1]]): the data cannot have more levels than the reference\nTraceback:\n",
      "1. confusionMatrix(df.test$Reedemer, df.test$predict[[1]])",
      "2. confusionMatrix.default(df.test$Reedemer, df.test$predict[[1]])",
      "3. stop(\"the data cannot have more levels than the reference\")"
     ]
    }
   ],
   "source": [
    "confusionMatrix( df.test$Reedemer )"
   ]
  }
 ],
 "metadata": {
  "kernelspec": {
   "display_name": "R",
   "language": "R",
   "name": "ir"
  },
  "language_info": {
   "codemirror_mode": "r",
   "file_extension": ".r",
   "mimetype": "text/x-r-source",
   "name": "R",
   "pygments_lexer": "r",
   "version": "3.4.3"
  }
 },
 "nbformat": 4,
 "nbformat_minor": 2
}
