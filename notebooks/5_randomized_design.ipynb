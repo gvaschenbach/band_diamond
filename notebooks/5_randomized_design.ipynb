{
 "cells": [
  {
   "cell_type": "code",
   "execution_count": 3,
   "metadata": {},
   "outputs": [],
   "source": [
    "df <- read.csv('../data/5_abtest/customerserviceabtestdata.csv')"
   ]
  },
  {
   "cell_type": "code",
   "execution_count": 4,
   "metadata": {},
   "outputs": [
    {
     "name": "stdout",
     "output_type": "stream",
     "text": [
      "'data.frame':\t1000 obs. of  4 variables:\n",
      " $ RecordID     : int  1 2 3 4 5 6 7 8 9 10 ...\n",
      " $ Phone.Number : Factor w/ 992 levels \"(100) 934-2262\",..: 894 901 684 919 177 712 568 885 426 664 ...\n",
      " $ AutomatedFlag: int  1 0 0 0 1 0 0 0 0 0 ...\n",
      " $ CS.Rating    : int  2 5 4 5 4 1 5 1 2 4 ...\n"
     ]
    }
   ],
   "source": [
    "str( df )"
   ]
  },
  {
   "cell_type": "code",
   "execution_count": 5,
   "metadata": {},
   "outputs": [
    {
     "data": {
      "text/html": [
       "<table>\n",
       "<thead><tr><th scope=col>RecordID</th><th scope=col>Phone.Number</th><th scope=col>AutomatedFlag</th><th scope=col>CS.Rating</th></tr></thead>\n",
       "<tbody>\n",
       "\t<tr><td>1             </td><td>(733) 308-5171</td><td>1             </td><td>2             </td></tr>\n",
       "\t<tr><td>2             </td><td>(737) 479-9819</td><td>0             </td><td>5             </td></tr>\n",
       "\t<tr><td>3             </td><td>(571) 837-6630</td><td>0             </td><td>4             </td></tr>\n",
       "\t<tr><td>4             </td><td>(746) 481-2200</td><td>0             </td><td>5             </td></tr>\n",
       "\t<tr><td>5             </td><td>(224) 126-2105</td><td>1             </td><td>4             </td></tr>\n",
       "\t<tr><td>6             </td><td>(586) 442-9226</td><td>0             </td><td>1             </td></tr>\n",
       "</tbody>\n",
       "</table>\n"
      ],
      "text/latex": [
       "\\begin{tabular}{r|llll}\n",
       " RecordID & Phone.Number & AutomatedFlag & CS.Rating\\\\\n",
       "\\hline\n",
       "\t 1              & (733) 308-5171 & 1              & 2             \\\\\n",
       "\t 2              & (737) 479-9819 & 0              & 5             \\\\\n",
       "\t 3              & (571) 837-6630 & 0              & 4             \\\\\n",
       "\t 4              & (746) 481-2200 & 0              & 5             \\\\\n",
       "\t 5              & (224) 126-2105 & 1              & 4             \\\\\n",
       "\t 6              & (586) 442-9226 & 0              & 1             \\\\\n",
       "\\end{tabular}\n"
      ],
      "text/markdown": [
       "\n",
       "RecordID | Phone.Number | AutomatedFlag | CS.Rating | \n",
       "|---|---|---|---|---|---|\n",
       "| 1              | (733) 308-5171 | 1              | 2              | \n",
       "| 2              | (737) 479-9819 | 0              | 5              | \n",
       "| 3              | (571) 837-6630 | 0              | 4              | \n",
       "| 4              | (746) 481-2200 | 0              | 5              | \n",
       "| 5              | (224) 126-2105 | 1              | 4              | \n",
       "| 6              | (586) 442-9226 | 0              | 1              | \n",
       "\n",
       "\n"
      ],
      "text/plain": [
       "  RecordID Phone.Number   AutomatedFlag CS.Rating\n",
       "1 1        (733) 308-5171 1             2        \n",
       "2 2        (737) 479-9819 0             5        \n",
       "3 3        (571) 837-6630 0             4        \n",
       "4 4        (746) 481-2200 0             5        \n",
       "5 5        (224) 126-2105 1             4        \n",
       "6 6        (586) 442-9226 0             1        "
      ]
     },
     "metadata": {},
     "output_type": "display_data"
    }
   ],
   "source": [
    "head( df )"
   ]
  },
  {
   "cell_type": "code",
   "execution_count": 10,
   "metadata": {},
   "outputs": [],
   "source": [
    "df.ag <- aggregate( df$CS.Rating, list( df$Phone.Number, df$AutomatedFlag ), mean )"
   ]
  },
  {
   "cell_type": "code",
   "execution_count": 12,
   "metadata": {},
   "outputs": [],
   "source": [
    "names( df.ag ) <- c( 'Phone.Number', 'Automated.Flag', 'CS.Rating' )"
   ]
  },
  {
   "cell_type": "code",
   "execution_count": 13,
   "metadata": {},
   "outputs": [
    {
     "data": {
      "text/html": [
       "<table>\n",
       "<thead><tr><th scope=col>Group.1</th><th scope=col>x</th></tr></thead>\n",
       "<tbody>\n",
       "\t<tr><td>0       </td><td>3.059732</td></tr>\n",
       "\t<tr><td>1       </td><td>3.255061</td></tr>\n",
       "</tbody>\n",
       "</table>\n"
      ],
      "text/latex": [
       "\\begin{tabular}{r|ll}\n",
       " Group.1 & x\\\\\n",
       "\\hline\n",
       "\t 0        & 3.059732\\\\\n",
       "\t 1        & 3.255061\\\\\n",
       "\\end{tabular}\n"
      ],
      "text/markdown": [
       "\n",
       "Group.1 | x | \n",
       "|---|---|\n",
       "| 0        | 3.059732 | \n",
       "| 1        | 3.255061 | \n",
       "\n",
       "\n"
      ],
      "text/plain": [
       "  Group.1 x       \n",
       "1 0       3.059732\n",
       "2 1       3.255061"
      ]
     },
     "metadata": {},
     "output_type": "display_data"
    }
   ],
   "source": [
    "aggregate( df.ag$CS.Rating, list( df.ag$Automated.Flag ), mean )"
   ]
  },
  {
   "cell_type": "code",
   "execution_count": 15,
   "metadata": {},
   "outputs": [
    {
     "data": {
      "text/plain": [
       "\n",
       "\tWelch Two Sample t-test\n",
       "\n",
       "data:  df.ag$CS.Rating by df.ag$Automated.Flag\n",
       "t = -1.9187, df = 427, p-value = 0.05568\n",
       "alternative hypothesis: true difference in means is not equal to 0\n",
       "95 percent confidence interval:\n",
       " -0.395422669  0.004764298\n",
       "sample estimates:\n",
       "mean in group 0 mean in group 1 \n",
       "       3.059732        3.255061 \n"
      ]
     },
     "metadata": {},
     "output_type": "display_data"
    }
   ],
   "source": [
    "t.test( df.ag$CS.Rating ~ df.ag$Automated.Flag )"
   ]
  }
 ],
 "metadata": {
  "kernelspec": {
   "display_name": "R",
   "language": "R",
   "name": "ir"
  },
  "language_info": {
   "codemirror_mode": "r",
   "file_extension": ".r",
   "mimetype": "text/x-r-source",
   "name": "R",
   "pygments_lexer": "r",
   "version": "3.4.3"
  }
 },
 "nbformat": 4,
 "nbformat_minor": 2
}
