{
 "cells": [
  {
   "cell_type": "markdown",
   "metadata": {},
   "source": [
    "### Libraries"
   ]
  },
  {
   "cell_type": "code",
   "execution_count": 1,
   "metadata": {},
   "outputs": [
    {
     "name": "stderr",
     "output_type": "stream",
     "text": [
      "Loading required package: lattice\n",
      "Loading required package: ggplot2\n",
      "Loading required package: Rcpp\n",
      "## \n",
      "## Amelia II: Multiple Imputation\n",
      "## (Version 1.7.4, built: 2015-12-05)\n",
      "## Copyright (C) 2005-2018 James Honaker, Gary King and Matthew Blackwell\n",
      "## Refer to http://gking.harvard.edu/amelia/ for more information\n",
      "## \n"
     ]
    }
   ],
   "source": [
    "library( rpart )\n",
    "library( caret )\n",
    "library( Amelia )"
   ]
  },
  {
   "cell_type": "markdown",
   "metadata": {},
   "source": [
    "### Data"
   ]
  },
  {
   "cell_type": "code",
   "execution_count": 2,
   "metadata": {},
   "outputs": [],
   "source": [
    "df <- read.csv( '../data/processed/employee-transportationdata.csv' )"
   ]
  },
  {
   "cell_type": "code",
   "execution_count": 3,
   "metadata": {},
   "outputs": [
    {
     "name": "stdout",
     "output_type": "stream",
     "text": [
      "'data.frame':\t3838 obs. of  6 variables:\n",
      " $ Employee.ID       : int  649 991 611 791 1247 3261 1224 1074 779 250 ...\n",
      " $ GENDER            : Factor w/ 3 levels \"F\",\"M\",\"U\": 1 2 1 2 2 1 1 2 2 2 ...\n",
      " $ Age               : int  31 53 37 41 87 34 65 70 41 52 ...\n",
      " $ MARITAL.STATUS    : Factor w/ 2 levels \"M\",\"S\": 2 2 2 2 1 2 1 2 2 2 ...\n",
      " $ DriveDistanceMiles: num  0.34 0.41 0.49 0.5 0.5 0.53 0.61 0.67 0.76 0.85 ...\n",
      " $ Mode              : Factor w/ 3 levels \"Bike\",\"Car\",\"Public Transportation\": 2 3 1 1 3 1 3 3 1 2 ...\n"
     ]
    }
   ],
   "source": [
    "str( df )"
   ]
  },
  {
   "cell_type": "markdown",
   "metadata": {},
   "source": [
    "### Decision tree model"
   ]
  },
  {
   "cell_type": "markdown",
   "metadata": {},
   "source": [
    "### Check for missing data"
   ]
  },
  {
   "cell_type": "code",
   "execution_count": 4,
   "metadata": {},
   "outputs": [],
   "source": [
    "# missmap( df )"
   ]
  },
  {
   "cell_type": "markdown",
   "metadata": {},
   "source": [
    "Annoyingly complete..."
   ]
  },
  {
   "cell_type": "markdown",
   "metadata": {},
   "source": [
    "### Partition the data"
   ]
  },
  {
   "cell_type": "code",
   "execution_count": 5,
   "metadata": {},
   "outputs": [],
   "source": [
    "train <- createDataPartition( df$Mode, 1, p = 0.6, list = FALSE )"
   ]
  },
  {
   "cell_type": "code",
   "execution_count": 6,
   "metadata": {},
   "outputs": [],
   "source": [
    "df.train <- df[train,]"
   ]
  },
  {
   "cell_type": "code",
   "execution_count": 7,
   "metadata": {},
   "outputs": [],
   "source": [
    "df.test <- df[-train,]"
   ]
  },
  {
   "cell_type": "code",
   "execution_count": 8,
   "metadata": {},
   "outputs": [
    {
     "data": {
      "text/html": [
       "2304"
      ],
      "text/latex": [
       "2304"
      ],
      "text/markdown": [
       "2304"
      ],
      "text/plain": [
       "[1] 2304"
      ]
     },
     "metadata": {},
     "output_type": "display_data"
    },
    {
     "data": {
      "text/html": [
       "1534"
      ],
      "text/latex": [
       "1534"
      ],
      "text/markdown": [
       "1534"
      ],
      "text/plain": [
       "[1] 1534"
      ]
     },
     "metadata": {},
     "output_type": "display_data"
    }
   ],
   "source": [
    "nrow( df.train);nrow( df.test)"
   ]
  },
  {
   "cell_type": "markdown",
   "metadata": {},
   "source": [
    "### Decision tree model"
   ]
  },
  {
   "cell_type": "code",
   "execution_count": 9,
   "metadata": {},
   "outputs": [],
   "source": [
    "fit.tree <- rpart( Mode\n",
    "     ~ GENDER\n",
    "     + Age\n",
    "     + MARITAL.STATUS\n",
    "     + DriveDistanceMiles\n",
    "     , data = df )"
   ]
  },
  {
   "cell_type": "code",
   "execution_count": 19,
   "metadata": {},
   "outputs": [],
   "source": [
    "pred <- predict( fit.tree, df.test )"
   ]
  },
  {
   "cell_type": "code",
   "execution_count": 20,
   "metadata": {},
   "outputs": [
    {
     "data": {
      "text/html": [
       "<table>\n",
       "<thead><tr><th></th><th scope=col>Bike</th><th scope=col>Car</th><th scope=col>Public Transportation</th></tr></thead>\n",
       "<tbody>\n",
       "\t<tr><th scope=row>2</th><td>0.0000000 </td><td>0.10058309</td><td>0.89941691</td></tr>\n",
       "\t<tr><th scope=row>3</th><td>0.8596491 </td><td>0.07894737</td><td>0.06140351</td></tr>\n",
       "\t<tr><th scope=row>4</th><td>0.8596491 </td><td>0.07894737</td><td>0.06140351</td></tr>\n",
       "\t<tr><th scope=row>6</th><td>0.8596491 </td><td>0.07894737</td><td>0.06140351</td></tr>\n",
       "\t<tr><th scope=row>9</th><td>0.8596491 </td><td>0.07894737</td><td>0.06140351</td></tr>\n",
       "\t<tr><th scope=row>14</th><td>0.8596491 </td><td>0.07894737</td><td>0.06140351</td></tr>\n",
       "</tbody>\n",
       "</table>\n"
      ],
      "text/latex": [
       "\\begin{tabular}{r|lll}\n",
       "  & Bike & Car & Public Transportation\\\\\n",
       "\\hline\n",
       "\t2 & 0.0000000  & 0.10058309 & 0.89941691\\\\\n",
       "\t3 & 0.8596491  & 0.07894737 & 0.06140351\\\\\n",
       "\t4 & 0.8596491  & 0.07894737 & 0.06140351\\\\\n",
       "\t6 & 0.8596491  & 0.07894737 & 0.06140351\\\\\n",
       "\t9 & 0.8596491  & 0.07894737 & 0.06140351\\\\\n",
       "\t14 & 0.8596491  & 0.07894737 & 0.06140351\\\\\n",
       "\\end{tabular}\n"
      ],
      "text/markdown": [
       "\n",
       "| <!--/--> | Bike | Car | Public Transportation | \n",
       "|---|---|---|---|---|---|\n",
       "| 2 | 0.0000000  | 0.10058309 | 0.89941691 | \n",
       "| 3 | 0.8596491  | 0.07894737 | 0.06140351 | \n",
       "| 4 | 0.8596491  | 0.07894737 | 0.06140351 | \n",
       "| 6 | 0.8596491  | 0.07894737 | 0.06140351 | \n",
       "| 9 | 0.8596491  | 0.07894737 | 0.06140351 | \n",
       "| 14 | 0.8596491  | 0.07894737 | 0.06140351 | \n",
       "\n",
       "\n"
      ],
      "text/plain": [
       "   Bike      Car        Public Transportation\n",
       "2  0.0000000 0.10058309 0.89941691           \n",
       "3  0.8596491 0.07894737 0.06140351           \n",
       "4  0.8596491 0.07894737 0.06140351           \n",
       "6  0.8596491 0.07894737 0.06140351           \n",
       "9  0.8596491 0.07894737 0.06140351           \n",
       "14 0.8596491 0.07894737 0.06140351           "
      ]
     },
     "metadata": {},
     "output_type": "display_data"
    }
   ],
   "source": [
    "cbind( df.test$Mode, pred )"
   ]
  },
  {
   "cell_type": "code",
   "execution_count": 15,
   "metadata": {},
   "outputs": [
    {
     "ename": "ERROR",
     "evalue": "Error in confusionMatrix.default(pred, df.test$Mode): the data cannot have more levels than the reference\n",
     "execution_count": 15,
     "output_type": "error",
     "traceback": [
      "Error in confusionMatrix.default(pred, df.test$Mode): the data cannot have more levels than the reference\nTraceback:\n",
      "1. confusionMatrix(pred, df.test$Mode)",
      "2. confusionMatrix.default(pred, df.test$Mode)",
      "3. stop(\"the data cannot have more levels than the reference\")"
     ]
    }
   ],
   "source": [
    "# confusionMatrix( pred, df.test$Mode )"
   ]
  }
 ],
 "metadata": {
  "kernelspec": {
   "display_name": "R",
   "language": "R",
   "name": "ir"
  },
  "language_info": {
   "codemirror_mode": "r",
   "file_extension": ".r",
   "mimetype": "text/x-r-source",
   "name": "R",
   "pygments_lexer": "r",
   "version": "3.4.3"
  }
 },
 "nbformat": 4,
 "nbformat_minor": 2
}
