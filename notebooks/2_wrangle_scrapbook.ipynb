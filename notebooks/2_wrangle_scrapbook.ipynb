{
 "cells": [
  {
   "cell_type": "markdown",
   "metadata": {},
   "source": [
    "### Libraries"
   ]
  },
  {
   "cell_type": "code",
   "execution_count": 1,
   "metadata": {},
   "outputs": [],
   "source": [
    "library( foreign )"
   ]
  },
  {
   "cell_type": "markdown",
   "metadata": {},
   "source": [
    "### Data"
   ]
  },
  {
   "cell_type": "code",
   "execution_count": 3,
   "metadata": {},
   "outputs": [],
   "source": [
    "df <- read.dbf( '../data/raw/wyoming-schools.dbf')"
   ]
  },
  {
   "cell_type": "code",
   "execution_count": 9,
   "metadata": {},
   "outputs": [
    {
     "data": {
      "text/html": [
       "<table>\n",
       "<thead><tr><th scope=col>NCESSchool</th><th scope=col>SchoolName</th><th scope=col>StreetAddr</th><th scope=col>City</th><th scope=col>State</th><th scope=col>ZipCode</th><th scope=col>Zip_4</th><th scope=col>Enrollment</th><th scope=col>Telephone</th><th scope=col>Locale</th><th scope=col>LocaleDesc</th><th scope=col>MSA_Cat</th><th scope=col>SchoolType</th><th scope=col>TypeDesc</th><th scope=col>SchoolLeve</th><th scope=col>LevelDesc</th><th scope=col>LowestGrad</th><th scope=col>HighestGra</th></tr></thead>\n",
       "<tbody>\n",
       "\t<tr><td>560000100047                </td><td>WYOMING SCHOOL FOR THE DEAF </td><td>539 S PAYNE AVE             </td><td>CASPER                      </td><td>WY                          </td><td>82609                       </td><td>2649                        </td><td>100                         </td><td>3075774686                  </td><td>N                           </td><td>Unknown                     </td><td>Non-MSA                     </td><td>2                           </td><td>Special Ed                  </td><td>4                           </td><td>Other                       </td><td>N                           </td><td>N                           </td></tr>\n",
       "\t<tr><td>560000300534                </td><td>WYOMING GIRL'S SCHOOL       </td><td>P.O. BOX 868                </td><td>SHERIDAN                    </td><td>WY                          </td><td>82801                       </td><td>0868                        </td><td> 54                         </td><td>3076747476                  </td><td>6                           </td><td>Town                        </td><td>Non-MSA                     </td><td>4                           </td><td>Voc/Tech/Other              </td><td>3                           </td><td>High                        </td><td>07                          </td><td>12                          </td></tr>\n",
       "\t<tr><td>560000400538                </td><td>WYOMING BOY'S SCHOOLS       </td><td>1550 HIGHWAY 20 S           </td><td>WORLAND                     </td><td>WY                          </td><td>82401                       </td><td>9802                        </td><td> 70                         </td><td>3073476144                  </td><td>7                           </td><td>Rural                       </td><td>Non-MSA                     </td><td>4                           </td><td>Voc/Tech/Other              </td><td>3                           </td><td>High                        </td><td>07                          </td><td>12                          </td></tr>\n",
       "\t<tr><td>560000500075                </td><td>WYOMING STATE HOSPITAL      </td><td>PO BOX 117                  </td><td>EVANSTON                    </td><td>WY                          </td><td>82931                       </td><td>0177                        </td><td>100                         </td><td>3077893464                  </td><td>N                           </td><td>Unknown                     </td><td>Non-MSA                     </td><td>4                           </td><td>Voc/Tech/Other              </td><td>4                           </td><td>Other                       </td><td>N                           </td><td>N                           </td></tr>\n",
       "\t<tr><td>560000900145                </td><td>CATHEDRAL HOME FOR CHILDREN </td><td>PO BOX 520                  </td><td>LARAMIE                     </td><td>WY                          </td><td>82073                       </td><td>0520                        </td><td>100                         </td><td>3077458997                  </td><td>5                           </td><td>Town                        </td><td>Non-MSA                     </td><td>4                           </td><td>Voc/Tech/Other              </td><td>4                           </td><td>Other                       </td><td>00                          </td><td>00                          </td></tr>\n",
       "\t<tr><td>560001000156                </td><td>ST. JOSEPH'S CHILDREN'S HOME</td><td>PO BOX 1117                 </td><td>TORRINGTON                  </td><td>WY                          </td><td>82240                       </td><td>1117                        </td><td> 46                         </td><td>3075324197                  </td><td>6                           </td><td>Town                        </td><td>Non-MSA                     </td><td>4                           </td><td>Voc/Tech/Other              </td><td>4                           </td><td>Other                       </td><td>01                          </td><td>12                          </td></tr>\n",
       "</tbody>\n",
       "</table>\n"
      ],
      "text/latex": [
       "\\begin{tabular}{r|llllllllllllllllll}\n",
       " NCESSchool & SchoolName & StreetAddr & City & State & ZipCode & Zip\\_4 & Enrollment & Telephone & Locale & LocaleDesc & MSA\\_Cat & SchoolType & TypeDesc & SchoolLeve & LevelDesc & LowestGrad & HighestGra\\\\\n",
       "\\hline\n",
       "\t 560000100047                 & WYOMING SCHOOL FOR THE DEAF  & 539 S PAYNE AVE              & CASPER                       & WY                           & 82609                        & 2649                         & 100                          & 3075774686                   & N                            & Unknown                      & Non-MSA                      & 2                            & Special Ed                   & 4                            & Other                        & N                            & N                           \\\\\n",
       "\t 560000300534                 & WYOMING GIRL'S SCHOOL        & P.O. BOX 868                 & SHERIDAN                     & WY                           & 82801                        & 0868                         &  54                          & 3076747476                   & 6                            & Town                         & Non-MSA                      & 4                            & Voc/Tech/Other               & 3                            & High                         & 07                           & 12                          \\\\\n",
       "\t 560000400538                 & WYOMING BOY'S SCHOOLS        & 1550 HIGHWAY 20 S            & WORLAND                      & WY                           & 82401                        & 9802                         &  70                          & 3073476144                   & 7                            & Rural                        & Non-MSA                      & 4                            & Voc/Tech/Other               & 3                            & High                         & 07                           & 12                          \\\\\n",
       "\t 560000500075                 & WYOMING STATE HOSPITAL       & PO BOX 117                   & EVANSTON                     & WY                           & 82931                        & 0177                         & 100                          & 3077893464                   & N                            & Unknown                      & Non-MSA                      & 4                            & Voc/Tech/Other               & 4                            & Other                        & N                            & N                           \\\\\n",
       "\t 560000900145                 & CATHEDRAL HOME FOR CHILDREN  & PO BOX 520                   & LARAMIE                      & WY                           & 82073                        & 0520                         & 100                          & 3077458997                   & 5                            & Town                         & Non-MSA                      & 4                            & Voc/Tech/Other               & 4                            & Other                        & 00                           & 00                          \\\\\n",
       "\t 560001000156                 & ST. JOSEPH'S CHILDREN'S HOME & PO BOX 1117                  & TORRINGTON                   & WY                           & 82240                        & 1117                         &  46                          & 3075324197                   & 6                            & Town                         & Non-MSA                      & 4                            & Voc/Tech/Other               & 4                            & Other                        & 01                           & 12                          \\\\\n",
       "\\end{tabular}\n"
      ],
      "text/markdown": [
       "\n",
       "NCESSchool | SchoolName | StreetAddr | City | State | ZipCode | Zip_4 | Enrollment | Telephone | Locale | LocaleDesc | MSA_Cat | SchoolType | TypeDesc | SchoolLeve | LevelDesc | LowestGrad | HighestGra | \n",
       "|---|---|---|---|---|---|\n",
       "| 560000100047                 | WYOMING SCHOOL FOR THE DEAF  | 539 S PAYNE AVE              | CASPER                       | WY                           | 82609                        | 2649                         | 100                          | 3075774686                   | N                            | Unknown                      | Non-MSA                      | 2                            | Special Ed                   | 4                            | Other                        | N                            | N                            | \n",
       "| 560000300534                 | WYOMING GIRL'S SCHOOL        | P.O. BOX 868                 | SHERIDAN                     | WY                           | 82801                        | 0868                         |  54                          | 3076747476                   | 6                            | Town                         | Non-MSA                      | 4                            | Voc/Tech/Other               | 3                            | High                         | 07                           | 12                           | \n",
       "| 560000400538                 | WYOMING BOY'S SCHOOLS        | 1550 HIGHWAY 20 S            | WORLAND                      | WY                           | 82401                        | 9802                         |  70                          | 3073476144                   | 7                            | Rural                        | Non-MSA                      | 4                            | Voc/Tech/Other               | 3                            | High                         | 07                           | 12                           | \n",
       "| 560000500075                 | WYOMING STATE HOSPITAL       | PO BOX 117                   | EVANSTON                     | WY                           | 82931                        | 0177                         | 100                          | 3077893464                   | N                            | Unknown                      | Non-MSA                      | 4                            | Voc/Tech/Other               | 4                            | Other                        | N                            | N                            | \n",
       "| 560000900145                 | CATHEDRAL HOME FOR CHILDREN  | PO BOX 520                   | LARAMIE                      | WY                           | 82073                        | 0520                         | 100                          | 3077458997                   | 5                            | Town                         | Non-MSA                      | 4                            | Voc/Tech/Other               | 4                            | Other                        | 00                           | 00                           | \n",
       "| 560001000156                 | ST. JOSEPH'S CHILDREN'S HOME | PO BOX 1117                  | TORRINGTON                   | WY                           | 82240                        | 1117                         |  46                          | 3075324197                   | 6                            | Town                         | Non-MSA                      | 4                            | Voc/Tech/Other               | 4                            | Other                        | 01                           | 12                           | \n",
       "\n",
       "\n"
      ],
      "text/plain": [
       "  NCESSchool   SchoolName                   StreetAddr        City       State\n",
       "1 560000100047 WYOMING SCHOOL FOR THE DEAF  539 S PAYNE AVE   CASPER     WY   \n",
       "2 560000300534 WYOMING GIRL'S SCHOOL        P.O. BOX 868      SHERIDAN   WY   \n",
       "3 560000400538 WYOMING BOY'S SCHOOLS        1550 HIGHWAY 20 S WORLAND    WY   \n",
       "4 560000500075 WYOMING STATE HOSPITAL       PO BOX 117        EVANSTON   WY   \n",
       "5 560000900145 CATHEDRAL HOME FOR CHILDREN  PO BOX 520        LARAMIE    WY   \n",
       "6 560001000156 ST. JOSEPH'S CHILDREN'S HOME PO BOX 1117       TORRINGTON WY   \n",
       "  ZipCode Zip_4 Enrollment Telephone  Locale LocaleDesc MSA_Cat SchoolType\n",
       "1 82609   2649  100        3075774686 N      Unknown    Non-MSA 2         \n",
       "2 82801   0868   54        3076747476 6      Town       Non-MSA 4         \n",
       "3 82401   9802   70        3073476144 7      Rural      Non-MSA 4         \n",
       "4 82931   0177  100        3077893464 N      Unknown    Non-MSA 4         \n",
       "5 82073   0520  100        3077458997 5      Town       Non-MSA 4         \n",
       "6 82240   1117   46        3075324197 6      Town       Non-MSA 4         \n",
       "  TypeDesc       SchoolLeve LevelDesc LowestGrad HighestGra\n",
       "1 Special Ed     4          Other     N          N         \n",
       "2 Voc/Tech/Other 3          High      07         12        \n",
       "3 Voc/Tech/Other 3          High      07         12        \n",
       "4 Voc/Tech/Other 4          Other     N          N         \n",
       "5 Voc/Tech/Other 4          Other     00         00        \n",
       "6 Voc/Tech/Other 4          Other     01         12        "
      ]
     },
     "metadata": {},
     "output_type": "display_data"
    }
   ],
   "source": [
    "head( df )"
   ]
  },
  {
   "cell_type": "markdown",
   "metadata": {},
   "source": [
    "### Munge"
   ]
  },
  {
   "cell_type": "code",
   "execution_count": 10,
   "metadata": {},
   "outputs": [
    {
     "data": {
      "text/html": [
       "<table>\n",
       "<thead><tr><th scope=col>Group.1</th><th scope=col>x</th></tr></thead>\n",
       "<tbody>\n",
       "\t<tr><td>82001</td><td>6326 </td></tr>\n",
       "\t<tr><td>82003</td><td>  56 </td></tr>\n",
       "\t<tr><td>82007</td><td>2750 </td></tr>\n",
       "\t<tr><td>82009</td><td>4183 </td></tr>\n",
       "\t<tr><td>82050</td><td> 117 </td></tr>\n",
       "\t<tr><td>82053</td><td> 382 </td></tr>\n",
       "</tbody>\n",
       "</table>\n"
      ],
      "text/latex": [
       "\\begin{tabular}{r|ll}\n",
       " Group.1 & x\\\\\n",
       "\\hline\n",
       "\t 82001 & 6326 \\\\\n",
       "\t 82003 &   56 \\\\\n",
       "\t 82007 & 2750 \\\\\n",
       "\t 82009 & 4183 \\\\\n",
       "\t 82050 &  117 \\\\\n",
       "\t 82053 &  382 \\\\\n",
       "\\end{tabular}\n"
      ],
      "text/markdown": [
       "\n",
       "Group.1 | x | \n",
       "|---|---|---|---|---|---|\n",
       "| 82001 | 6326  | \n",
       "| 82003 |   56  | \n",
       "| 82007 | 2750  | \n",
       "| 82009 | 4183  | \n",
       "| 82050 |  117  | \n",
       "| 82053 |  382  | \n",
       "\n",
       "\n"
      ],
      "text/plain": [
       "  Group.1 x   \n",
       "1 82001   6326\n",
       "2 82003     56\n",
       "3 82007   2750\n",
       "4 82009   4183\n",
       "5 82050    117\n",
       "6 82053    382"
      ]
     },
     "metadata": {},
     "output_type": "display_data"
    }
   ],
   "source": [
    "head( aggregate( df$Enrollment, list( df$ZipCode ), sum ) )"
   ]
  },
  {
   "cell_type": "code",
   "execution_count": 15,
   "metadata": {},
   "outputs": [
    {
     "data": {
      "text/plain": [
       "          \n",
       "           Regular Special Ed Voc/Tech/Other\n",
       "  AFTON          4          0              1\n",
       "  ALADDIN        1          0              0\n",
       "  ALBIN          2          0              0\n",
       "  ALCOVA         1          0              0\n",
       "  ARAPAHOE       1          0              0\n",
       "  BAGGS          1          0              0"
      ]
     },
     "metadata": {},
     "output_type": "display_data"
    }
   ],
   "source": [
    "head( table( df$City, df$TypeDesc ) )"
   ]
  },
  {
   "cell_type": "code",
   "execution_count": 18,
   "metadata": {},
   "outputs": [
    {
     "data": {
      "text/html": [
       "<table>\n",
       "<thead><tr><th scope=col>Group.1</th><th scope=col>Group.2</th><th scope=col>x</th></tr></thead>\n",
       "<tbody>\n",
       "\t<tr><td>AFTON   </td><td>Regular </td><td>1743    </td></tr>\n",
       "\t<tr><td>ALADDIN </td><td>Regular </td><td> 100    </td></tr>\n",
       "\t<tr><td>ALBIN   </td><td>Regular </td><td> 117    </td></tr>\n",
       "\t<tr><td>ALCOVA  </td><td>Regular </td><td>  13    </td></tr>\n",
       "\t<tr><td>ARAPAHOE</td><td>Regular </td><td> 294    </td></tr>\n",
       "\t<tr><td>BAGGS   </td><td>Regular </td><td> 172    </td></tr>\n",
       "</tbody>\n",
       "</table>\n"
      ],
      "text/latex": [
       "\\begin{tabular}{r|lll}\n",
       " Group.1 & Group.2 & x\\\\\n",
       "\\hline\n",
       "\t AFTON    & Regular  & 1743    \\\\\n",
       "\t ALADDIN  & Regular  &  100    \\\\\n",
       "\t ALBIN    & Regular  &  117    \\\\\n",
       "\t ALCOVA   & Regular  &   13    \\\\\n",
       "\t ARAPAHOE & Regular  &  294    \\\\\n",
       "\t BAGGS    & Regular  &  172    \\\\\n",
       "\\end{tabular}\n"
      ],
      "text/markdown": [
       "\n",
       "Group.1 | Group.2 | x | \n",
       "|---|---|---|---|---|---|\n",
       "| AFTON    | Regular  | 1743     | \n",
       "| ALADDIN  | Regular  |  100     | \n",
       "| ALBIN    | Regular  |  117     | \n",
       "| ALCOVA   | Regular  |   13     | \n",
       "| ARAPAHOE | Regular  |  294     | \n",
       "| BAGGS    | Regular  |  172     | \n",
       "\n",
       "\n"
      ],
      "text/plain": [
       "  Group.1  Group.2 x   \n",
       "1 AFTON    Regular 1743\n",
       "2 ALADDIN  Regular  100\n",
       "3 ALBIN    Regular  117\n",
       "4 ALCOVA   Regular   13\n",
       "5 ARAPAHOE Regular  294\n",
       "6 BAGGS    Regular  172"
      ]
     },
     "metadata": {},
     "output_type": "display_data"
    }
   ],
   "source": [
    "head( aggregate( df$Enrollment, list( df$City, df$TypeDesc ), sum ) )"
   ]
  }
 ],
 "metadata": {
  "kernelspec": {
   "display_name": "R",
   "language": "R",
   "name": "ir"
  },
  "language_info": {
   "codemirror_mode": "r",
   "file_extension": ".r",
   "mimetype": "text/x-r-source",
   "name": "R",
   "pygments_lexer": "r",
   "version": "3.4.3"
  }
 },
 "nbformat": 4,
 "nbformat_minor": 2
}
