{
 "cells": [
  {
   "cell_type": "markdown",
   "metadata": {},
   "source": [
    "### Libraries"
   ]
  },
  {
   "cell_type": "markdown",
   "metadata": {},
   "source": [
    "### Load data"
   ]
  },
  {
   "cell_type": "code",
   "execution_count": 1,
   "metadata": {},
   "outputs": [],
   "source": [
    "df <- readxl::read_excel( '../data/raw/cust-wtransactions.xlsx')"
   ]
  },
  {
   "cell_type": "code",
   "execution_count": 12,
   "metadata": {},
   "outputs": [
    {
     "data": {
      "text/html": [
       "<table>\n",
       "<thead><tr><th scope=col>customer_id</th><th scope=col>store_number</th><th scope=col>customer_segment_txt</th><th scope=col>first_name_txt</th><th scope=col>last_name_txt</th><th scope=col>address_txt</th><th scope=col>city_txt</th><th scope=col>state_txt</th><th scope=col>zip_txt</th><th scope=col>visits_no</th><th scope=col>spend_amt_no</th></tr></thead>\n",
       "<tbody>\n",
       "\t<tr><td>10                 </td><td>100                </td><td>Home Office        </td><td>PAMELA             </td><td>WRIGHT             </td><td>2316 E 5TH AVE     </td><td>DENVER             </td><td>CO                 </td><td>80206              </td><td>1                  </td><td> 206.95            </td></tr>\n",
       "\t<tr><td>100                </td><td>100                </td><td>Consumer           </td><td>MELISSA            </td><td>RUFF               </td><td>2753 S MILWAUKEE ST</td><td>DENVER             </td><td>CO                 </td><td>80210              </td><td>1                  </td><td> 228.27            </td></tr>\n",
       "\t<tr><td>1000               </td><td>104                </td><td>Small Business     </td><td>CONSTANTI          </td><td>VLASSIS            </td><td>16911 E HARVARD AVE</td><td>AURORA             </td><td>CO                 </td><td>80013              </td><td>1                  </td><td> 432.44            </td></tr>\n",
       "\t<tr><td>1002               </td><td>104                </td><td>Home Office        </td><td>AMY                </td><td>LOCKEMER           </td><td>3721 S PITKIN CT   </td><td>AURORA             </td><td>CO                 </td><td>80013              </td><td>4                  </td><td>2101.11            </td></tr>\n",
       "\t<tr><td>1003               </td><td>101                </td><td>Home Office        </td><td>DANELL             </td><td>VALDEZ             </td><td>2925 W COLLEGE AVE </td><td>DENVER             </td><td>CO                 </td><td>80219              </td><td>1                  </td><td>1404.09            </td></tr>\n",
       "\t<tr><td>1005               </td><td>107                </td><td>Small Business     </td><td>JESSICA            </td><td>RINEHART           </td><td>4220 W 35TH AVE    </td><td>DENVER             </td><td>CO                 </td><td>80212              </td><td>2                  </td><td> 962.61            </td></tr>\n",
       "</tbody>\n",
       "</table>\n"
      ],
      "text/latex": [
       "\\begin{tabular}{r|lllllllllll}\n",
       " customer\\_id & store\\_number & customer\\_segment\\_txt & first\\_name\\_txt & last\\_name\\_txt & address\\_txt & city\\_txt & state\\_txt & zip\\_txt & visits\\_no & spend\\_amt\\_no\\\\\n",
       "\\hline\n",
       "\t 10                  & 100                 & Home Office         & PAMELA              & WRIGHT              & 2316 E 5TH AVE      & DENVER              & CO                  & 80206               & 1                   &  206.95            \\\\\n",
       "\t 100                 & 100                 & Consumer            & MELISSA             & RUFF                & 2753 S MILWAUKEE ST & DENVER              & CO                  & 80210               & 1                   &  228.27            \\\\\n",
       "\t 1000                & 104                 & Small Business      & CONSTANTI           & VLASSIS             & 16911 E HARVARD AVE & AURORA              & CO                  & 80013               & 1                   &  432.44            \\\\\n",
       "\t 1002                & 104                 & Home Office         & AMY                 & LOCKEMER            & 3721 S PITKIN CT    & AURORA              & CO                  & 80013               & 4                   & 2101.11            \\\\\n",
       "\t 1003                & 101                 & Home Office         & DANELL              & VALDEZ              & 2925 W COLLEGE AVE  & DENVER              & CO                  & 80219               & 1                   & 1404.09            \\\\\n",
       "\t 1005                & 107                 & Small Business      & JESSICA             & RINEHART            & 4220 W 35TH AVE     & DENVER              & CO                  & 80212               & 2                   &  962.61            \\\\\n",
       "\\end{tabular}\n"
      ],
      "text/markdown": [
       "\n",
       "customer_id | store_number | customer_segment_txt | first_name_txt | last_name_txt | address_txt | city_txt | state_txt | zip_txt | visits_no | spend_amt_no | \n",
       "|---|---|---|---|---|---|\n",
       "| 10                  | 100                 | Home Office         | PAMELA              | WRIGHT              | 2316 E 5TH AVE      | DENVER              | CO                  | 80206               | 1                   |  206.95             | \n",
       "| 100                 | 100                 | Consumer            | MELISSA             | RUFF                | 2753 S MILWAUKEE ST | DENVER              | CO                  | 80210               | 1                   |  228.27             | \n",
       "| 1000                | 104                 | Small Business      | CONSTANTI           | VLASSIS             | 16911 E HARVARD AVE | AURORA              | CO                  | 80013               | 1                   |  432.44             | \n",
       "| 1002                | 104                 | Home Office         | AMY                 | LOCKEMER            | 3721 S PITKIN CT    | AURORA              | CO                  | 80013               | 4                   | 2101.11             | \n",
       "| 1003                | 101                 | Home Office         | DANELL              | VALDEZ              | 2925 W COLLEGE AVE  | DENVER              | CO                  | 80219               | 1                   | 1404.09             | \n",
       "| 1005                | 107                 | Small Business      | JESSICA             | RINEHART            | 4220 W 35TH AVE     | DENVER              | CO                  | 80212               | 2                   |  962.61             | \n",
       "\n",
       "\n"
      ],
      "text/plain": [
       "  customer_id store_number customer_segment_txt first_name_txt last_name_txt\n",
       "1 10          100          Home Office          PAMELA         WRIGHT       \n",
       "2 100         100          Consumer             MELISSA        RUFF         \n",
       "3 1000        104          Small Business       CONSTANTI      VLASSIS      \n",
       "4 1002        104          Home Office          AMY            LOCKEMER     \n",
       "5 1003        101          Home Office          DANELL         VALDEZ       \n",
       "6 1005        107          Small Business       JESSICA        RINEHART     \n",
       "  address_txt         city_txt state_txt zip_txt visits_no spend_amt_no\n",
       "1 2316 E 5TH AVE      DENVER   CO        80206   1          206.95     \n",
       "2 2753 S MILWAUKEE ST DENVER   CO        80210   1          228.27     \n",
       "3 16911 E HARVARD AVE AURORA   CO        80013   1          432.44     \n",
       "4 3721 S PITKIN CT    AURORA   CO        80013   4         2101.11     \n",
       "5 2925 W COLLEGE AVE  DENVER   CO        80219   1         1404.09     \n",
       "6 4220 W 35TH AVE     DENVER   CO        80212   2          962.61     "
      ]
     },
     "metadata": {},
     "output_type": "display_data"
    }
   ],
   "source": [
    "head( df )"
   ]
  },
  {
   "cell_type": "code",
   "execution_count": 8,
   "metadata": {},
   "outputs": [],
   "source": [
    "names( df ) <- c( 'customer_id'\n",
    "                , 'store_number'\n",
    "                , 'customer_segment_txt'\n",
    "                , 'first_name_txt'\n",
    "                , 'last_name_txt'\n",
    "                , 'address_txt'\n",
    "                , 'city_txt'\n",
    "                , 'state_txt'\n",
    "                , 'zip_txt'\n",
    "                , 'visits_no'\n",
    "                , 'spend_amt_no' )"
   ]
  },
  {
   "cell_type": "markdown",
   "metadata": {},
   "source": [
    "### How many customers fall into each customer segment in Denver?"
   ]
  },
  {
   "cell_type": "code",
   "execution_count": 41,
   "metadata": {},
   "outputs": [
    {
     "data": {
      "text/plain": [
       "\n",
       "     Corporate    Home Office Small Business       Consumer \n",
       "           390            294            256            226 "
      ]
     },
     "metadata": {},
     "output_type": "display_data"
    }
   ],
   "source": [
    "sum <- table( df[df$city_txt == 'DENVER',]$customer_segment_txt )\n",
    "sum[order(-sum)]"
   ]
  },
  {
   "cell_type": "markdown",
   "metadata": {},
   "source": [
    "### How many stores have more than 300 customers?"
   ]
  },
  {
   "cell_type": "code",
   "execution_count": 65,
   "metadata": {},
   "outputs": [
    {
     "data": {
      "text/html": [
       "5"
      ],
      "text/latex": [
       "5"
      ],
      "text/markdown": [
       "5"
      ],
      "text/plain": [
       "[1] 5"
      ]
     },
     "metadata": {},
     "output_type": "display_data"
    }
   ],
   "source": [
    "tbl <- data.frame( table( df$store_number ) )\n",
    "sum( as.numeric( tbl[,2] > 300 ) )"
   ]
  },
  {
   "cell_type": "markdown",
   "metadata": {},
   "source": [
    "### Which city has the most customers?"
   ]
  },
  {
   "cell_type": "code",
   "execution_count": 64,
   "metadata": {},
   "outputs": [
    {
     "data": {
      "text/html": [
       "<table>\n",
       "<thead><tr><th></th><th scope=col>Var1</th><th scope=col>Freq</th></tr></thead>\n",
       "<tbody>\n",
       "\t<tr><th scope=row>8</th><td>DENVER       </td><td>1166         </td></tr>\n",
       "\t<tr><th scope=row>2</th><td>AURORA       </td><td> 609         </td></tr>\n",
       "\t<tr><th scope=row>1</th><td>ARVADA       </td><td> 271         </td></tr>\n",
       "\t<tr><th scope=row>5</th><td>BROOMFIELD   </td><td> 161         </td></tr>\n",
       "\t<tr><th scope=row>13</th><td>LITTLETON    </td><td> 128         </td></tr>\n",
       "\t<tr><th scope=row>9</th><td>ENGLEWOOD    </td><td>  93         </td></tr>\n",
       "\t<tr><th scope=row>19</th><td>WESTMINSTER  </td><td>  67         </td></tr>\n",
       "\t<tr><th scope=row>20</th><td>WHEAT RIDGE  </td><td>  52         </td></tr>\n",
       "\t<tr><th scope=row>17</th><td>PARKER       </td><td>  31         </td></tr>\n",
       "\t<tr><th scope=row>10</th><td>GOLDEN       </td><td>  25         </td></tr>\n",
       "\t<tr><th scope=row>7</th><td>COMMERCE CITY</td><td>  14         </td></tr>\n",
       "\t<tr><th scope=row>15</th><td>LOUISVILLE   </td><td>  14         </td></tr>\n",
       "\t<tr><th scope=row>18</th><td>THORNTON     </td><td>  12         </td></tr>\n",
       "\t<tr><th scope=row>16</th><td>MORRISON     </td><td>   7         </td></tr>\n",
       "\t<tr><th scope=row>12</th><td>LAFAYETTE    </td><td>   5         </td></tr>\n",
       "\t<tr><th scope=row>4</th><td>BRIGHTON     </td><td>   4         </td></tr>\n",
       "\t<tr><th scope=row>3</th><td>BOULDER      </td><td>   3         </td></tr>\n",
       "\t<tr><th scope=row>6</th><td>CASTLE ROCK  </td><td>   3         </td></tr>\n",
       "\t<tr><th scope=row>14</th><td>LONE TREE    </td><td>   3         </td></tr>\n",
       "\t<tr><th scope=row>11</th><td>HENDERSON    </td><td>   1         </td></tr>\n",
       "</tbody>\n",
       "</table>\n"
      ],
      "text/latex": [
       "\\begin{tabular}{r|ll}\n",
       "  & Var1 & Freq\\\\\n",
       "\\hline\n",
       "\t8 & DENVER        & 1166         \\\\\n",
       "\t2 & AURORA        &  609         \\\\\n",
       "\t1 & ARVADA        &  271         \\\\\n",
       "\t5 & BROOMFIELD    &  161         \\\\\n",
       "\t13 & LITTLETON     &  128         \\\\\n",
       "\t9 & ENGLEWOOD     &   93         \\\\\n",
       "\t19 & WESTMINSTER   &   67         \\\\\n",
       "\t20 & WHEAT RIDGE   &   52         \\\\\n",
       "\t17 & PARKER        &   31         \\\\\n",
       "\t10 & GOLDEN        &   25         \\\\\n",
       "\t7 & COMMERCE CITY &   14         \\\\\n",
       "\t15 & LOUISVILLE    &   14         \\\\\n",
       "\t18 & THORNTON      &   12         \\\\\n",
       "\t16 & MORRISON      &    7         \\\\\n",
       "\t12 & LAFAYETTE     &    5         \\\\\n",
       "\t4 & BRIGHTON      &    4         \\\\\n",
       "\t3 & BOULDER       &    3         \\\\\n",
       "\t6 & CASTLE ROCK   &    3         \\\\\n",
       "\t14 & LONE TREE     &    3         \\\\\n",
       "\t11 & HENDERSON     &    1         \\\\\n",
       "\\end{tabular}\n"
      ],
      "text/markdown": [
       "\n",
       "| <!--/--> | Var1 | Freq | \n",
       "|---|---|---|---|---|---|---|---|---|---|---|---|---|---|---|---|---|---|---|---|\n",
       "| 8 | DENVER        | 1166          | \n",
       "| 2 | AURORA        |  609          | \n",
       "| 1 | ARVADA        |  271          | \n",
       "| 5 | BROOMFIELD    |  161          | \n",
       "| 13 | LITTLETON     |  128          | \n",
       "| 9 | ENGLEWOOD     |   93          | \n",
       "| 19 | WESTMINSTER   |   67          | \n",
       "| 20 | WHEAT RIDGE   |   52          | \n",
       "| 17 | PARKER        |   31          | \n",
       "| 10 | GOLDEN        |   25          | \n",
       "| 7 | COMMERCE CITY |   14          | \n",
       "| 15 | LOUISVILLE    |   14          | \n",
       "| 18 | THORNTON      |   12          | \n",
       "| 16 | MORRISON      |    7          | \n",
       "| 12 | LAFAYETTE     |    5          | \n",
       "| 4 | BRIGHTON      |    4          | \n",
       "| 3 | BOULDER       |    3          | \n",
       "| 6 | CASTLE ROCK   |    3          | \n",
       "| 14 | LONE TREE     |    3          | \n",
       "| 11 | HENDERSON     |    1          | \n",
       "\n",
       "\n"
      ],
      "text/plain": [
       "   Var1          Freq\n",
       "8  DENVER        1166\n",
       "2  AURORA         609\n",
       "1  ARVADA         271\n",
       "5  BROOMFIELD     161\n",
       "13 LITTLETON      128\n",
       "9  ENGLEWOOD       93\n",
       "19 WESTMINSTER     67\n",
       "20 WHEAT RIDGE     52\n",
       "17 PARKER          31\n",
       "10 GOLDEN          25\n",
       "7  COMMERCE CITY   14\n",
       "15 LOUISVILLE      14\n",
       "18 THORNTON        12\n",
       "16 MORRISON         7\n",
       "12 LAFAYETTE        5\n",
       "4  BRIGHTON         4\n",
       "3  BOULDER          3\n",
       "6  CASTLE ROCK      3\n",
       "14 LONE TREE        3\n",
       "11 HENDERSON        1"
      ]
     },
     "metadata": {},
     "output_type": "display_data"
    }
   ],
   "source": [
    "df.city <- data.frame( table( df$city_txt ) )\n",
    "df.city[order(-df.city$Freq),]"
   ]
  }
 ],
 "metadata": {
  "kernelspec": {
   "display_name": "R",
   "language": "R",
   "name": "ir"
  },
  "language_info": {
   "codemirror_mode": "r",
   "file_extension": ".r",
   "mimetype": "text/x-r-source",
   "name": "R",
   "pygments_lexer": "r",
   "version": "3.4.3"
  }
 },
 "nbformat": 4,
 "nbformat_minor": 2
}
